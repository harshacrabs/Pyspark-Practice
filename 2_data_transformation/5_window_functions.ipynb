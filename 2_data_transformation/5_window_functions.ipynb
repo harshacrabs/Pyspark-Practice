{
 "cells": [
  {
   "cell_type": "markdown",
   "id": "0b338884-4430-4d04-b898-2fcd5d0e9da5",
   "metadata": {},
   "source": [
    "## Import libraries"
   ]
  },
  {
   "cell_type": "code",
   "execution_count": 7,
   "id": "70268fbf-2261-49d5-89ce-438a04aadd1b",
   "metadata": {},
   "outputs": [],
   "source": [
    "from pyspark.sql import SparkSession\n",
    "from pyspark.sql.functions import col,row_number, lead, lag, count, avg\n",
    "from pyspark.sql.window import Window"
   ]
  },
  {
   "cell_type": "markdown",
   "id": "50dfc093-47d3-433f-8a51-80f15b3154ae",
   "metadata": {},
   "source": [
    "## Create spark session object"
   ]
  },
  {
   "cell_type": "code",
   "execution_count": 2,
   "id": "c065a8e1-933d-4830-9955-418348d41383",
   "metadata": {},
   "outputs": [
    {
     "name": "stderr",
     "output_type": "stream",
     "text": [
      "Setting default log level to \"WARN\".\n",
      "To adjust logging level use sc.setLogLevel(newLevel). For SparkR, use setLogLevel(newLevel).\n",
      "25/04/22 18:36:48 WARN NativeCodeLoader: Unable to load native-hadoop library for your platform... using builtin-java classes where applicable\n"
     ]
    }
   ],
   "source": [
    "spark = (SparkSession.builder\n",
    "         .appName(\"apply-window-functions\")\n",
    "         .master(\"spark://spark-master:7077\")\n",
    "         .config(\"spark.executor.memory\", \"512m\")\n",
    "         .getOrCreate()\n",
    "        )\n",
    "\n",
    "spark.sparkContext.setLogLevel(\"ERROR\")\n"
   ]
  },
  {
   "cell_type": "markdown",
   "id": "b6ca45e5-9063-4a9f-8ee8-febdd22d8f98",
   "metadata": {},
   "source": [
    "## Read the data"
   ]
  },
  {
   "cell_type": "code",
   "execution_count": 4,
   "id": "d6f04ddd-0e18-4a37-9ba9-6b797dc93623",
   "metadata": {},
   "outputs": [
    {
     "name": "stderr",
     "output_type": "stream",
     "text": [
      "                                                                                \r"
     ]
    }
   ],
   "source": [
    "df = (spark.read.format(\"csv\")\n",
    "      .option(\"header\", \"true\")\n",
    "      .option(\"nullValue\", \"null\")\n",
    "      .option(\"dateFormat\", \"LLLL d, y\")\n",
    "      .load(\"../../data/netflix_titles.csv\")\n",
    "     )\n",
    "\n"
   ]
  },
  {
   "cell_type": "code",
   "execution_count": 5,
   "id": "5f408537-0adf-4b59-9608-9562f582a277",
   "metadata": {},
   "outputs": [
    {
     "name": "stdout",
     "output_type": "stream",
     "text": [
      "root\n",
      " |-- show_id: string (nullable = true)\n",
      " |-- type: string (nullable = true)\n",
      " |-- title: string (nullable = true)\n",
      " |-- director: string (nullable = true)\n",
      " |-- cast: string (nullable = true)\n",
      " |-- country: string (nullable = true)\n",
      " |-- date_added: string (nullable = true)\n",
      " |-- release_year: string (nullable = true)\n",
      " |-- rating: string (nullable = true)\n",
      " |-- duration: string (nullable = true)\n",
      " |-- listed_in: string (nullable = true)\n",
      " |-- description: string (nullable = true)\n",
      "\n"
     ]
    }
   ],
   "source": [
    "df.printSchema()"
   ]
  },
  {
   "cell_type": "markdown",
   "id": "cafeea78-fc47-456d-b6f9-0f1318ea78b6",
   "metadata": {},
   "source": [
    "## Define a window specification"
   ]
  },
  {
   "cell_type": "raw",
   "id": "d624edd9-1d3e-439f-b2a0-ac61fee150ba",
   "metadata": {},
   "source": [
    "Before using any window function, we need to define a window specification that specifies how to partition\n",
    "and order the data for computation"
   ]
  },
  {
   "cell_type": "code",
   "execution_count": 8,
   "id": "474e4c7e-3889-41a0-86eb-9894bdcf6a83",
   "metadata": {},
   "outputs": [],
   "source": [
    "window_spec = Window.partitionBy(\"country\").orderBy(\"date_added\")"
   ]
  },
  {
   "cell_type": "markdown",
   "id": "637b6788-e4b1-411b-a379-21bf3c58574e",
   "metadata": {},
   "source": [
    "## Using the row_number window function"
   ]
  },
  {
   "cell_type": "raw",
   "id": "b8e05635-7d87-4330-b062-96a15e2613ee",
   "metadata": {},
   "source": [
    "row_number() assigns a unique sequential integer to each row within a partition.\n",
    "\n",
    "It is used for tasks such as generating row identifiers or creating rankings based on certain criteria. "
   ]
  },
  {
   "cell_type": "code",
   "execution_count": 13,
   "id": "94965035-4cf9-47d9-aa3e-9550edf78437",
   "metadata": {},
   "outputs": [
    {
     "name": "stdout",
     "output_type": "stream",
     "text": [
      "+------------------------------------------------------------+-------+------------------+----------+\n",
      "|title                                                       |country|date_added        |row_number|\n",
      "+------------------------------------------------------------+-------+------------------+----------+\n",
      "|Kikoriki                                                    |null   |null              |1         |\n",
      "|Fit for Fashion                                             |null   | December 14, 2018|2         |\n",
      "|Lego Friends                                                |null   | February 1, 2019 |3         |\n",
      "|Nightmare Tenants, Slum Landlords                           |null   | July 12, 2019    |4         |\n",
      "|Satrangi                                                    |null   |April 1, 2017     |5         |\n",
      "|Buddha                                                      |null   |April 1, 2018     |6         |\n",
      "|Fishpeople                                                  |null   |April 1, 2018     |7         |\n",
      "|Kicko & Super Speedo                                        |null   |April 1, 2019     |8         |\n",
      "|Pokémon the Series                                          |null   |April 1, 2020     |9         |\n",
      "|Operation Odessa                                            |null   |April 1, 2020     |10        |\n",
      "|Glimpses of a Future                                        |null   |April 1, 2021     |11        |\n",
      "|Seven Souls in the Skull Castle: Season Bird                |null   |April 1, 2021     |12        |\n",
      "|Seven Souls in the Skull Castle: Season Wind                |null   |April 1, 2021     |13        |\n",
      "|Don't be the First one                                      |null   |April 11, 2021    |14        |\n",
      "|Club Friday To Be Continued - My Beautiful Tomboy           |null   |April 13, 2018    |15        |\n",
      "|O-Negative, Love Can’t Be Designed                          |null   |April 13, 2018    |16        |\n",
      "|Motu Patlu in Hong Kong: Kung Fu Kings 3                    |null   |April 13, 2021    |17        |\n",
      "|Motu Patlu in the City of Gold                              |null   |April 13, 2021    |18        |\n",
      "|Motu Patlu Kung Fu Kings 4 The Challenge of Kung Fu Brothers|null   |April 13, 2021    |19        |\n",
      "|Motu Patlu the Superheroes – Super Villains from Mars       |null   |April 13, 2021    |20        |\n",
      "+------------------------------------------------------------+-------+------------------+----------+\n",
      "only showing top 20 rows\n",
      "\n"
     ]
    }
   ],
   "source": [
    "result = df.withColumn(\"row_number\", row_number().over(window_spec))\n",
    "\n",
    "result.select(\"title\", \"country\", \"date_added\",\"row_number\").show(truncate=False)"
   ]
  },
  {
   "cell_type": "raw",
   "id": "4b636382-fcf8-452e-9591-e4e3362451e2",
   "metadata": {},
   "source": [
    "Note:\n",
    "\n",
    "row_number() is a non-deterministic function , meaning the order of rows within a partition may vary accross\n",
    "different executions of the same query.\n",
    "\n",
    "If we require a stable order, we can use other functions like \"rank\" or \"dense_rank\""
   ]
  },
  {
   "cell_type": "markdown",
   "id": "77793e48-02df-4533-96cc-468ad77c984b",
   "metadata": {},
   "source": [
    "## Use the lag or lead window functions"
   ]
  },
  {
   "cell_type": "raw",
   "id": "fa38e4a4-0243-4fe7-be5b-44757702f978",
   "metadata": {},
   "source": [
    "Useful for tasks such as computing the difference between consecutive values \n",
    "or comparing values accross adjacent rows"
   ]
  },
  {
   "cell_type": "raw",
   "id": "4b91247a-33a3-46a2-8b71-82966f8ee659",
   "metadata": {},
   "source": [
    "The lead/lag functions retrieve the value of a column from the next row/previous row within a partition.\n",
    "It takes 2 arguments- the column to retrieve and the number of rows to look ahead.\n",
    "If the specified number of rows exceed the partition boundary, it returns null."
   ]
  },
  {
   "cell_type": "markdown",
   "id": "83387041-809c-4d4a-b221-65bf15c1815d",
   "metadata": {},
   "source": [
    "## Add lead function"
   ]
  },
  {
   "cell_type": "code",
   "execution_count": 22,
   "id": "07697eab-4a14-4b88-a3e4-c1373a60f638",
   "metadata": {},
   "outputs": [
    {
     "ename": "TypeError",
     "evalue": "'Column' object is not callable",
     "output_type": "error",
     "traceback": [
      "\u001b[0;31m---------------------------------------------------------------------------\u001b[0m",
      "\u001b[0;31mTypeError\u001b[0m                                 Traceback (most recent call last)",
      "Cell \u001b[0;32mIn[22], line 2\u001b[0m\n\u001b[1;32m      1\u001b[0m df \u001b[38;5;241m=\u001b[39m (df\u001b[38;5;241m.\u001b[39mwithColumn(\u001b[38;5;124m\"\u001b[39m\u001b[38;5;124mlead_date_added\u001b[39m\u001b[38;5;124m\"\u001b[39m,\u001b[43mlead\u001b[49m\u001b[43m(\u001b[49m\u001b[38;5;124;43m\"\u001b[39;49m\u001b[38;5;124;43mdate_added\u001b[39;49m\u001b[38;5;124;43m\"\u001b[39;49m\u001b[43m,\u001b[49m\u001b[38;5;241;43m1\u001b[39;49m\u001b[43m)\u001b[49m\u001b[38;5;241;43m.\u001b[39;49m\u001b[43mover\u001b[49m\u001b[43m(\u001b[49m\u001b[43mwindow_spec\u001b[49m\u001b[43m)\u001b[49m\n\u001b[0;32m----> 2\u001b[0m \u001b[43m                    \u001b[49m\u001b[38;5;241;43m.\u001b[39;49m\u001b[43mfilter\u001b[49m\u001b[43m(\u001b[49m\u001b[38;5;124;43m\"\u001b[39;49m\u001b[38;5;124;43mcountry\u001b[39;49m\u001b[38;5;124;43m\"\u001b[39;49m\u001b[43m)\u001b[49m\u001b[38;5;241m.\u001b[39misNotNull()\n\u001b[1;32m      3\u001b[0m                    ))\n\u001b[1;32m      6\u001b[0m df\u001b[38;5;241m.\u001b[39mselect(\u001b[38;5;124m\"\u001b[39m\u001b[38;5;124mtitle\u001b[39m\u001b[38;5;124m\"\u001b[39m, \u001b[38;5;124m\"\u001b[39m\u001b[38;5;124mcountry\u001b[39m\u001b[38;5;124m\"\u001b[39m,\u001b[38;5;124m\"\u001b[39m\u001b[38;5;124mdate_added\u001b[39m\u001b[38;5;124m\"\u001b[39m, \u001b[38;5;124m\"\u001b[39m\u001b[38;5;124mlead_date_added\u001b[39m\u001b[38;5;124m\"\u001b[39m)\u001b[38;5;241m.\u001b[39mshow()\n",
      "\u001b[0;31mTypeError\u001b[0m: 'Column' object is not callable"
     ]
    }
   ],
   "source": [
    "df = (df.withColumn(\"lead_date_added\",lead(\"date_added\",1).over(window_spec)\n",
    "                    .filter(\"country\").isNotNull()\n",
    "                   ))\n",
    "                    \n",
    "\n",
    "df.select(\"title\", \"country\",\"date_added\", \"lead_date_added\").show()\n",
    "\n",
    "                                           \n",
    "                   "
   ]
  },
  {
   "cell_type": "markdown",
   "id": "69736f1c-7730-4c02-a6f9-e6daea88aa6b",
   "metadata": {},
   "source": [
    "## Repositioning of the columns"
   ]
  },
  {
   "cell_type": "raw",
   "id": "9e27d0b4-e16d-4b93-9443-60c328266dd6",
   "metadata": {},
   "source": [
    "from pyspark.sql.functions import lead, col\n",
    "from pyspark.sql.window import Window\n",
    "\n",
    "# 1. compute your lead column\n",
    "window_spec = Window.orderBy(\"some_ordering_col\")   # whatever your ordering is\n",
    "df2 = df.withColumn(\"lead_date_added\", lead(\"date_added\", 1).over(window_spec))\n",
    "\n",
    "# 2. figure out the position of date_added\n",
    "all_cols = df2.columns\n",
    "pos = all_cols.index(\"date_added\")  # 0‑based index of date_added\n",
    "\n",
    "# 3. build a new column list with lead_date_added right after date_added\n",
    "new_col_order = (\n",
    "    all_cols[: pos + 1]             # everything up through date_added\n",
    "  + [\"lead_date_added\"]             # insert the new col\n",
    "  + all_cols[pos + 1 :]             # then the rest\n",
    ")\n",
    "\n",
    "# 4. select in that order\n",
    "df2 = df2.select(*new_col_order)\n",
    "\n",
    "# now df2.columns will have 'lead_date_added' immediately after 'date_added'\n",
    "df2.show()"
   ]
  },
  {
   "cell_type": "markdown",
   "id": "f6aea3b2-e352-49a7-861e-18d9eba25e11",
   "metadata": {},
   "source": [
    "## Adding lag column"
   ]
  },
  {
   "cell_type": "code",
   "execution_count": 19,
   "id": "49c1fa3c-7d55-4fc2-8093-e8b0057a5385",
   "metadata": {},
   "outputs": [
    {
     "name": "stdout",
     "output_type": "stream",
     "text": [
      "+--------------------+-------+------------------+------------------+------------------+\n",
      "|               title|country|        date_added|   lead_date_added|    lag_date_added|\n",
      "+--------------------+-------+------------------+------------------+------------------+\n",
      "|            Kikoriki|   null|              null| December 14, 2018|              null|\n",
      "|     Fit for Fashion|   null| December 14, 2018|  February 1, 2019|              null|\n",
      "|        Lego Friends|   null|  February 1, 2019|     July 12, 2019| December 14, 2018|\n",
      "|Nightmare Tenants...|   null|     July 12, 2019|     April 1, 2017|  February 1, 2019|\n",
      "|            Satrangi|   null|     April 1, 2017|     April 1, 2018|     July 12, 2019|\n",
      "|              Buddha|   null|     April 1, 2018|     April 1, 2018|     April 1, 2017|\n",
      "|          Fishpeople|   null|     April 1, 2018|     April 1, 2019|     April 1, 2018|\n",
      "|Kicko & Super Speedo|   null|     April 1, 2019|     April 1, 2020|     April 1, 2018|\n",
      "|  Pokémon the Series|   null|     April 1, 2020|     April 1, 2020|     April 1, 2019|\n",
      "|    Operation Odessa|   null|     April 1, 2020|     April 1, 2021|     April 1, 2020|\n",
      "|Glimpses of a Future|   null|     April 1, 2021|     April 1, 2021|     April 1, 2020|\n",
      "|Seven Souls in th...|   null|     April 1, 2021|     April 1, 2021|     April 1, 2021|\n",
      "|Seven Souls in th...|   null|     April 1, 2021|    April 11, 2021|     April 1, 2021|\n",
      "|Don't be the Firs...|   null|    April 11, 2021|    April 13, 2018|     April 1, 2021|\n",
      "|Club Friday To Be...|   null|    April 13, 2018|    April 13, 2018|    April 11, 2021|\n",
      "|O-Negative, Love ...|   null|    April 13, 2018|    April 13, 2021|    April 13, 2018|\n",
      "|Motu Patlu in Hon...|   null|    April 13, 2021|    April 13, 2021|    April 13, 2018|\n",
      "|Motu Patlu in the...|   null|    April 13, 2021|    April 13, 2021|    April 13, 2021|\n",
      "|Motu Patlu Kung F...|   null|    April 13, 2021|    April 13, 2021|    April 13, 2021|\n",
      "|Motu Patlu the Su...|   null|    April 13, 2021|    April 13, 2021|    April 13, 2021|\n",
      "+--------------------+-------+------------------+------------------+------------------+\n",
      "only showing top 20 rows\n",
      "\n"
     ]
    }
   ],
   "source": [
    "new_col_order = [\"title\",\"country\", \"date_added\", \"lead_date_added\", \"lag_date_added\"]\n",
    "\n",
    "df = df.withColumn(\"lag_date_added\", lag(\"date_added\").over(window_spec))\n",
    "\n",
    "df.select(*new_col_order).show()"
   ]
  },
  {
   "cell_type": "code",
   "execution_count": null,
   "id": "01feafd1-382d-45ff-8f34-5dea42f7f5c3",
   "metadata": {},
   "outputs": [],
   "source": []
  }
 ],
 "metadata": {
  "kernelspec": {
   "display_name": "Python 3 (ipykernel)",
   "language": "python",
   "name": "python3"
  },
  "language_info": {
   "codemirror_mode": {
    "name": "ipython",
    "version": 3
   },
   "file_extension": ".py",
   "mimetype": "text/x-python",
   "name": "python",
   "nbconvert_exporter": "python",
   "pygments_lexer": "ipython3",
   "version": "3.10.12"
  }
 },
 "nbformat": 4,
 "nbformat_minor": 5
}
