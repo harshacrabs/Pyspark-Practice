{
 "cells": [
  {
   "cell_type": "markdown",
   "id": "0b18c9fb-0a75-4181-bfac-340d80e4cc01",
   "metadata": {},
   "source": [
    "## Import libraries"
   ]
  },
  {
   "cell_type": "code",
   "execution_count": 1,
   "id": "b5d81cf0-0e80-4490-ab74-6481ae3fdd0e",
   "metadata": {},
   "outputs": [],
   "source": [
    "from pyspark.sql import SparkSession\n",
    "from pyspark.sql.functions import col, max,min,count,approx_count_distinct\n",
    "from pyspark.sql.types import StructType, StructField, StringType, IntegerType, DateType"
   ]
  },
  {
   "cell_type": "markdown",
   "id": "7200f3bf-652e-4865-816b-c6571a9efa27",
   "metadata": {},
   "source": [
    "## Create SparkSession object"
   ]
  },
  {
   "cell_type": "code",
   "execution_count": 2,
   "id": "8fa25a55-acee-405f-9760-c0b0aa57f890",
   "metadata": {},
   "outputs": [
    {
     "name": "stderr",
     "output_type": "stream",
     "text": [
      "Setting default log level to \"WARN\".\n",
      "To adjust logging level use sc.setLogLevel(newLevel). For SparkR, use setLogLevel(newLevel).\n",
      "25/04/17 10:56:50 WARN NativeCodeLoader: Unable to load native-hadoop library for your platform... using builtin-java classes where applicable\n"
     ]
    }
   ],
   "source": [
    "spark = (SparkSession.builder\n",
    "         .appName(\"aggregations-in-pyspark\")\n",
    "         .master(\"spark://spark-master:7077\")\n",
    "         .config(\"spark.executor.memory\", \"512m\")\n",
    "         .getOrCreate()\n",
    "        )\n",
    "\n",
    "spark.sparkContext.setLogLevel(\"ERROR\")\n",
    "\n",
    "    \n",
    "    "
   ]
  },
  {
   "cell_type": "markdown",
   "id": "91d78fb0-828b-4851-8d88-9287177c3fca",
   "metadata": {},
   "source": [
    "## Read the data"
   ]
  },
  {
   "cell_type": "code",
   "execution_count": 3,
   "id": "bf1532df-1774-4356-ae17-1a13bd82372b",
   "metadata": {},
   "outputs": [],
   "source": [
    "df = (spark.read.format(\"csv\")\n",
    "      .option(\"header\",\"true\")\n",
    "      .option(\"nullValue\", \"null\")\n",
    "      .option(\"dateFormat\", \"LLLL d, y\")\n",
    "      .load(\"../../data/netflix_titles.csv\")\n",
    "     )\n",
    "\n"
   ]
  },
  {
   "cell_type": "code",
   "execution_count": 4,
   "id": "66598c0a-f5b2-4128-a6c4-138bf093fc89",
   "metadata": {},
   "outputs": [
    {
     "name": "stdout",
     "output_type": "stream",
     "text": [
      "root\n",
      " |-- show_id: string (nullable = true)\n",
      " |-- type: string (nullable = true)\n",
      " |-- title: string (nullable = true)\n",
      " |-- director: string (nullable = true)\n",
      " |-- cast: string (nullable = true)\n",
      " |-- country: string (nullable = true)\n",
      " |-- date_added: string (nullable = true)\n",
      " |-- release_year: string (nullable = true)\n",
      " |-- rating: string (nullable = true)\n",
      " |-- duration: string (nullable = true)\n",
      " |-- listed_in: string (nullable = true)\n",
      " |-- description: string (nullable = true)\n",
      "\n"
     ]
    }
   ],
   "source": [
    "df.printSchema()"
   ]
  },
  {
   "cell_type": "markdown",
   "id": "26cd6869-63db-4003-b429-1d160aeda999",
   "metadata": {},
   "source": [
    "## Perform Aggregations"
   ]
  },
  {
   "cell_type": "code",
   "execution_count": 5,
   "id": "fec6ae7f-4d63-4e58-9de4-31813f61406f",
   "metadata": {},
   "outputs": [],
   "source": [
    "grouped_df = df.groupBy(\"country\")"
   ]
  },
  {
   "cell_type": "raw",
   "id": "bb495378-a7f2-44e1-965b-f461bf662fc9",
   "metadata": {},
   "source": [
    "The groupBy operation in Spark is a transformation, which means it is lazily evaluated. It builds\n",
    "a logical plan but does not execute until an action is performed(like collect, show, or write)\n",
    "Also, the groupBy function will return a GroupedData object and not a dataframe"
   ]
  },
  {
   "cell_type": "markdown",
   "id": "378424e1-2630-4d10-9299-c2824ee4e1f7",
   "metadata": {},
   "source": [
    "## Peforming Actions"
   ]
  },
  {
   "cell_type": "markdown",
   "id": "4281aec9-93c2-43c5-812f-15a5e48b28e7",
   "metadata": {},
   "source": [
    "### Count the number of rows in each group"
   ]
  },
  {
   "cell_type": "code",
   "execution_count": 6,
   "id": "439d1e74-5840-4693-8a90-7cb525c96895",
   "metadata": {},
   "outputs": [
    {
     "name": "stdout",
     "output_type": "stream",
     "text": [
      "+--------------------+-----+\n",
      "|             country|count|\n",
      "+--------------------+-----+\n",
      "|Peru, United Stat...|    1|\n",
      "|India, United Kin...|    1|\n",
      "|Japan, Canada, Un...|    1|\n",
      "|United Kingdom, C...|    1|\n",
      "|      India, Germany|    2|\n",
      "|South Africa, Uni...|    1|\n",
      "|              Russia|   15|\n",
      "|United Kingdom, G...|    1|\n",
      "|Chile, United Sta...|    1|\n",
      "|South Africa, Angola|    1|\n",
      "|United States, Po...|    1|\n",
      "|  Philippines, Qatar|    1|\n",
      "|Hong Kong, China,...|    1|\n",
      "|  Germany, Sri Lanka|    1|\n",
      "|Denmark, France, ...|    1|\n",
      "|United States, Fr...|    1|\n",
      "|United Kingdom, N...|    2|\n",
      "|Australia, United...|    2|\n",
      "|Brazil, France, G...|    1|\n",
      "|United States, Ir...|    3|\n",
      "+--------------------+-----+\n",
      "only showing top 20 rows\n",
      "\n"
     ]
    }
   ],
   "source": [
    "count_df = grouped_df.count()\n",
    "\n",
    "count_df.show()"
   ]
  },
  {
   "cell_type": "markdown",
   "id": "fa49527f-195a-4693-af7a-b951c0ba3e36",
   "metadata": {},
   "source": [
    "### Applying custom aggregation functions using the agg function"
   ]
  },
  {
   "cell_type": "code",
   "execution_count": 7,
   "id": "73eb0f5d-1461-41be-9ea8-0f4f9d692a92",
   "metadata": {},
   "outputs": [
    {
     "name": "stdout",
     "output_type": "stream",
     "text": [
      "+--------------------+--------------------+\n",
      "|             country|     max(date_added)|\n",
      "+--------------------+--------------------+\n",
      "|                null|   September 9, 2021|\n",
      "|     Ama K. Abebrese|  Kobina Amissah Sam|\n",
      "|         Aziz Ansari|         Carla Gallo|\n",
      "|            Chuck D.|     Desiree Densiti|\n",
      "|       Dominic Costa|        Nick Ferraro|\n",
      "|          Doug Plaut|    Cheyenne Jackson|\n",
      "|     Francesc Orella|        Imanol Arias|\n",
      "|  Henri-Noël Tabary\"|              France|\n",
      "|       James Toback\"|       United States|\n",
      "| Justin \"\"Alyssa ...|         Molly Ryman|\n",
      "|  Lachion Buckingham|       Chasity Moore|\n",
      "|  Leonardo Sbaraglia|     Francesc Orella|\n",
      "|   Michael Cavalieri|     Walton Goggins\"|\n",
      "| Remilekun \"\"Remi...| Charles  \"\"Charl...|\n",
      "|          Rob Morgan|     Shakira Barrera|\n",
      "|       Sophia Loren\"|       United States|\n",
      "|     Tantoo Cardinal|   Robert Pastorelli|\n",
      "|      Theo Campbell\"|       United States|\n",
      "| Tobechukwu \"\"iLL...|          Toni Tones|\n",
      "| plus Whitney Cum...|                null|\n",
      "+--------------------+--------------------+\n",
      "only showing top 20 rows\n",
      "\n"
     ]
    }
   ],
   "source": [
    "max_release_df = grouped_df.agg(max(col(\"date_added\")))\n",
    "\n",
    "max_release_df.show()"
   ]
  },
  {
   "cell_type": "markdown",
   "id": "c7b597e0-30e8-4f24-be75-4f2b4ba177a5",
   "metadata": {},
   "source": [
    "## Applying multiple aggregations"
   ]
  },
  {
   "cell_type": "code",
   "execution_count": 8,
   "id": "5444782f-daaa-4f3b-8c59-2b04489551ff",
   "metadata": {},
   "outputs": [
    {
     "name": "stderr",
     "output_type": "stream",
     "text": [
      "[Stage 7:>                                                          (0 + 1) / 1]\r"
     ]
    },
    {
     "name": "stdout",
     "output_type": "stream",
     "text": [
      "+--------------------+----------------+--------------------+--------------------+\n",
      "|             country|NumberOfReleases|     LastReleaseDate|    FirstReleaseDate|\n",
      "+--------------------+----------------+--------------------+--------------------+\n",
      "|                null|             830|   September 9, 2021|   December 14, 2018|\n",
      "|     Ama K. Abebrese|               1|  Kobina Amissah Sam|  Kobina Amissah Sam|\n",
      "|         Aziz Ansari|               1|         Carla Gallo|         Carla Gallo|\n",
      "|            Chuck D.|               1|     Desiree Densiti|     Desiree Densiti|\n",
      "|       Dominic Costa|               1|        Nick Ferraro|        Nick Ferraro|\n",
      "|          Doug Plaut|               1|    Cheyenne Jackson|    Cheyenne Jackson|\n",
      "|     Francesc Orella|               1|        Imanol Arias|        Imanol Arias|\n",
      "|  Henri-Noël Tabary\"|               1|              France|              France|\n",
      "|       James Toback\"|               1|       United States|       United States|\n",
      "| Justin \"\"Alyssa ...|               1|         Molly Ryman|         Molly Ryman|\n",
      "|  Lachion Buckingham|               1|       Chasity Moore|       Chasity Moore|\n",
      "|  Leonardo Sbaraglia|               1|     Francesc Orella|     Francesc Orella|\n",
      "|   Michael Cavalieri|               1|     Walton Goggins\"|     Walton Goggins\"|\n",
      "| Remilekun \"\"Remi...|               1| Charles  \"\"Charl...| Charles  \"\"Charl...|\n",
      "|          Rob Morgan|               1|     Shakira Barrera|     Shakira Barrera|\n",
      "|       Sophia Loren\"|               1|       United States|       United States|\n",
      "|     Tantoo Cardinal|               1|   Robert Pastorelli|   Robert Pastorelli|\n",
      "|      Theo Campbell\"|               1|       United States|       United States|\n",
      "| Tobechukwu \"\"iLL...|               1|          Toni Tones|          Toni Tones|\n",
      "| plus Whitney Cum...|               1|                null|                null|\n",
      "+--------------------+----------------+--------------------+--------------------+\n",
      "only showing top 20 rows\n",
      "\n"
     ]
    },
    {
     "name": "stderr",
     "output_type": "stream",
     "text": [
      "                                                                                \r"
     ]
    }
   ],
   "source": [
    "release_date_grouped_df = (df.groupBy(\"country\")\n",
    "                           .agg(\n",
    "                                count(\"show_id\").alias(\"NumberOfReleases\"),\n",
    "                                max(\"date_added\").alias(\"LastReleaseDate\"),\n",
    "                                min(\"date_added\").alias(\"FirstReleaseDate\")\n",
    "                           ))\n",
    "\n",
    "release_date_grouped_df.show()\n",
    "                               \n",
    "                           \n",
    "                           \n",
    "                                "
   ]
  },
  {
   "cell_type": "code",
   "execution_count": 9,
   "id": "fb92074a-5711-4a3e-9d15-09c05433a6ab",
   "metadata": {},
   "outputs": [],
   "source": [
    "spark.stop()"
   ]
  },
  {
   "cell_type": "code",
   "execution_count": null,
   "id": "29496203-098d-443e-9516-39b1ae38189a",
   "metadata": {},
   "outputs": [],
   "source": []
  }
 ],
 "metadata": {
  "kernelspec": {
   "display_name": "Python 3 (ipykernel)",
   "language": "python",
   "name": "python3"
  },
  "language_info": {
   "codemirror_mode": {
    "name": "ipython",
    "version": 3
   },
   "file_extension": ".py",
   "mimetype": "text/x-python",
   "name": "python",
   "nbconvert_exporter": "python",
   "pygments_lexer": "ipython3",
   "version": "3.10.12"
  }
 },
 "nbformat": 4,
 "nbformat_minor": 5
}
