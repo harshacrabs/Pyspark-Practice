{
 "cells": [
  {
   "cell_type": "markdown",
   "id": "0b18c9fb-0a75-4181-bfac-340d80e4cc01",
   "metadata": {},
   "source": [
    "## Import libraries"
   ]
  },
  {
   "cell_type": "code",
   "execution_count": 1,
   "id": "b5d81cf0-0e80-4490-ab74-6481ae3fdd0e",
   "metadata": {},
   "outputs": [],
   "source": [
    "from pyspark.sql import SparkSession\n",
    "from pyspark.sql import functions as F"
   ]
  },
  {
   "cell_type": "markdown",
   "id": "7200f3bf-652e-4865-816b-c6571a9efa27",
   "metadata": {},
   "source": [
    "## Create SparkSession object"
   ]
  },
  {
   "cell_type": "code",
   "execution_count": 2,
   "id": "8fa25a55-acee-405f-9760-c0b0aa57f890",
   "metadata": {},
   "outputs": [
    {
     "name": "stderr",
     "output_type": "stream",
     "text": [
      "Setting default log level to \"WARN\".\n",
      "To adjust logging level use sc.setLogLevel(newLevel). For SparkR, use setLogLevel(newLevel).\n",
      "25/04/17 12:14:59 WARN NativeCodeLoader: Unable to load native-hadoop library for your platform... using builtin-java classes where applicable\n"
     ]
    }
   ],
   "source": [
    "spark = (SparkSession.builder\n",
    "         .appName(\"aggregations-in-pyspark\")\n",
    "         .master(\"spark://spark-master:7077\")\n",
    "         .config(\"spark.executor.memory\", \"512m\")\n",
    "         .getOrCreate()\n",
    "        )\n",
    "\n",
    "spark.sparkContext.setLogLevel(\"ERROR\")\n",
    "\n",
    "    \n",
    "    "
   ]
  },
  {
   "cell_type": "markdown",
   "id": "91d78fb0-828b-4851-8d88-9287177c3fca",
   "metadata": {},
   "source": [
    "## Read the data"
   ]
  },
  {
   "cell_type": "code",
   "execution_count": 3,
   "id": "bf1532df-1774-4356-ae17-1a13bd82372b",
   "metadata": {},
   "outputs": [],
   "source": [
    "df = (spark.read.format(\"csv\")\n",
    "      .option(\"header\",\"true\")\n",
    "      .option(\"nullValue\", \"null\")\n",
    "      .option(\"dateFormat\", \"LLLL d, y\")\n",
    "      .load(\"../../data/netflix_titles.csv\")\n",
    "     )\n"
   ]
  },
  {
   "cell_type": "code",
   "execution_count": 4,
   "id": "66598c0a-f5b2-4128-a6c4-138bf093fc89",
   "metadata": {},
   "outputs": [
    {
     "name": "stdout",
     "output_type": "stream",
     "text": [
      "root\n",
      " |-- show_id: string (nullable = true)\n",
      " |-- type: string (nullable = true)\n",
      " |-- title: string (nullable = true)\n",
      " |-- director: string (nullable = true)\n",
      " |-- cast: string (nullable = true)\n",
      " |-- country: string (nullable = true)\n",
      " |-- date_added: string (nullable = true)\n",
      " |-- release_year: string (nullable = true)\n",
      " |-- rating: string (nullable = true)\n",
      " |-- duration: string (nullable = true)\n",
      " |-- listed_in: string (nullable = true)\n",
      " |-- description: string (nullable = true)\n",
      "\n"
     ]
    }
   ],
   "source": [
    "df.printSchema()"
   ]
  },
  {
   "cell_type": "code",
   "execution_count": 5,
   "id": "0d9b5a4b-b758-4ef7-beec-69f9fdbdf537",
   "metadata": {},
   "outputs": [
    {
     "name": "stdout",
     "output_type": "stream",
     "text": [
      "+---------------------------------------------------------------------+\n",
      "|country                                                              |\n",
      "+---------------------------------------------------------------------+\n",
      "|United States                                                        |\n",
      "|South Africa                                                         |\n",
      "|null                                                                 |\n",
      "|null                                                                 |\n",
      "|India                                                                |\n",
      "|null                                                                 |\n",
      "|null                                                                 |\n",
      "|United States, Ghana, Burkina Faso, United Kingdom, Germany, Ethiopia|\n",
      "|United Kingdom                                                       |\n",
      "|United States                                                        |\n",
      "|null                                                                 |\n",
      "|null                                                                 |\n",
      "|Germany, Czech Republic                                              |\n",
      "|null                                                                 |\n",
      "|null                                                                 |\n",
      "|United States                                                        |\n",
      "|null                                                                 |\n",
      "|Mexico                                                               |\n",
      "|null                                                                 |\n",
      "|null                                                                 |\n",
      "+---------------------------------------------------------------------+\n",
      "only showing top 20 rows\n",
      "\n"
     ]
    }
   ],
   "source": [
    "df.select(F.col(\"country\")).show(truncate=False)"
   ]
  },
  {
   "cell_type": "code",
   "execution_count": 6,
   "id": "fec6ae7f-4d63-4e58-9de4-31813f61406f",
   "metadata": {},
   "outputs": [],
   "source": [
    "grouped_df = df.groupBy(\"country\")"
   ]
  },
  {
   "cell_type": "code",
   "execution_count": 7,
   "id": "439d1e74-5840-4693-8a90-7cb525c96895",
   "metadata": {},
   "outputs": [
    {
     "name": "stdout",
     "output_type": "stream",
     "text": [
      "+----------------------------------------------+-----+\n",
      "|country                                       |count|\n",
      "+----------------------------------------------+-----+\n",
      "|Peru, United States, United Kingdom           |1    |\n",
      "|India, United Kingdom, France, Qatar          |1    |\n",
      "|Japan, Canada, United States                  |1    |\n",
      "|United Kingdom, China                         |1    |\n",
      "|India, Germany                                |2    |\n",
      "|South Africa, United States, Germany          |1    |\n",
      "|Russia                                        |15   |\n",
      "|United Kingdom, Germany, United States, France|1    |\n",
      "|Chile, United States, France                  |1    |\n",
      "|South Africa, Angola                          |1    |\n",
      "|United States, Poland                         |1    |\n",
      "|Philippines, Qatar                            |1    |\n",
      "|Hong Kong, China, Singapore                   |1    |\n",
      "|Germany, Sri Lanka                            |1    |\n",
      "|Denmark, France, United States, Sweden        |1    |\n",
      "|United States, France, South Korea, Indonesia |1    |\n",
      "|United Kingdom, Nigeria                       |2    |\n",
      "|Australia, United Arab Emirates               |2    |\n",
      "|Brazil, France, Germany                       |1    |\n",
      "|United States, Ireland                        |3    |\n",
      "+----------------------------------------------+-----+\n",
      "only showing top 20 rows\n",
      "\n"
     ]
    }
   ],
   "source": [
    "count_df = grouped_df.count()\n",
    "\n",
    "count_df.show(truncate=False)"
   ]
  },
  {
   "cell_type": "markdown",
   "id": "c6e95572-c0ce-4234-9bf6-5ed8fe976fd6",
   "metadata": {},
   "source": [
    "## Using Split and Explode and get one row per country"
   ]
  },
  {
   "cell_type": "code",
   "execution_count": 8,
   "id": "945b32fb-4bf2-4e37-b0f1-0f0c379a150d",
   "metadata": {},
   "outputs": [],
   "source": [
    "\n",
    "\n",
    "# 1. Turn “Peru, United States, …” into [\"Peru\", \" United States\", …]\n",
    "# 2. Explode into one row per country\n",
    "# 3. Trim leading/trailing spaces\n",
    "exploded_df = (\n",
    "    df\n",
    "    .withColumn(\"country\", F.explode(F.split(F.col(\"country\"), \",\")))\n",
    "    .withColumn(\"country\", F.trim(F.col(\"country\")))\n",
    ")\n",
    "\n"
   ]
  },
  {
   "cell_type": "code",
   "execution_count": 9,
   "id": "ff271cc6-a1f0-481e-930a-d6e6357d7d96",
   "metadata": {},
   "outputs": [
    {
     "name": "stdout",
     "output_type": "stream",
     "text": [
      "+-------+-------+--------------------+---------------+--------------------+-------------+------------------+------------+------+---------+--------------------+--------------------+\n",
      "|show_id|   type|               title|       director|                cast|      country|        date_added|release_year|rating| duration|           listed_in|         description|\n",
      "+-------+-------+--------------------+---------------+--------------------+-------------+------------------+------------+------+---------+--------------------+--------------------+\n",
      "|     s1|  Movie|Dick Johnson Is Dead|Kirsten Johnson|                null|United States|September 25, 2021|        2020| PG-13|   90 min|       Documentaries|As her father nea...|\n",
      "|     s2|TV Show|       Blood & Water|           null|Ama Qamata, Khosi...| South Africa|September 24, 2021|        2021| TV-MA|2 Seasons|International TV ...|After crossing pa...|\n",
      "|     s5|TV Show|        Kota Factory|           null|Mayur More, Jiten...|        India|September 24, 2021|        2021| TV-MA|2 Seasons|International TV ...|In a city of coac...|\n",
      "|     s8|  Movie|             Sankofa|   Haile Gerima|Kofi Ghanaba, Oya...|United States|September 24, 2021|        1993| TV-MA|  125 min|Dramas, Independe...|On a photo shoot ...|\n",
      "|     s8|  Movie|             Sankofa|   Haile Gerima|Kofi Ghanaba, Oya...|        Ghana|September 24, 2021|        1993| TV-MA|  125 min|Dramas, Independe...|On a photo shoot ...|\n",
      "+-------+-------+--------------------+---------------+--------------------+-------------+------------------+------------+------+---------+--------------------+--------------------+\n",
      "only showing top 5 rows\n",
      "\n"
     ]
    }
   ],
   "source": [
    "exploded_df.show(5)"
   ]
  },
  {
   "cell_type": "markdown",
   "id": "09f52966-73bc-46ab-9b50-1d68ca734fbb",
   "metadata": {},
   "source": [
    "## Aggregation- Count of movies in each country"
   ]
  },
  {
   "cell_type": "code",
   "execution_count": 10,
   "id": "c0cb3b99-9097-458c-ac4b-c9e7b7cd005e",
   "metadata": {},
   "outputs": [
    {
     "name": "stdout",
     "output_type": "stream",
     "text": [
      "+--------------+-----+\n",
      "|       country|count|\n",
      "+--------------+-----+\n",
      "| United States| 3676|\n",
      "|         India| 1046|\n",
      "|United Kingdom|  805|\n",
      "|        Canada|  445|\n",
      "|        France|  392|\n",
      "|         Japan|  318|\n",
      "|   South Korea|  231|\n",
      "|         Spain|  230|\n",
      "|       Germany|  224|\n",
      "|        Mexico|  169|\n",
      "|         China|  162|\n",
      "|     Australia|  160|\n",
      "|         Egypt|  117|\n",
      "|        Turkey|  113|\n",
      "|     Hong Kong|  105|\n",
      "|       Nigeria|  101|\n",
      "|         Italy|  100|\n",
      "|        Brazil|   97|\n",
      "|     Argentina|   91|\n",
      "|       Belgium|   90|\n",
      "+--------------+-----+\n",
      "only showing top 20 rows\n",
      "\n"
     ]
    }
   ],
   "source": [
    "# 4. Now you can groupBy and aggregate. For example, count how many rows mention each country:\n",
    "grouped_df_final = (\n",
    "    exploded_df\n",
    "    .groupBy(\"country\")\n",
    "    .count()\n",
    "    .orderBy(F.desc(\"count\"))\n",
    ")\n",
    "\n",
    "grouped_df_final.show()"
   ]
  },
  {
   "cell_type": "markdown",
   "id": "efc70b79-4d26-4014-97cb-0d445425e018",
   "metadata": {},
   "source": [
    "## Unique values of date_added column"
   ]
  },
  {
   "cell_type": "code",
   "execution_count": 11,
   "id": "fcedbeb5-53f9-4129-ab81-412109ba0379",
   "metadata": {},
   "outputs": [
    {
     "name": "stdout",
     "output_type": "stream",
     "text": [
      "+------------------+\n",
      "|        date_added|\n",
      "+------------------+\n",
      "|      May 21, 2021|\n",
      "|     March 2, 2021|\n",
      "|September 23, 2020|\n",
      "| September 8, 2020|\n",
      "|    April 14, 2020|\n",
      "| December 30, 2019|\n",
      "|   August 12, 2019|\n",
      "|     June 22, 2019|\n",
      "|      May 30, 2017|\n",
      "|    April 29, 2016|\n",
      "|    March 25, 2016|\n",
      "|  October 27, 2015|\n",
      "|   January 1, 2008|\n",
      "|     March 2, 2017|\n",
      "|  October 31, 2015|\n",
      "|     June 23, 2021|\n",
      "|  November 1, 2020|\n",
      "|  February 9, 2020|\n",
      "| November 28, 2019|\n",
      "|   October 5, 2019|\n",
      "+------------------+\n",
      "only showing top 20 rows\n",
      "\n"
     ]
    }
   ],
   "source": [
    "exploded_df.select(F.col(\"date_added\")).distinct().show()"
   ]
  },
  {
   "cell_type": "code",
   "execution_count": 12,
   "id": "e60bee23-03ec-41a6-b289-8e8a23164687",
   "metadata": {},
   "outputs": [
    {
     "name": "stdout",
     "output_type": "stream",
     "text": [
      "root\n",
      " |-- show_id: string (nullable = true)\n",
      " |-- type: string (nullable = true)\n",
      " |-- title: string (nullable = true)\n",
      " |-- director: string (nullable = true)\n",
      " |-- cast: string (nullable = true)\n",
      " |-- country: string (nullable = false)\n",
      " |-- date_added: string (nullable = true)\n",
      " |-- release_year: string (nullable = true)\n",
      " |-- rating: string (nullable = true)\n",
      " |-- duration: string (nullable = true)\n",
      " |-- listed_in: string (nullable = true)\n",
      " |-- description: string (nullable = true)\n",
      "\n"
     ]
    }
   ],
   "source": [
    "exploded_df.printSchema()"
   ]
  },
  {
   "cell_type": "code",
   "execution_count": 13,
   "id": "7879a6c8-142b-40d1-a572-0043e8f6b91b",
   "metadata": {},
   "outputs": [],
   "source": [
    "# convert string to date format\n",
    "\n",
    "df_temp = exploded_df.withColumn(\"date_added\", F.to_date(F.col(\"date_added\"), \"LLLL d, yyyy\"))"
   ]
  },
  {
   "cell_type": "code",
   "execution_count": 14,
   "id": "2edb0526-445d-434b-87e2-3ab290697295",
   "metadata": {},
   "outputs": [],
   "source": [
    "# convert the date format to the desired format\n",
    "\n",
    "df_date_formatted = df_temp.withColumn(\"date_added\", F.date_format(F.col(\"date_added\"), \"yyyy-MM-dd\"))"
   ]
  },
  {
   "cell_type": "code",
   "execution_count": 15,
   "id": "656f6f7c-3195-4fd7-bf97-95cddfe22f7a",
   "metadata": {},
   "outputs": [
    {
     "name": "stdout",
     "output_type": "stream",
     "text": [
      "+----------+\n",
      "|date_added|\n",
      "+----------+\n",
      "|2021-09-25|\n",
      "|2021-09-24|\n",
      "|2021-09-24|\n",
      "|2021-09-24|\n",
      "|2021-09-24|\n",
      "|2021-09-24|\n",
      "|2021-09-24|\n",
      "|2021-09-24|\n",
      "|2021-09-24|\n",
      "|2021-09-24|\n",
      "|2021-09-24|\n",
      "|2021-09-23|\n",
      "|2021-09-23|\n",
      "|2021-09-22|\n",
      "|2021-09-22|\n",
      "|2021-09-22|\n",
      "|2021-09-21|\n",
      "|2021-09-21|\n",
      "|2021-09-20|\n",
      "|2021-09-19|\n",
      "+----------+\n",
      "only showing top 20 rows\n",
      "\n"
     ]
    }
   ],
   "source": [
    "df_date_formatted.select(F.col(\"date_added\")).orderBy(\"date_added\", ascending=False).show()"
   ]
  },
  {
   "cell_type": "code",
   "execution_count": 16,
   "id": "91ecd384-0065-491e-bd82-8f8691c494ed",
   "metadata": {},
   "outputs": [
    {
     "name": "stdout",
     "output_type": "stream",
     "text": [
      "+----------+\n",
      "|date_added|\n",
      "+----------+\n",
      "|      null|\n",
      "|      null|\n",
      "|      null|\n",
      "|      null|\n",
      "|      null|\n",
      "|      null|\n",
      "|      null|\n",
      "|      null|\n",
      "|      null|\n",
      "|      null|\n",
      "|      null|\n",
      "|      null|\n",
      "|      null|\n",
      "|      null|\n",
      "|      null|\n",
      "|      null|\n",
      "|      null|\n",
      "|      null|\n",
      "|      null|\n",
      "|      null|\n",
      "+----------+\n",
      "only showing top 20 rows\n",
      "\n"
     ]
    }
   ],
   "source": [
    "df_date_formatted.select(F.col(\"date_added\")).orderBy(\"date_added\", ascending=True).show()"
   ]
  },
  {
   "cell_type": "markdown",
   "id": "60bf5e8b-83e5-4eee-8378-e8c848ffc6c6",
   "metadata": {},
   "source": [
    "## Getting null value rows in date added column"
   ]
  },
  {
   "cell_type": "code",
   "execution_count": 17,
   "id": "1e45dc5a-8ffb-4f14-b8f3-e1a7fbbd003c",
   "metadata": {},
   "outputs": [
    {
     "name": "stdout",
     "output_type": "stream",
     "text": [
      "Bad / non‑date rows: 126\n"
     ]
    }
   ],
   "source": [
    "bad_count = df_date_formatted.filter(F.col(\"date_added\").isNull()).count()\n",
    "print(f\"Bad / non‑date rows: {bad_count}\")"
   ]
  },
  {
   "cell_type": "code",
   "execution_count": 18,
   "id": "dcc06edf-6fa9-4ef2-96ab-970038d8856c",
   "metadata": {},
   "outputs": [
    {
     "name": "stdout",
     "output_type": "stream",
     "text": [
      " Valid rows: 9890\n"
     ]
    }
   ],
   "source": [
    "\n",
    "# Keep only the non‑null dates\n",
    "valid_df = df_date_formatted.filter(F.col(\"date_added\").isNotNull())\n",
    "\n",
    "valid_count = print(f\" Valid rows: {valid_df.count()}\")"
   ]
  },
  {
   "cell_type": "code",
   "execution_count": 19,
   "id": "1c558b5a-c923-4b1e-a0da-2140ff8c289b",
   "metadata": {},
   "outputs": [
    {
     "name": "stdout",
     "output_type": "stream",
     "text": [
      "+----------+\n",
      "|date_added|\n",
      "+----------+\n",
      "|2008-01-01|\n",
      "|2008-02-04|\n",
      "|2009-05-05|\n",
      "|2009-11-18|\n",
      "|2010-11-01|\n",
      "|2011-05-17|\n",
      "|2011-05-17|\n",
      "|2011-05-17|\n",
      "|2011-09-27|\n",
      "|2011-09-27|\n",
      "|2011-09-27|\n",
      "|2011-10-01|\n",
      "|2011-10-01|\n",
      "|2011-10-01|\n",
      "|2011-10-01|\n",
      "|2011-10-01|\n",
      "|2011-10-01|\n",
      "|2011-10-01|\n",
      "|2011-10-01|\n",
      "|2011-10-01|\n",
      "+----------+\n",
      "only showing top 20 rows\n",
      "\n"
     ]
    }
   ],
   "source": [
    "# Then sort them ascending by your parsed date column\n",
    "valid_df.select(F.col(\"date_added\")).orderBy(F.col(\"date_added\").asc()).show()"
   ]
  },
  {
   "cell_type": "code",
   "execution_count": 20,
   "id": "a8c3cf9f-fbf2-4763-bc85-a7de14483f80",
   "metadata": {},
   "outputs": [
    {
     "name": "stdout",
     "output_type": "stream",
     "text": [
      "+-------+-------+--------------------+---------------+--------------------+-------------+----------+------------+------+---------+--------------------+--------------------+\n",
      "|show_id|   type|               title|       director|                cast|      country|date_added|release_year|rating| duration|           listed_in|         description|\n",
      "+-------+-------+--------------------+---------------+--------------------+-------------+----------+------------+------+---------+--------------------+--------------------+\n",
      "|     s1|  Movie|Dick Johnson Is Dead|Kirsten Johnson|                null|United States|2021-09-25|        2020| PG-13|   90 min|       Documentaries|As her father nea...|\n",
      "|     s2|TV Show|       Blood & Water|           null|Ama Qamata, Khosi...| South Africa|2021-09-24|        2021| TV-MA|2 Seasons|International TV ...|After crossing pa...|\n",
      "|     s5|TV Show|        Kota Factory|           null|Mayur More, Jiten...|        India|2021-09-24|        2021| TV-MA|2 Seasons|International TV ...|In a city of coac...|\n",
      "|     s8|  Movie|             Sankofa|   Haile Gerima|Kofi Ghanaba, Oya...|United States|2021-09-24|        1993| TV-MA|  125 min|Dramas, Independe...|On a photo shoot ...|\n",
      "|     s8|  Movie|             Sankofa|   Haile Gerima|Kofi Ghanaba, Oya...|        Ghana|2021-09-24|        1993| TV-MA|  125 min|Dramas, Independe...|On a photo shoot ...|\n",
      "+-------+-------+--------------------+---------------+--------------------+-------------+----------+------------+------+---------+--------------------+--------------------+\n",
      "only showing top 5 rows\n",
      "\n"
     ]
    }
   ],
   "source": [
    "valid_df.show(5)"
   ]
  },
  {
   "cell_type": "markdown",
   "id": "fa49527f-195a-4693-af7a-b951c0ba3e36",
   "metadata": {},
   "source": [
    "### Applying custom aggregation functions using the agg function"
   ]
  },
  {
   "cell_type": "code",
   "execution_count": 21,
   "id": "73eb0f5d-1461-41be-9ea8-0f4f9d692a92",
   "metadata": {},
   "outputs": [
    {
     "name": "stdout",
     "output_type": "stream",
     "text": [
      "+------------+-------------------+\n",
      "|     country|Latest_release_date|\n",
      "+------------+-------------------+\n",
      "|            |         2021-08-27|\n",
      "| Afghanistan|         2017-01-01|\n",
      "|     Albania|         2018-05-04|\n",
      "|     Algeria|         2021-07-30|\n",
      "|      Angola|         2020-08-28|\n",
      "|   Argentina|         2021-09-01|\n",
      "|     Armenia|         2017-08-15|\n",
      "|   Australia|         2021-09-21|\n",
      "|     Austria|         2021-05-14|\n",
      "|  Azerbaijan|         2016-12-26|\n",
      "|     Bahamas|         2020-08-31|\n",
      "|  Bangladesh|         2021-02-05|\n",
      "|     Belarus|         2020-07-15|\n",
      "|     Belgium|         2021-09-08|\n",
      "|     Bermuda|         2014-08-15|\n",
      "|    Botswana|         2020-05-28|\n",
      "|      Brazil|         2021-08-13|\n",
      "|    Bulgaria|         2021-08-01|\n",
      "|Burkina Faso|         2021-09-24|\n",
      "|    Cambodia|         2021-02-08|\n",
      "+------------+-------------------+\n",
      "only showing top 20 rows\n",
      "\n"
     ]
    }
   ],
   "source": [
    "max_release_df = valid_df.groupBy(\"country\").agg(F.max(F.col(\"date_added\")).alias(\"Latest_release_date\"))\n",
    "\n",
    "max_release_df.show()"
   ]
  },
  {
   "cell_type": "markdown",
   "id": "c7b597e0-30e8-4f24-be75-4f2b4ba177a5",
   "metadata": {},
   "source": [
    "## Applying multiple aggregations"
   ]
  },
  {
   "cell_type": "code",
   "execution_count": 22,
   "id": "5444782f-daaa-4f3b-8c59-2b04489551ff",
   "metadata": {},
   "outputs": [
    {
     "name": "stdout",
     "output_type": "stream",
     "text": [
      "+--------------+----------------+---------------+----------------+\n",
      "|       country|NumberOfReleases|LastReleaseDate|FirstReleaseDate|\n",
      "+--------------+----------------+---------------+----------------+\n",
      "| United States|            3629|     2021-09-25|      2008-01-01|\n",
      "|         India|            1045|     2021-09-24|      2016-04-22|\n",
      "|United Kingdom|             786|     2021-09-24|      2011-09-27|\n",
      "|        Canada|             432|     2021-09-16|      2013-11-01|\n",
      "|        France|             388|     2021-09-19|      2011-05-17|\n",
      "|         Japan|             314|     2021-09-16|      2015-12-01|\n",
      "|   South Korea|             226|     2021-09-06|      2016-05-23|\n",
      "|         Spain|             226|     2021-09-09|      2011-05-17|\n",
      "|       Germany|             223|     2021-09-24|      2015-07-15|\n",
      "|        Mexico|             169|     2021-09-22|      2011-05-17|\n",
      "|         China|             162|     2021-09-16|      2015-07-15|\n",
      "|     Australia|             157|     2021-09-21|      2015-02-15|\n",
      "|         Egypt|             117|     2021-07-15|      2014-01-17|\n",
      "|        Turkey|             113|     2021-09-22|      2016-12-26|\n",
      "|     Hong Kong|             105|     2021-09-01|      2016-01-15|\n",
      "|       Nigeria|             101|     2021-09-15|      2015-12-28|\n",
      "|         Italy|              98|     2021-09-01|      2015-02-15|\n",
      "|        Brazil|              97|     2021-08-13|      2016-10-01|\n",
      "|     Argentina|              91|     2021-09-01|      2016-07-15|\n",
      "|       Belgium|              90|     2021-09-08|      2015-08-05|\n",
      "+--------------+----------------+---------------+----------------+\n",
      "only showing top 20 rows\n",
      "\n"
     ]
    }
   ],
   "source": [
    "release_date_grouped_df = (valid_df.groupBy(\"country\")\n",
    "                           .agg(\n",
    "                                F.count(\"show_id\").alias(\"NumberOfReleases\"),\n",
    "                                F.max(\"date_added\").alias(\"LastReleaseDate\"),\n",
    "                                F.min(\"date_added\").alias(\"FirstReleaseDate\")\n",
    "                           )\n",
    "                          .orderBy(F.desc(\"NumberOfReleases\"))\n",
    "                          )\n",
    "\n",
    "release_date_grouped_df.show()       \n",
    "                                "
   ]
  },
  {
   "cell_type": "code",
   "execution_count": null,
   "id": "fb92074a-5711-4a3e-9d15-09c05433a6ab",
   "metadata": {},
   "outputs": [],
   "source": [
    "spark.stop()"
   ]
  },
  {
   "cell_type": "code",
   "execution_count": null,
   "id": "29496203-098d-443e-9516-39b1ae38189a",
   "metadata": {},
   "outputs": [],
   "source": []
  },
  {
   "cell_type": "code",
   "execution_count": null,
   "id": "1ced9b57-e431-44d6-ad1f-32473ff87855",
   "metadata": {},
   "outputs": [],
   "source": []
  }
 ],
 "metadata": {
  "kernelspec": {
   "display_name": "Python 3 (ipykernel)",
   "language": "python",
   "name": "python3"
  },
  "language_info": {
   "codemirror_mode": {
    "name": "ipython",
    "version": 3
   },
   "file_extension": ".py",
   "mimetype": "text/x-python",
   "name": "python",
   "nbconvert_exporter": "python",
   "pygments_lexer": "ipython3",
   "version": "3.10.12"
  }
 },
 "nbformat": 4,
 "nbformat_minor": 5
}
