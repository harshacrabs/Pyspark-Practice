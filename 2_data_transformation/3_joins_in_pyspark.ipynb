{
 "cells": [
  {
   "cell_type": "markdown",
   "id": "3c4496e6-a0d9-458c-bfb4-8deb613527fd",
   "metadata": {},
   "source": [
    "## Import libraries"
   ]
  },
  {
   "cell_type": "code",
   "execution_count": 13,
   "id": "0961c798-7034-40da-9dc0-ba2e9dea6a19",
   "metadata": {},
   "outputs": [],
   "source": [
    "from pyspark.sql import SparkSession\n",
    "from pyspark.sql.functions import broadcast"
   ]
  },
  {
   "cell_type": "markdown",
   "id": "b5b2eac7-5720-4b14-bd8b-7777e774a1d0",
   "metadata": {},
   "source": [
    "## Create a sparksession object"
   ]
  },
  {
   "cell_type": "code",
   "execution_count": 14,
   "id": "76de26ed-2bce-4d0b-94cb-7f9ff44d789d",
   "metadata": {},
   "outputs": [],
   "source": [
    "spark = (SparkSession.builder\n",
    "         .appName(\"perform-joins\")\n",
    "         .master(\"spark://spark-master:7077\")\n",
    "         .config(\"spark.executor.memory\", \"512m\")\n",
    "         .getOrCreate()\n",
    "        )"
   ]
  },
  {
   "cell_type": "markdown",
   "id": "862bdbc5-88fb-4920-b5ce-93b55a7248b6",
   "metadata": {},
   "source": [
    "## Create the dataframe"
   ]
  },
  {
   "cell_type": "code",
   "execution_count": 15,
   "id": "173fc7f9-9b6d-44b7-8c02-21db98bdae65",
   "metadata": {},
   "outputs": [],
   "source": [
    "cards_df = (spark.read.format(\"csv\")\n",
    "            .option(\"header\", \"true\")\n",
    "            .option(\"nullValue\", \"null\")\n",
    "            .load(\"../../data/Credit Card/CardBase.csv\")\n",
    "           )\n",
    "\n",
    "customers_df = (spark.read.format(\"csv\")\n",
    "            .option(\"header\", \"true\")\n",
    "            .option(\"nullValue\", \"null\")\n",
    "            .load(\"../../data/Credit Card/CustomerBase.csv\")\n",
    "           )\n",
    "\n",
    "transactions_df = (spark.read.format(\"csv\")\n",
    "                   .option(\"header\", \"true\")\n",
    "                   .option(\"nullValue\", \"null\")\n",
    "                   .load(\"../../data/Credit Card/TransactionBase.csv\")\n",
    "                  )\n",
    "\n",
    "fraud_df = (spark.read.format(\"csv\")\n",
    "                   .option(\"header\", \"true\")\n",
    "                   .option(\"nullValue\", \"null\")\n",
    "                   .load(\"../../data/Credit Card/FraudBase.csv\")\n",
    "                  )\n"
   ]
  },
  {
   "cell_type": "markdown",
   "id": "a6f8e0b9-2da4-491e-8111-d53cfdca4c42",
   "metadata": {},
   "source": [
    "## Inner join Cards and Customers (All cards have a customer associated with it)"
   ]
  },
  {
   "cell_type": "code",
   "execution_count": 16,
   "id": "dfdc2a90-4f85-448f-873e-65854f10b0ea",
   "metadata": {},
   "outputs": [
    {
     "name": "stdout",
     "output_type": "stream",
     "text": [
      "+-------+-------------------+-----------+------------+---+----------------+----------------------+\n",
      "|Cust_ID|        Card_Number|Card_Family|Credit_Limit|Age|Customer_Segment|Customer_Vintage_Group|\n",
      "+-------+-------------------+-----------+------------+---+----------------+----------------------+\n",
      "|CC55858|2868-5606-5152-5706|       Gold|       27000| 30|         Diamond|                   VG1|\n",
      "|CC46077|6876-7378-4945-3251|       Gold|       44000| 49|         Diamond|                   VG1|\n",
      "|CC46484|5556-4557-4566-1540|       Gold|       45000| 49|         Diamond|                   VG1|\n",
      "|CC59340|5618-9718-9367-2102|       Gold|       14000| 25|         Diamond|                   VG1|\n",
      "|CC62994|1652-7516-1273-1992|   Platinum|      180000| 48|         Diamond|                   VG1|\n",
      "|CC43841|7212-8665-7734-5918|   Platinum|       55000| 30|         Diamond|                   VG1|\n",
      "|CC21312|7837-4036-5999-1672|       Gold|       24000| 45|         Diamond|                   VG1|\n",
      "|CC90510|6262-7793-5307-8561|    Premium|      542000| 33|         Diamond|                   VG1|\n",
      "|CC91701|6071-3874-2856-8755|       Gold|       22000| 45|         Diamond|                   VG1|\n",
      "|CC36447|4973-1293-1664-2086|       Gold|       23000| 43|         Diamond|                   VG1|\n",
      "|CC66746|4864-7119-5608-7611|    Premium|      781000| 44|         Diamond|                   VG1|\n",
      "|CC57048|6547-1222-2350-2503|       Gold|       28000| 47|         Diamond|                   VG1|\n",
      "|CC66044|5583-9751-6086-5673|    Premium|      160000| 37|         Diamond|                   VG1|\n",
      "|CC35402|9386-8854-6115-4075|       Gold|       20000| 26|         Diamond|                   VG1|\n",
      "|CC95631|3001-2844-6540-3608|       Gold|       28000| 39|         Diamond|                   VG1|\n",
      "|CC42497|3573-2839-9869-7747|   Platinum|      167000| 23|         Diamond|                   VG1|\n",
      "|CC42497|6045-2636-8278-8875|   Platinum|       88000| 23|         Diamond|                   VG1|\n",
      "|CC18336|6750-4821-2334-9977|       Gold|       30000| 28|         Diamond|                   VG1|\n",
      "|CC78973|3440-1978-8156-5313|    Premium|      749000| 27|         Diamond|                   VG1|\n",
      "|CC41731|9930-4634-8565-6716|    Premium|      492000| 35|         Diamond|                   VG1|\n",
      "+-------+-------------------+-----------+------------+---+----------------+----------------------+\n",
      "only showing top 20 rows\n",
      "\n"
     ]
    }
   ],
   "source": [
    "customer_cards_df = (cards_df.join(customers_df,\n",
    "                                   on = \"Cust_ID\",\n",
    "                                   how ='inner'))\n",
    "\n",
    "customer_cards_df.show()\n",
    "\n"
   ]
  },
  {
   "cell_type": "markdown",
   "id": "38c9c7f5-5998-49d3-9942-04eefc60659d",
   "metadata": {},
   "source": [
    "### Alternate approach if they have different column names"
   ]
  },
  {
   "cell_type": "raw",
   "id": "be5e8aa3-ef8e-416d-9eeb-873ba4367f2a",
   "metadata": {},
   "source": [
    "customer_cards_df = cards_df.join(customers_df, \n",
    "                                  cards_df[\"Cust_ID\"] == customers_df[\"Cust_ID\"], \n",
    "                                  how=\"inner\")"
   ]
  },
  {
   "cell_type": "markdown",
   "id": "661aaa86-4ce3-4c53-80a6-c93fd73a975d",
   "metadata": {},
   "source": [
    "## Left Outer Join transactions and frauds (not all transactions are frauds)"
   ]
  },
  {
   "cell_type": "code",
   "execution_count": 17,
   "id": "8572d68d-423d-4444-82ab-3a3f62d160dd",
   "metadata": {},
   "outputs": [
    {
     "name": "stdout",
     "output_type": "stream",
     "text": [
      "+--------------+----------------+-------------------+-----------------+-------------------+--------------+----------+\n",
      "|Transaction_ID|Transaction_Date|     Credit_Card_ID|Transaction_Value|Transaction_Segment|Transaction_ID|Fraud_Flag|\n",
      "+--------------+----------------+-------------------+-----------------+-------------------+--------------+----------+\n",
      "|  CTID28830551|       24-Apr-16|1629-9566-3285-2123|            23649|              SEG25|          null|      null|\n",
      "|  CTID45504917|       11-Feb-16|3697-6001-4909-5350|            26726|              SEG16|          null|      null|\n",
      "|  CTID47312290|        1-Nov-16|5864-4475-3659-1440|            22012|              SEG14|          null|      null|\n",
      "|  CTID25637718|       28-Jan-16|5991-4421-8476-3804|            37637|              SEG17|          null|      null|\n",
      "|  CTID66743960|       17-Mar-16|1893-8853-9900-8478|             5113|              SEG14|          null|      null|\n",
      "|  CTID22308010|       15-May-16|5206-5979-9383-4538|             9551|              SEG13|          null|      null|\n",
      "|  CTID41917614|       11-Jul-16|5129-6974-6371-2964|            29511|              SEG13|          null|      null|\n",
      "|  CTID24523483|       26-Jul-16|9930-4634-8565-6716|            27830|              SEG21|          null|      null|\n",
      "|  CTID59109135|       16-Jan-16|4092-8604-7363-3393|            35328|              SEG18|          null|      null|\n",
      "|  CTID62465865|        6-Nov-16|3594-2190-6052-1265|             9567|              SEG21|          null|      null|\n",
      "|  CTID17879551|       25-Oct-16|5349-1963-8417-8327|            40606|              SEG17|          null|      null|\n",
      "|  CTID24250639|       30-Apr-16|5689-2440-9593-1931|            35617|              SEG17|          null|      null|\n",
      "|  CTID14284190|       31-Jul-16|1616-5911-1676-5466|             5014|              SEG18|          null|      null|\n",
      "|  CTID65086055|       20-Nov-16|8177-5533-1183-4063|            47634|              SEG12|          null|      null|\n",
      "|  CTID83907454|        3-Nov-16|2056-7091-8023-1914|            12061|              SEG22|          null|      null|\n",
      "|  CTID50406334|       27-Dec-16|4971-8219-1133-6753|             8073|              SEG18|          null|      null|\n",
      "|  CTID99443343|        1-Dec-16|8691-3939-1859-5937|            10138|              SEG25|          null|      null|\n",
      "|  CTID18591064|        5-Jun-16|8706-3809-5167-3899|            46113|              SEG19|          null|      null|\n",
      "|  CTID64008410|        2-Jul-16|2495-1344-4998-6045|            39195|              SEG23|          null|      null|\n",
      "|  CTID99000301|       31-Oct-16|7047-9622-9693-9968|            18604|              SEG11|          null|      null|\n",
      "+--------------+----------------+-------------------+-----------------+-------------------+--------------+----------+\n",
      "only showing top 20 rows\n",
      "\n"
     ]
    }
   ],
   "source": [
    "trans_frauds_df = (transactions_df.join(fraud_df,\n",
    "                                        transactions_df[\"Transaction_ID\"] == fraud_df[\"Transaction_ID\"],\n",
    "                                        how = 'left_outer')\n",
    "                  )\n",
    "\n",
    "trans_frauds_df.show()"
   ]
  },
  {
   "cell_type": "markdown",
   "id": "58c59118-edd9-4080-959c-8cd2d16e3217",
   "metadata": {},
   "source": [
    "## Identify customers who have experienced a fradulent transaction (complex conditions)"
   ]
  },
  {
   "cell_type": "markdown",
   "id": "922b7936-2de6-493d-92ee-58a030fa665f",
   "metadata": {},
   "source": [
    "### Join customer_cards_df with trans_fraud_df (with a condition where fraud_flag is not null)"
   ]
  },
  {
   "cell_type": "code",
   "execution_count": 18,
   "id": "b62072f2-f520-44b1-92ba-c49535482f85",
   "metadata": {},
   "outputs": [
    {
     "name": "stdout",
     "output_type": "stream",
     "text": [
      "+-------+-------------------+-----------+------------+---+----------------+----------------------+--------------+----------------+-------------------+-----------------+-------------------+--------------+----------+\n",
      "|Cust_ID|Card_Number        |Card_Family|Credit_Limit|Age|Customer_Segment|Customer_Vintage_Group|Transaction_ID|Transaction_Date|Credit_Card_ID     |Transaction_Value|Transaction_Segment|Transaction_ID|Fraud_Flag|\n",
      "+-------+-------------------+-----------+------------+---+----------------+----------------------+--------------+----------------+-------------------+-----------------+-------------------+--------------+----------+\n",
      "|CC87306|5734-5619-8469-4044|Gold       |36000       |30 |Diamond         |VG1                   |CTID26555772  |11-Jan-16       |5734-5619-8469-4044|683              |SEG22              |CTID26555772  |1         |\n",
      "|CC87034|6722-7299-6082-7974|Gold       |34000       |36 |Platinum        |VG2                   |CTID30763806  |17-Dec-16       |6722-7299-6082-7974|40751            |SEG21              |CTID30763806  |1         |\n",
      "|CC26034|1947-8602-1695-7503|Gold       |10000       |42 |Platinum        |VG2                   |CTID29266043  |12-Oct-16       |1947-8602-1695-7503|21713            |SEG14              |CTID29266043  |1         |\n",
      "|CC68010|7199-6959-4688-2302|Gold       |49000       |47 |Gold            |VG3                   |CTID13865418  |17-Feb-16       |7199-6959-4688-2302|33073            |SEG23              |CTID13865418  |1         |\n",
      "|CC14547|4265-2692-1676-5635|Premium    |683000      |42 |Platinum        |VG2                   |CTID26134025  |25-Aug-16       |4265-2692-1676-5635|37279            |SEG24              |CTID26134025  |1         |\n",
      "+-------+-------------------+-----------+------------+---+----------------+----------------------+--------------+----------------+-------------------+-----------------+-------------------+--------------+----------+\n",
      "only showing top 5 rows\n",
      "\n"
     ]
    }
   ],
   "source": [
    "joinExpression = ((customer_cards_df[\"Card_Number\"] == trans_frauds_df[\"Credit_Card_ID\"]) & (trans_frauds_df['Fraud_Flag'].isNotNull()))\n",
    "\n",
    "\n",
    "customer_with_fraud_df = (customer_cards_df.join(trans_frauds_df,\n",
    "                                                 on = joinExpression,\n",
    "                                                 how = 'inner'))\n",
    "\n",
    "customer_with_fraud_df.show(5, truncate = False)"
   ]
  },
  {
   "cell_type": "markdown",
   "id": "34b36947-7ef7-4248-b0bc-6373be32c6ea",
   "metadata": {},
   "source": [
    "## Other scenarios"
   ]
  },
  {
   "cell_type": "markdown",
   "id": "74bab6e7-0bf6-40d8-a36b-ed9b1d602519",
   "metadata": {},
   "source": [
    "### Right outer join"
   ]
  },
  {
   "cell_type": "raw",
   "id": "dcf87a0e-79bd-4ed3-98dd-3dc3a000fb1c",
   "metadata": {},
   "source": [
    "right_join = df1.join(df2, \n",
    "                      df1['common_column']==df2['common_column'],\n",
    "                      how = 'right_outer')"
   ]
  },
  {
   "cell_type": "markdown",
   "id": "ac9185cd-6d0e-451d-a76f-817284c0c341",
   "metadata": {},
   "source": [
    "## Full outer join"
   ]
  },
  {
   "cell_type": "raw",
   "id": "f7cdc142-e2cd-4973-b432-2e50ec5ccf42",
   "metadata": {},
   "source": [
    "full_join = df1.join(df2, \n",
    "                     on= 'common_column',\n",
    "                     how = 'outer'\n",
    "                    )\n",
    "                     "
   ]
  },
  {
   "cell_type": "markdown",
   "id": "bad20118-f978-4d98-be25-3e04a1349a27",
   "metadata": {},
   "source": [
    "## Cross Join"
   ]
  },
  {
   "cell_type": "raw",
   "id": "4baa81b2-5567-4781-94c8-badcf74ca470",
   "metadata": {},
   "source": [
    "cross_join = df1.crossJoin(df2)"
   ]
  },
  {
   "cell_type": "code",
   "execution_count": null,
   "id": "37191b9f-b855-4d90-a5f2-0dc2343c9923",
   "metadata": {},
   "outputs": [],
   "source": []
  },
  {
   "cell_type": "markdown",
   "id": "c1d8979d-c590-40d8-8050-495598a7550d",
   "metadata": {},
   "source": [
    "## BroadCast Join"
   ]
  },
  {
   "cell_type": "raw",
   "id": "d72f746f-0bf9-4bbc-9c97-5a3ddf149c75",
   "metadata": {},
   "source": [
    "When joining large datasets, Spark may need to reshuffle data accross network which may be slow and \n",
    "resource-intensive.\n",
    "\n",
    "However, if one of the datasets is small enough to fit in memory,we can use the broadcast join to speed up\n",
    "the join operation and avoid shuffling. \n",
    "\n",
    "In broadcast join, Spark broadcasts the small dataset to all worker nodes which cna then be used to perform\n",
    "join locally. \n",
    "\n",
    "To use broadcast join, we can call the broadcast() function on the smaller dataset. "
   ]
  },
  {
   "cell_type": "raw",
   "id": "56e83a75-7768-49ff-90e3-4789112be9a9",
   "metadata": {},
   "source": [
    "broadcast_join = df1.join(broadcast(df2), [\"Column_1\", \"Column2\"], \n",
    "                          \"inner\")\n",
    "\n",
    "broadcast_join.show()"
   ]
  },
  {
   "cell_type": "markdown",
   "id": "4d4d26ab-6703-43bb-8cc4-c7cdb9954a31",
   "metadata": {},
   "source": [
    "## Multiple Join conditions"
   ]
  },
  {
   "cell_type": "markdown",
   "id": "9d6e511a-5d01-4299-9af6-9dd99c380515",
   "metadata": {},
   "source": [
    "### Performing Inner join on multiple columns"
   ]
  },
  {
   "cell_type": "raw",
   "id": "b4f93506-b752-4290-b113-54e6d026180a",
   "metadata": {},
   "source": [
    "multi_join = df1.join(df2,\n",
    "                      on = ['Name', 'Gender', 'Age'],\n",
    "                      how = 'inner')\n",
    "\n",
    "multi_join.show()\n",
    "                      "
   ]
  },
  {
   "cell_type": "code",
   "execution_count": 19,
   "id": "c7370409-0051-4d6d-b9a1-5915ca9d5bc5",
   "metadata": {},
   "outputs": [],
   "source": [
    "spark.stop()"
   ]
  },
  {
   "cell_type": "code",
   "execution_count": null,
   "id": "2fa4760e-efbc-4028-a62f-c70a7a3643d7",
   "metadata": {},
   "outputs": [],
   "source": []
  }
 ],
 "metadata": {
  "kernelspec": {
   "display_name": "Python 3 (ipykernel)",
   "language": "python",
   "name": "python3"
  },
  "language_info": {
   "codemirror_mode": {
    "name": "ipython",
    "version": 3
   },
   "file_extension": ".py",
   "mimetype": "text/x-python",
   "name": "python",
   "nbconvert_exporter": "python",
   "pygments_lexer": "ipython3",
   "version": "3.10.12"
  }
 },
 "nbformat": 4,
 "nbformat_minor": 5
}
