{
 "cells": [
  {
   "cell_type": "markdown",
   "id": "6aa2ae8c-3e98-43f8-9ca7-a77e0a4dd36a",
   "metadata": {},
   "source": [
    "## Import libraries and modules"
   ]
  },
  {
   "cell_type": "code",
   "execution_count": 1,
   "id": "7b865b93-094d-4d11-bf62-7a3c1ac1065e",
   "metadata": {},
   "outputs": [],
   "source": [
    "from pyspark.sql import SparkSession\n",
    "from pyspark.sql.functions import *"
   ]
  },
  {
   "cell_type": "markdown",
   "id": "0105ad63-6d61-4d12-af03-13cdb023504f",
   "metadata": {},
   "source": [
    "## Create a spark session object"
   ]
  },
  {
   "cell_type": "code",
   "execution_count": 2,
   "id": "f07158b0-4989-4a3d-9233-149e9bf4b3eb",
   "metadata": {},
   "outputs": [
    {
     "name": "stderr",
     "output_type": "stream",
     "text": [
      "Setting default log level to \"WARN\".\n",
      "To adjust logging level use sc.setLogLevel(newLevel). For SparkR, use setLogLevel(newLevel).\n",
      "25/03/28 23:02:54 WARN NativeCodeLoader: Unable to load native-hadoop library for your platform... using builtin-java classes where applicable\n"
     ]
    }
   ],
   "source": [
    "spark = (SparkSession.builder\n",
    "         .appName(\"text-processing\")\n",
    "         .master(\"spark://spark-master:7077\")\n",
    "         .config(\"spark.executor.memory\", \"512m\")\n",
    "         .getOrCreate())"
   ]
  },
  {
   "cell_type": "code",
   "execution_count": 3,
   "id": "57ca5076-373e-4e89-a71a-813597e1bc78",
   "metadata": {},
   "outputs": [],
   "source": [
    "spark.sparkContext.setLogLevel(\"ERROR\")"
   ]
  },
  {
   "cell_type": "markdown",
   "id": "bca4d19c-f190-47f9-9205-ad08dbea2097",
   "metadata": {},
   "source": [
    "## Load the data"
   ]
  },
  {
   "cell_type": "code",
   "execution_count": 4,
   "id": "05e06bdf-cef1-44f6-9b67-15acb21b67ed",
   "metadata": {},
   "outputs": [],
   "source": [
    "df = (spark.read.format(\"csv\")\n",
    "      .option(\"header\", \"true\")\n",
    "      .option(\"multiLine\", \"true\")\n",
    "      .load(\"../../data/Reviews.csv\"))"
   ]
  },
  {
   "cell_type": "code",
   "execution_count": 5,
   "id": "4b8fe875-1f38-4c9c-a4f4-083f234297f4",
   "metadata": {},
   "outputs": [
    {
     "name": "stdout",
     "output_type": "stream",
     "text": [
      "root\n",
      " |-- Id: string (nullable = true)\n",
      " |-- ProductId: string (nullable = true)\n",
      " |-- UserId: string (nullable = true)\n",
      " |-- ProfileName: string (nullable = true)\n",
      " |-- HelpfulnessNumerator: string (nullable = true)\n",
      " |-- HelpfulnessDenominator: string (nullable = true)\n",
      " |-- Score: string (nullable = true)\n",
      " |-- Time: string (nullable = true)\n",
      " |-- Summary: string (nullable = true)\n",
      " |-- Text: string (nullable = true)\n",
      "\n"
     ]
    }
   ],
   "source": [
    "df.printSchema()"
   ]
  },
  {
   "cell_type": "code",
   "execution_count": 6,
   "id": "3c2665ec-4795-4183-a4ff-5472e4a70dda",
   "metadata": {},
   "outputs": [
    {
     "name": "stdout",
     "output_type": "stream",
     "text": [
      "+------+----------+--------------+----------------------------------+--------------------+----------------------+-----+----------+----------------------------------+----------------------------------------------------------------------------------------------------------------------------------------------------------------------------------------------------------------------------------------------------------------------------------------------------------------------------------------------------------------------------------------------------------------------------------------------------------------------------------------------------------------------------------------------------------------------------------------------------------------------------------------------------------------------------------------------------------------------------------------------------------------------------------------------------------------+\n",
      "|Id    |ProductId |UserId        |ProfileName                       |HelpfulnessNumerator|HelpfulnessDenominator|Score|Time      |Summary                           |Text                                                                                                                                                                                                                                                                                                                                                                                                                                                                                                                                                                                                                                                                                                                                                                                                            |\n",
      "+------+----------+--------------+----------------------------------+--------------------+----------------------+-----+----------+----------------------------------+----------------------------------------------------------------------------------------------------------------------------------------------------------------------------------------------------------------------------------------------------------------------------------------------------------------------------------------------------------------------------------------------------------------------------------------------------------------------------------------------------------------------------------------------------------------------------------------------------------------------------------------------------------------------------------------------------------------------------------------------------------------------------------------------------------------+\n",
      "|250093|B0029NII3C|A3P8CU9874SRK5|C. christine                      |0                   |0                     |2    |1316649600|Unwanted Ingredients              |I was interested in this food and so was my cat until she got ill from two magical ingredients:<br /><br />Corn Starch-Modified, Wheat Gluten<br /><br />They do absolutely nothing for your cat but can cause health issues. She did a lot of throwing up and had the runs so I immediately switched to a natural canned cat food, all back to normal - no more sickness.<br /><br />My even greater concern with these flavors is the tuna/salmon - not only are you feeding them things they can't really process{wheat/corn} but your also feeding them a daily dose of mercury. Worth it?? You tell me when you get the vet bills that could have rather been spent on good food.                                                                                                                          |\n",
      "|250115|B0013MEB40|A99TG4Q2ZPW7S |\"Blu-estLight \"\"MyEnglishIsGood\"\"\"|0                   |0                     |4    |1310083200|one of my favorite cookies        |These cookies are both yummy and well priced. I recommend them. Other cookies I like are Mrs. Fields(packaged), Chips ahoy soft baked, fig newtons, oreos, and elf cookies.                                                                                                                                                                                                                                                                                                                                                                                                                                                                                                                                                                                                                                     |\n",
      "|250132|B005UBH8WC|AY12DBB0U420B |Gary Peterson                     |0                   |0                     |5    |1336348800|A Favorite of My Little Boy.      |I've been using Icebreakers as a breath freshener for some time now. Almost by accident, I gave one to my little boy (3.5 years) when he saw me taking one. He immediately liked it and would ask for one from time to time. Okay, they're only a tiny piece of candy and they're sugar free. What harm could it do? Well, then I started using them as little rewards and small incentives to do things. It worked. Finally, one day when I ran out and wanted to pick up some more, I found the Ice Breakers Sours (Mixed Berry) and I started using them. At first, he seemed startled at the drastic change in flavor. Now he loves them, more than the mint. Well, I like them too. I still prefer the mint as a breath freshener, but these little Sours are my boy's favorites.<br /><br />Gary Peterson.|\n",
      "|250137|B001EQ57QG|A9X62UCTFNQBE |R. Jones                          |1                   |1                     |5    |1255824000|cheaper in bulk                   |I love French's Fried Onions, but when I buy it locally it is usually around 5 or 6 dollars for a six-ounce can, so I don't get it very often.  When I found this product on Amazon, I got it because the per-ounce price is about a third of what I can buy locally.                                                                                                                                                                                                                                                                                                                                                                                                                                                                                                                                           |\n",
      "|250180|B000FGXT3E|AHPF30RZZGF5L |LORRAINE J CAROPRESO              |1                   |1                     |5    |1308873600|BEST TEA. BEST SERVICE, BEST PRICE|\"I HAVE ORDERED \"\"TWO LEAVES AND A BUD\"\" TEA FROM AMAZON ON TWO OCCASIONS AND HAVE BEEN VERY SATISFIED WITH THE PRODUCT AND THE SERVICE.\"                                                                                                                                                                                                                                                                                                                                                                                                                                                                                                                                                                                                                                                                       |\n",
      "+------+----------+--------------+----------------------------------+--------------------+----------------------+-----+----------+----------------------------------+----------------------------------------------------------------------------------------------------------------------------------------------------------------------------------------------------------------------------------------------------------------------------------------------------------------------------------------------------------------------------------------------------------------------------------------------------------------------------------------------------------------------------------------------------------------------------------------------------------------------------------------------------------------------------------------------------------------------------------------------------------------------------------------------------------------+\n",
      "only showing top 5 rows\n",
      "\n"
     ]
    }
   ],
   "source": [
    "df.show(5, truncate=False)"
   ]
  },
  {
   "cell_type": "markdown",
   "id": "f3013bac-7b4e-4e2d-8027-31108e2c4f41",
   "metadata": {},
   "source": [
    "## Clean data with regular expressions"
   ]
  },
  {
   "cell_type": "code",
   "execution_count": 7,
   "id": "fd8e2fa4-4e73-4d93-bdbd-7ef9aa93435f",
   "metadata": {},
   "outputs": [
    {
     "name": "stdout",
     "output_type": "stream",
     "text": [
      "+------+----------+--------------+----------------------------------+--------------------+----------------------+-----+----------+----------------------------------+------------------------------------------------------------------------------------------------------------------------------------------------------------------------------------------------------------------------------------------------------------------------------------------------------------------------------------------------------------------------------------------------------------------------------------------------------------------------------------------------------------------------------------------------------------------------------------------------------------------------------------------------------------------------------------------------------------------------------------------------------------------------+\n",
      "|Id    |ProductId |UserId        |ProfileName                       |HelpfulnessNumerator|HelpfulnessDenominator|Score|Time      |Summary                           |Text                                                                                                                                                                                                                                                                                                                                                                                                                                                                                                                                                                                                                                                                                                                                                                    |\n",
      "+------+----------+--------------+----------------------------------+--------------------+----------------------+-----+----------+----------------------------------+------------------------------------------------------------------------------------------------------------------------------------------------------------------------------------------------------------------------------------------------------------------------------------------------------------------------------------------------------------------------------------------------------------------------------------------------------------------------------------------------------------------------------------------------------------------------------------------------------------------------------------------------------------------------------------------------------------------------------------------------------------------------+\n",
      "|250093|B0029NII3C|A3P8CU9874SRK5|C. christine                      |0                   |0                     |2    |1316649600|Unwanted Ingredients              |I was interested in this food and so was my cat until she got ill from two magical ingredientsbr br Corn StarchModified Wheat Glutenbr br They do absolutely nothing for your cat but can cause health issues She did a lot of throwing up and had the runs so I immediately switched to a natural canned cat food all back to normal no more sicknessbr br My even greater concern with these flavors is the tunasalmon not only are you feeding them things they cant really processwheatcorn but your also feeding them a daily dose of mercury Worth it You tell me when you get the vet bills that could have rather been spent on good food                                                                                                                       |\n",
      "|250115|B0013MEB40|A99TG4Q2ZPW7S |\"Blu-estLight \"\"MyEnglishIsGood\"\"\"|0                   |0                     |4    |1310083200|one of my favorite cookies        |These cookies are both yummy and well priced I recommend them Other cookies I like are Mrs Fieldspackaged Chips ahoy soft baked fig newtons oreos and elf cookies                                                                                                                                                                                                                                                                                                                                                                                                                                                                                                                                                                                                       |\n",
      "|250132|B005UBH8WC|AY12DBB0U420B |Gary Peterson                     |0                   |0                     |5    |1336348800|A Favorite of My Little Boy.      |Ive been using Icebreakers as a breath freshener for some time now Almost by accident I gave one to my little boy years when he saw me taking one He immediately liked it and would ask for one from time to time Okay theyre only a tiny piece of candy and theyre sugar free What harm could it do Well then I started using them as little rewards and small incentives to do things It worked Finally one day when I ran out and wanted to pick up some more I found the Ice Breakers Sours Mixed Berry and I started using them At first he seemed startled at the drastic change in flavor Now he loves them more than the mint Well I like them too I still prefer the mint as a breath freshener but these little Sours are my boys favoritesbr br Gary Peterson|\n",
      "|250137|B001EQ57QG|A9X62UCTFNQBE |R. Jones                          |1                   |1                     |5    |1255824000|cheaper in bulk                   |I love Frenchs Fried Onions but when I buy it locally it is usually around or dollars for a sixounce can so I dont get it very often When I found this product on Amazon I got it because the perounce price is about a third of what I can buy locally                                                                                                                                                                                                                                                                                                                                                                                                                                                                                                                 |\n",
      "|250180|B000FGXT3E|AHPF30RZZGF5L |LORRAINE J CAROPRESO              |1                   |1                     |5    |1308873600|BEST TEA. BEST SERVICE, BEST PRICE|I HAVE ORDERED TWO LEAVES AND A BUD TEA FROM AMAZON ON TWO OCCASIONS AND HAVE BEEN VERY SATISFIED WITH THE PRODUCT AND THE SERVICE                                                                                                                                                                                                                                                                                                                                                                                                                                                                                                                                                                                                                                      |\n",
      "+------+----------+--------------+----------------------------------+--------------------+----------------------+-----+----------+----------------------------------+------------------------------------------------------------------------------------------------------------------------------------------------------------------------------------------------------------------------------------------------------------------------------------------------------------------------------------------------------------------------------------------------------------------------------------------------------------------------------------------------------------------------------------------------------------------------------------------------------------------------------------------------------------------------------------------------------------------------------------------------------------------------+\n",
      "only showing top 5 rows\n",
      "\n"
     ]
    }
   ],
   "source": [
    "df_clean = (df.withColumn(\"Text\", regexp_replace(\"Text\", \"[^a-zA-Z ]\", \"\"))\n",
    "            .withColumn(\"Text\", regexp_replace(\"Text\", \" +\", \" \"))\n",
    "           )\n",
    "\n",
    "df_clean.show(5, truncate=False)"
   ]
  },
  {
   "cell_type": "markdown",
   "id": "f3e545f1-d051-4548-8f58-eefdbf25804b",
   "metadata": {},
   "source": [
    "## Tokenize the text data"
   ]
  },
  {
   "cell_type": "markdown",
   "id": "5a68c502-d70f-4265-ba13-a758467ea317",
   "metadata": {},
   "source": [
    "### Using built-in tokenizer in MLlib library"
   ]
  },
  {
   "cell_type": "code",
   "execution_count": 8,
   "id": "47b14c96-f905-438a-99d0-f9d6fab5bcd9",
   "metadata": {},
   "outputs": [],
   "source": [
    "from pyspark.ml.feature import Tokenizer"
   ]
  },
  {
   "cell_type": "code",
   "execution_count": 9,
   "id": "e8cc67ef-4286-4052-82a1-75a3c5deca82",
   "metadata": {},
   "outputs": [
    {
     "name": "stderr",
     "output_type": "stream",
     "text": [
      "[Stage 3:>                                                          (0 + 1) / 1]\r"
     ]
    },
    {
     "name": "stdout",
     "output_type": "stream",
     "text": [
      "+------+----------+--------------+--------------------+--------------------+----------------------+-----+----------+--------------------+--------------------+--------------------+\n",
      "|    Id| ProductId|        UserId|         ProfileName|HelpfulnessNumerator|HelpfulnessDenominator|Score|      Time|             Summary|                Text|               words|\n",
      "+------+----------+--------------+--------------------+--------------------+----------------------+-----+----------+--------------------+--------------------+--------------------+\n",
      "|250093|B0029NII3C|A3P8CU9874SRK5|        C. christine|                   0|                     0|    2|1316649600|Unwanted Ingredients|I was interested ...|[i, was, interest...|\n",
      "|250115|B0013MEB40| A99TG4Q2ZPW7S|\"Blu-estLight \"\"M...|                   0|                     0|    4|1310083200|one of my favorit...|These cookies are...|[these, cookies, ...|\n",
      "|250132|B005UBH8WC| AY12DBB0U420B|       Gary Peterson|                   0|                     0|    5|1336348800|A Favorite of My ...|Ive been using Ic...|[ive, been, using...|\n",
      "|250137|B001EQ57QG| A9X62UCTFNQBE|            R. Jones|                   1|                     1|    5|1255824000|     cheaper in bulk|I love Frenchs Fr...|[i, love, frenchs...|\n",
      "|250180|B000FGXT3E| AHPF30RZZGF5L|LORRAINE J CAROPRESO|                   1|                     1|    5|1308873600|BEST TEA. BEST SE...|I HAVE ORDERED TW...|[i, have, ordered...|\n",
      "|250195|B0027UYT4O| APPJJ3UYNWWUM|           OregonMom|                   5|                     5|    4|1283904000|Love the style/be...|I am a mom concer...|[i, am, a, mom, c...|\n",
      "|250206|B0027UYT4O|A14XRI4U6BRG8T|                  Dw|                   1|                     1|    4|1310774400|Worth the expensi...|I bought this pro...|[i, bought, this,...|\n",
      "|250279|B004DNB55E| A58N07M0ZCYMB|           Valentina|                   2|                     2|    5|1319932800|Keurig for tea dr...|Purchased to go w...|[purchased, to, g...|\n",
      "|250290|B0013T8ZMM| AIREDVHY8HR7R|          Beach Girl|                   1|                     1|    3|1285200000|Great Coffee, Ama...|I ordered this on...|[i, ordered, this...|\n",
      "|250293|B002YVF4TU|A187VKK7VWKQ99|           Food Snob|                   2|                     9|    1|1317945600|Smells and Taste ...|The picture is NO...|[the, picture, is...|\n",
      "|250301|B001NXHY8Y|A31HE83MU98GBV|         Gadget Girl|                   0|                     0|    5|1281830400|My daughter is ho...|My friend gave us...|[my, friend, gave...|\n",
      "|250307|B001NXHY8Y|A20P8VC55KPPCT|              FL Mom|                   0|                     0|    5|1274227200|       Great snacks!|These Puffs are g...|[these, puffs, ar...|\n",
      "|250330|B001NXHY8Y|A39X8777WA7LD9|\"Jennifer L. Lash...|                   0|                     0|    4|1246406400|         great stuff|My child loves th...|[my, child, loves...|\n",
      "|250332|B001NXHY8Y|A3IKHM6L9U5VLE|      Erin Dickerson|                   0|                     0|    5|1243641600|   love these puffs!|My twin boys love...|[my, twin, boys, ...|\n",
      "|250382|B001NXHY8Y| ASO2KEXN700UN|            Sam I Am|                   1|                     1|    5|1327104000|My little guy lov...|My little guy LOV...|[my, little, guy,...|\n",
      "|250477|B004WSBZAA| AKJ3P4XK1KN5Y|        PhoenixFalls|                   0|                     0|    2|1324339200|Far less than adv...|The packaging cla...|[the, packaging, ...|\n",
      "|250489|B004WSBZAA|A10Z8FC0SMU5VQ|  Dorraine M. Rooney|                   0|                     0|    5|1323043200|       Old Daschaund|I started noticin...|[i, started, noti...|\n",
      "|250545|B00248EA8Y|A18QHULJJH06CQ|   \"June IV \"\"Liu\"\"\"|                   1|                     1|    4|1308441600|the candy needs a...|The candies came ...|[the, candies, ca...|\n",
      "|250577|B003ZIR8YU| AG2G8W7XF4IFE|             RachelW|                   3|                     3|    5|1314316800|      Great cookies!|My favorite cooki...|[my, favorite, co...|\n",
      "|250644|B0054TWRUI|A2V2SFPL5APRIK|                 Jen|                   3|                     4|    1|1311724800|      awful flavor!!|I love the Happy ...|[i, love, the, ha...|\n",
      "+------+----------+--------------+--------------------+--------------------+----------------------+-----+----------+--------------------+--------------------+--------------------+\n",
      "only showing top 20 rows\n",
      "\n"
     ]
    },
    {
     "name": "stderr",
     "output_type": "stream",
     "text": [
      "                                                                                \r"
     ]
    }
   ],
   "source": [
    "tokenizer = Tokenizer(inputCol='Text', \n",
    "                      outputCol='words')\n",
    "\n",
    "df_with_words = tokenizer.transform(df_clean)\n",
    "\n",
    "df_with_words.show()"
   ]
  },
  {
   "cell_type": "markdown",
   "id": "f8867199-a0e2-48a9-95d0-35c5b4cadc29",
   "metadata": {},
   "source": [
    "## Remove stop words"
   ]
  },
  {
   "cell_type": "code",
   "execution_count": 10,
   "id": "c5c7fbab-538b-499c-a1cb-2ddecd087cf7",
   "metadata": {},
   "outputs": [],
   "source": [
    "from pyspark.ml.feature import StopWordsRemover"
   ]
  },
  {
   "cell_type": "code",
   "execution_count": 11,
   "id": "54223d27-837f-4c0c-b89a-ac8e9a9b3b65",
   "metadata": {},
   "outputs": [
    {
     "name": "stdout",
     "output_type": "stream",
     "text": [
      "+------+----------+--------------+----------------------------------+--------------------+----------------------+-----+----------+----------------------------------+------------------------------------------------------------------------------------------------------------------------------------------------------------------------------------------------------------------------------------------------------------------------------------------------------------------------------------------------------------------------------------------------------------------------------------------------------------------------------------------------------------------------------------------------------------------------------------------------------------------------------------------------------------------------------------------------------------------------------------------------------------------------+----------------------------------------------------------------------------------------------------------------------------------------------------------------------------------------------------------------------------------------------------------------------------------------------------------------------------------------------------------------------------------------------------------------------------------------------------------------------------------------------------------------------------------------------------------------------------------------------------------------------------------------------------------------------------------------------------------------------------------------------------------------------------------------------------------------------------------------------------------------------------------------------------------------------------+--------------------------------------------------------------------------------------------------------------------------------------------------------------------------------------------------------------------------------------------------------------------------------------------------------------------------------------------------------------------------------------------------------------------------------------------------------------------------------------------------------------------------------------------------------------------------------+\n",
      "|Id    |ProductId |UserId        |ProfileName                       |HelpfulnessNumerator|HelpfulnessDenominator|Score|Time      |Summary                           |Text                                                                                                                                                                                                                                                                                                                                                                                                                                                                                                                                                                                                                                                                                                                                                                    |words                                                                                                                                                                                                                                                                                                                                                                                                                                                                                                                                                                                                                                                                                                                                                                                                                                                                                                                       |filtered_words                                                                                                                                                                                                                                                                                                                                                                                                                                                                                                                                                                  |\n",
      "+------+----------+--------------+----------------------------------+--------------------+----------------------+-----+----------+----------------------------------+------------------------------------------------------------------------------------------------------------------------------------------------------------------------------------------------------------------------------------------------------------------------------------------------------------------------------------------------------------------------------------------------------------------------------------------------------------------------------------------------------------------------------------------------------------------------------------------------------------------------------------------------------------------------------------------------------------------------------------------------------------------------+----------------------------------------------------------------------------------------------------------------------------------------------------------------------------------------------------------------------------------------------------------------------------------------------------------------------------------------------------------------------------------------------------------------------------------------------------------------------------------------------------------------------------------------------------------------------------------------------------------------------------------------------------------------------------------------------------------------------------------------------------------------------------------------------------------------------------------------------------------------------------------------------------------------------------+--------------------------------------------------------------------------------------------------------------------------------------------------------------------------------------------------------------------------------------------------------------------------------------------------------------------------------------------------------------------------------------------------------------------------------------------------------------------------------------------------------------------------------------------------------------------------------+\n",
      "|250093|B0029NII3C|A3P8CU9874SRK5|C. christine                      |0                   |0                     |2    |1316649600|Unwanted Ingredients              |I was interested in this food and so was my cat until she got ill from two magical ingredientsbr br Corn StarchModified Wheat Glutenbr br They do absolutely nothing for your cat but can cause health issues She did a lot of throwing up and had the runs so I immediately switched to a natural canned cat food all back to normal no more sicknessbr br My even greater concern with these flavors is the tunasalmon not only are you feeding them things they cant really processwheatcorn but your also feeding them a daily dose of mercury Worth it You tell me when you get the vet bills that could have rather been spent on good food                                                                                                                       |[i, was, interested, in, this, food, and, so, was, my, cat, until, she, got, ill, from, two, magical, ingredientsbr, br, corn, starchmodified, wheat, glutenbr, br, they, do, absolutely, nothing, for, your, cat, but, can, cause, health, issues, she, did, a, lot, of, throwing, up, and, had, the, runs, so, i, immediately, switched, to, a, natural, canned, cat, food, all, back, to, normal, no, more, sicknessbr, br, my, even, greater, concern, with, these, flavors, is, the, tunasalmon, not, only, are, you, feeding, them, things, they, cant, really, processwheatcorn, but, your, also, feeding, them, a, daily, dose, of, mercury, worth, it, you, tell, me, when, you, get, the, vet, bills, that, could, have, rather, been, spent, on, good, food]                                                                                                                                                     |[interested, food, cat, got, ill, two, magical, ingredientsbr, br, corn, starchmodified, wheat, glutenbr, br, absolutely, nothing, cat, cause, health, issues, lot, throwing, runs, immediately, switched, natural, canned, cat, food, back, normal, sicknessbr, br, even, greater, concern, flavors, tunasalmon, feeding, things, cant, really, processwheatcorn, also, feeding, daily, dose, mercury, worth, tell, get, vet, bills, rather, spent, good, food]                                                                                                                |\n",
      "|250115|B0013MEB40|A99TG4Q2ZPW7S |\"Blu-estLight \"\"MyEnglishIsGood\"\"\"|0                   |0                     |4    |1310083200|one of my favorite cookies        |These cookies are both yummy and well priced I recommend them Other cookies I like are Mrs Fieldspackaged Chips ahoy soft baked fig newtons oreos and elf cookies                                                                                                                                                                                                                                                                                                                                                                                                                                                                                                                                                                                                       |[these, cookies, are, both, yummy, and, well, priced, i, recommend, them, other, cookies, i, like, are, mrs, fieldspackaged, chips, ahoy, soft, baked, fig, newtons, oreos, and, elf, cookies]                                                                                                                                                                                                                                                                                                                                                                                                                                                                                                                                                                                                                                                                                                                              |[cookies, yummy, well, priced, recommend, cookies, like, mrs, fieldspackaged, chips, ahoy, soft, baked, fig, newtons, oreos, elf, cookies]                                                                                                                                                                                                                                                                                                                                                                                                                                      |\n",
      "|250132|B005UBH8WC|AY12DBB0U420B |Gary Peterson                     |0                   |0                     |5    |1336348800|A Favorite of My Little Boy.      |Ive been using Icebreakers as a breath freshener for some time now Almost by accident I gave one to my little boy years when he saw me taking one He immediately liked it and would ask for one from time to time Okay theyre only a tiny piece of candy and theyre sugar free What harm could it do Well then I started using them as little rewards and small incentives to do things It worked Finally one day when I ran out and wanted to pick up some more I found the Ice Breakers Sours Mixed Berry and I started using them At first he seemed startled at the drastic change in flavor Now he loves them more than the mint Well I like them too I still prefer the mint as a breath freshener but these little Sours are my boys favoritesbr br Gary Peterson|[ive, been, using, icebreakers, as, a, breath, freshener, for, some, time, now, almost, by, accident, i, gave, one, to, my, little, boy, years, when, he, saw, me, taking, one, he, immediately, liked, it, and, would, ask, for, one, from, time, to, time, okay, theyre, only, a, tiny, piece, of, candy, and, theyre, sugar, free, what, harm, could, it, do, well, then, i, started, using, them, as, little, rewards, and, small, incentives, to, do, things, it, worked, finally, one, day, when, i, ran, out, and, wanted, to, pick, up, some, more, i, found, the, ice, breakers, sours, mixed, berry, and, i, started, using, them, at, first, he, seemed, startled, at, the, drastic, change, in, flavor, now, he, loves, them, more, than, the, mint, well, i, like, them, too, i, still, prefer, the, mint, as, a, breath, freshener, but, these, little, sours, are, my, boys, favoritesbr, br, gary, peterson]|[ive, using, icebreakers, breath, freshener, time, almost, accident, gave, one, little, boy, years, saw, taking, one, immediately, liked, ask, one, time, time, okay, theyre, tiny, piece, candy, theyre, sugar, free, harm, well, started, using, little, rewards, small, incentives, things, worked, finally, one, day, ran, wanted, pick, found, ice, breakers, sours, mixed, berry, started, using, first, seemed, startled, drastic, change, flavor, loves, mint, well, like, still, prefer, mint, breath, freshener, little, sours, boys, favoritesbr, br, gary, peterson]|\n",
      "|250137|B001EQ57QG|A9X62UCTFNQBE |R. Jones                          |1                   |1                     |5    |1255824000|cheaper in bulk                   |I love Frenchs Fried Onions but when I buy it locally it is usually around or dollars for a sixounce can so I dont get it very often When I found this product on Amazon I got it because the perounce price is about a third of what I can buy locally                                                                                                                                                                                                                                                                                                                                                                                                                                                                                                                 |[i, love, frenchs, fried, onions, but, when, i, buy, it, locally, it, is, usually, around, or, dollars, for, a, sixounce, can, so, i, dont, get, it, very, often, when, i, found, this, product, on, amazon, i, got, it, because, the, perounce, price, is, about, a, third, of, what, i, can, buy, locally]                                                                                                                                                                                                                                                                                                                                                                                                                                                                                                                                                                                                                |[love, frenchs, fried, onions, buy, locally, usually, around, dollars, sixounce, dont, get, often, found, product, amazon, got, perounce, price, third, buy, locally]                                                                                                                                                                                                                                                                                                                                                                                                           |\n",
      "|250180|B000FGXT3E|AHPF30RZZGF5L |LORRAINE J CAROPRESO              |1                   |1                     |5    |1308873600|BEST TEA. BEST SERVICE, BEST PRICE|I HAVE ORDERED TWO LEAVES AND A BUD TEA FROM AMAZON ON TWO OCCASIONS AND HAVE BEEN VERY SATISFIED WITH THE PRODUCT AND THE SERVICE                                                                                                                                                                                                                                                                                                                                                                                                                                                                                                                                                                                                                                      |[i, have, ordered, two, leaves, and, a, bud, tea, from, amazon, on, two, occasions, and, have, been, very, satisfied, with, the, product, and, the, service]                                                                                                                                                                                                                                                                                                                                                                                                                                                                                                                                                                                                                                                                                                                                                                |[ordered, two, leaves, bud, tea, amazon, two, occasions, satisfied, product, service]                                                                                                                                                                                                                                                                                                                                                                                                                                                                                           |\n",
      "+------+----------+--------------+----------------------------------+--------------------+----------------------+-----+----------+----------------------------------+------------------------------------------------------------------------------------------------------------------------------------------------------------------------------------------------------------------------------------------------------------------------------------------------------------------------------------------------------------------------------------------------------------------------------------------------------------------------------------------------------------------------------------------------------------------------------------------------------------------------------------------------------------------------------------------------------------------------------------------------------------------------+----------------------------------------------------------------------------------------------------------------------------------------------------------------------------------------------------------------------------------------------------------------------------------------------------------------------------------------------------------------------------------------------------------------------------------------------------------------------------------------------------------------------------------------------------------------------------------------------------------------------------------------------------------------------------------------------------------------------------------------------------------------------------------------------------------------------------------------------------------------------------------------------------------------------------+--------------------------------------------------------------------------------------------------------------------------------------------------------------------------------------------------------------------------------------------------------------------------------------------------------------------------------------------------------------------------------------------------------------------------------------------------------------------------------------------------------------------------------------------------------------------------------+\n",
      "only showing top 5 rows\n",
      "\n"
     ]
    }
   ],
   "source": [
    "remover = StopWordsRemover(inputCol='words',\n",
    "                           outputCol='filtered_words')\n",
    "\n",
    "df_stop_words_removed = remover.transform(df_with_words)\n",
    "\n",
    "df_stop_words_removed.show(5, truncate=False)"
   ]
  },
  {
   "cell_type": "markdown",
   "id": "a20a58ea-f9af-4b7a-a6cd-d4446cd5035d",
   "metadata": {},
   "source": [
    "## Compute word frequency"
   ]
  },
  {
   "cell_type": "code",
   "execution_count": 12,
   "id": "645e05fc-5543-4ccf-b830-9516440e4b12",
   "metadata": {},
   "outputs": [
    {
     "name": "stderr",
     "output_type": "stream",
     "text": [
      "[Stage 5:>                                                          (0 + 1) / 1]\r"
     ]
    },
    {
     "name": "stdout",
     "output_type": "stream",
     "text": [
      "+---------+-----+\n",
      "|     word|count|\n",
      "+---------+-----+\n",
      "|     like| 2856|\n",
      "|       br| 2761|\n",
      "|     good| 2278|\n",
      "|    great| 1979|\n",
      "|      one| 1938|\n",
      "|    taste| 1909|\n",
      "|  product| 1733|\n",
      "|   coffee| 1663|\n",
      "|   flavor| 1614|\n",
      "|     love| 1537|\n",
      "|      tea| 1528|\n",
      "|     food| 1289|\n",
      "|      get| 1158|\n",
      "|   really| 1151|\n",
      "|     dont| 1070|\n",
      "|     much| 1031|\n",
      "|      use| 1010|\n",
      "|     also|  981|\n",
      "|   amazon|  971|\n",
      "|     time|  962|\n",
      "|   little|  910|\n",
      "|    tried|  899|\n",
      "|     best|  891|\n",
      "|      buy|  863|\n",
      "|    price|  862|\n",
      "|      ive|  858|\n",
      "|       im|  825|\n",
      "|     even|  822|\n",
      "|     make|  811|\n",
      "|     well|  809|\n",
      "|     find|  807|\n",
      "|   better|  790|\n",
      "|      try|  747|\n",
      "|chocolate|  726|\n",
      "|      eat|  720|\n",
      "|    water|  697|\n",
      "|     used|  665|\n",
      "|      dog|  644|\n",
      "|    first|  628|\n",
      "|    sweet|  623|\n",
      "|    drink|  623|\n",
      "|   bought|  621|\n",
      "|    found|  617|\n",
      "|     made|  575|\n",
      "|   tastes|  573|\n",
      "|      two|  569|\n",
      "|      bag|  567|\n",
      "|      cup|  559|\n",
      "|      way|  541|\n",
      "|    think|  540|\n",
      "|    sugar|  531|\n",
      "|delicious|  521|\n",
      "|      box|  521|\n",
      "|      day|  513|\n",
      "|    order|  510|\n",
      "|      got|  507|\n",
      "|    since|  495|\n",
      "|     give|  491|\n",
      "|    still|  489|\n",
      "|recommend|  487|\n",
      "|    store|  483|\n",
      "|     many|  482|\n",
      "|       go|  479|\n",
      "| favorite|  478|\n",
      "|   treats|  475|\n",
      "|     know|  472|\n",
      "|      mix|  463|\n",
      "|    brand|  456|\n",
      "|     dogs|  454|\n",
      "|     want|  452|\n",
      "|      bit|  447|\n",
      "|    years|  446|\n",
      "|      hot|  441|\n",
      "|     nice|  441|\n",
      "|  ordered|  440|\n",
      "|    every|  439|\n",
      "|     back|  429|\n",
      "|      add|  424|\n",
      "|    loves|  424|\n",
      "|     free|  419|\n",
      "|   always|  416|\n",
      "|      cat|  414|\n",
      "|  without|  414|\n",
      "|    right|  414|\n",
      "|     cant|  414|\n",
      "|    never|  412|\n",
      "|  perfect|  410|\n",
      "|    snack|  405|\n",
      "|    stuff|  400|\n",
      "|something|  399|\n",
      "|different|  393|\n",
      "|  flavors|  388|\n",
      "|     milk|  388|\n",
      "|   doesnt|  387|\n",
      "|      say|  382|\n",
      "|    didnt|  381|\n",
      "|  healthy|  381|\n",
      "|  however|  381|\n",
      "|    makes|  380|\n",
      "|     easy|  380|\n",
      "+---------+-----+\n",
      "only showing top 100 rows\n",
      "\n"
     ]
    },
    {
     "name": "stderr",
     "output_type": "stream",
     "text": [
      "                                                                                \r"
     ]
    }
   ],
   "source": [
    "df_exploded = (df_stop_words_removed.select(explode(df_stop_words_removed.filtered_words)\n",
    "                                           .alias('word')))\n",
    "\n",
    "word_count = (df_exploded.groupBy(\"word\")\n",
    "              .count()\n",
    "              .orderBy(\"count\", ascending=False))\n",
    "\n",
    "word_count.show(n=100)\n"
   ]
  },
  {
   "cell_type": "markdown",
   "id": "7e9bbe49-70d5-4f21-a33f-e3fd087e4364",
   "metadata": {},
   "source": [
    "## Convert text to numerical features"
   ]
  },
  {
   "cell_type": "code",
   "execution_count": 13,
   "id": "a93ceced-a5c8-4791-bfd3-bd58354ab5bc",
   "metadata": {},
   "outputs": [],
   "source": [
    "from pyspark.ml.feature import CountVectorizer"
   ]
  },
  {
   "cell_type": "code",
   "execution_count": 14,
   "id": "b6c03034-da57-47f9-a935-9100a88dafc9",
   "metadata": {},
   "outputs": [
    {
     "name": "stdout",
     "output_type": "stream",
     "text": [
      "+------+----------+--------------+----------------------------------+--------------------+----------------------+-----+----------+----------------------------------+------------------------------------------------------------------------------------------------------------------------------------------------------------------------------------------------------------------------------------------------------------------------------------------------------------------------------------------------------------------------------------------------------------------------------------------------------------------------------------------------------------------------------------------------------------------------------------------------------------------------------------------------------------------------------------------------------------------------------------------------------------------------+----------------------------------------------------------------------------------------------------------------------------------------------------------------------------------------------------------------------------------------------------------------------------------------------------------------------------------------------------------------------------------------------------------------------------------------------------------------------------------------------------------------------------------------------------------------------------------------------------------------------------------------------------------------------------------------------------------------------------------------------------------------------------------------------------------------------------------------------------------------------------------------------------------------------------+--------------------------------------------------------------------------------------------------------------------------------------------------------------------------------------------------------------------------------------------------------------------------------------------------------------------------------------------------------------------------------------------------------------------------------------------------------------------------------------------------------------------------------------------------------------------------------+---------------------------------------------------------------------------------------------------------------------------------------------------------------------------------------------------------------------------------------------------------------------------------------------------------------------------------------------------------------------------------------------------------------------------------------------------------------------------------------------------------+\n",
      "|Id    |ProductId |UserId        |ProfileName                       |HelpfulnessNumerator|HelpfulnessDenominator|Score|Time      |Summary                           |Text                                                                                                                                                                                                                                                                                                                                                                                                                                                                                                                                                                                                                                                                                                                                                                    |words                                                                                                                                                                                                                                                                                                                                                                                                                                                                                                                                                                                                                                                                                                                                                                                                                                                                                                                       |filtered_words                                                                                                                                                                                                                                                                                                                                                                                                                                                                                                                                                                  |features                                                                                                                                                                                                                                                                                                                                                                                                                                                                                                 |\n",
      "+------+----------+--------------+----------------------------------+--------------------+----------------------+-----+----------+----------------------------------+------------------------------------------------------------------------------------------------------------------------------------------------------------------------------------------------------------------------------------------------------------------------------------------------------------------------------------------------------------------------------------------------------------------------------------------------------------------------------------------------------------------------------------------------------------------------------------------------------------------------------------------------------------------------------------------------------------------------------------------------------------------------+----------------------------------------------------------------------------------------------------------------------------------------------------------------------------------------------------------------------------------------------------------------------------------------------------------------------------------------------------------------------------------------------------------------------------------------------------------------------------------------------------------------------------------------------------------------------------------------------------------------------------------------------------------------------------------------------------------------------------------------------------------------------------------------------------------------------------------------------------------------------------------------------------------------------------+--------------------------------------------------------------------------------------------------------------------------------------------------------------------------------------------------------------------------------------------------------------------------------------------------------------------------------------------------------------------------------------------------------------------------------------------------------------------------------------------------------------------------------------------------------------------------------+---------------------------------------------------------------------------------------------------------------------------------------------------------------------------------------------------------------------------------------------------------------------------------------------------------------------------------------------------------------------------------------------------------------------------------------------------------------------------------------------------------+\n",
      "|250093|B0029NII3C|A3P8CU9874SRK5|C. christine                      |0                   |0                     |2    |1316649600|Unwanted Ingredients              |I was interested in this food and so was my cat until she got ill from two magical ingredientsbr br Corn StarchModified Wheat Glutenbr br They do absolutely nothing for your cat but can cause health issues She did a lot of throwing up and had the runs so I immediately switched to a natural canned cat food all back to normal no more sicknessbr br My even greater concern with these flavors is the tunasalmon not only are you feeding them things they cant really processwheatcorn but your also feeding them a daily dose of mercury Worth it You tell me when you get the vet bills that could have rather been spent on good food                                                                                                                       |[i, was, interested, in, this, food, and, so, was, my, cat, until, she, got, ill, from, two, magical, ingredientsbr, br, corn, starchmodified, wheat, glutenbr, br, they, do, absolutely, nothing, for, your, cat, but, can, cause, health, issues, she, did, a, lot, of, throwing, up, and, had, the, runs, so, i, immediately, switched, to, a, natural, canned, cat, food, all, back, to, normal, no, more, sicknessbr, br, my, even, greater, concern, with, these, flavors, is, the, tunasalmon, not, only, are, you, feeding, them, things, they, cant, really, processwheatcorn, but, your, also, feeding, them, a, daily, dose, of, mercury, worth, it, you, tell, me, when, you, get, the, vet, bills, that, could, have, rather, been, spent, on, good, food]                                                                                                                                                     |[interested, food, cat, got, ill, two, magical, ingredientsbr, br, corn, starchmodified, wheat, glutenbr, br, absolutely, nothing, cat, cause, health, issues, lot, throwing, runs, immediately, switched, natural, canned, cat, food, back, normal, sicknessbr, br, even, greater, concern, flavors, tunasalmon, feeding, things, cant, really, processwheatcorn, also, feeding, daily, dose, mercury, worth, tell, get, vet, bills, rather, spent, good, food]                                                                                                                |(19655,[1,2,11,12,13,17,27,45,55,76,83,84,91,101,170,188,221,229,237,239,259,271,348,358,414,424,436,473,507,596,630,749,802,878,1054,1488,1497,1795,1809,1940,2052,2248,5022,5942,7786,9402,11428,11905,12809,16113],[3.0,1.0,3.0,1.0,1.0,1.0,1.0,1.0,1.0,1.0,3.0,1.0,1.0,1.0,1.0,1.0,1.0,1.0,1.0,1.0,1.0,1.0,1.0,1.0,1.0,1.0,1.0,1.0,1.0,1.0,1.0,2.0,1.0,1.0,1.0,1.0,1.0,1.0,1.0,1.0,1.0,1.0,1.0,1.0,1.0,1.0,1.0,1.0,1.0,1.0])                                                                         |\n",
      "|250115|B0013MEB40|A99TG4Q2ZPW7S |\"Blu-estLight \"\"MyEnglishIsGood\"\"\"|0                   |0                     |4    |1310083200|one of my favorite cookies        |These cookies are both yummy and well priced I recommend them Other cookies I like are Mrs Fieldspackaged Chips ahoy soft baked fig newtons oreos and elf cookies                                                                                                                                                                                                                                                                                                                                                                                                                                                                                                                                                                                                       |[these, cookies, are, both, yummy, and, well, priced, i, recommend, them, other, cookies, i, like, are, mrs, fieldspackaged, chips, ahoy, soft, baked, fig, newtons, oreos, and, elf, cookies]                                                                                                                                                                                                                                                                                                                                                                                                                                                                                                                                                                                                                                                                                                                              |[cookies, yummy, well, priced, recommend, cookies, like, mrs, fieldspackaged, chips, ahoy, soft, baked, fig, newtons, oreos, elf, cookies]                                                                                                                                                                                                                                                                                                                                                                                                                                      |(19655,[0,29,59,110,148,380,411,662,851,3344,4832,5408,6143,6408,14648,17748],[1.0,1.0,1.0,1.0,3.0,1.0,1.0,1.0,1.0,1.0,1.0,1.0,1.0,1.0,1.0,1.0])                                                                                                                                                                                                                                                                                                                                                         |\n",
      "|250132|B005UBH8WC|AY12DBB0U420B |Gary Peterson                     |0                   |0                     |5    |1336348800|A Favorite of My Little Boy.      |Ive been using Icebreakers as a breath freshener for some time now Almost by accident I gave one to my little boy years when he saw me taking one He immediately liked it and would ask for one from time to time Okay theyre only a tiny piece of candy and theyre sugar free What harm could it do Well then I started using them as little rewards and small incentives to do things It worked Finally one day when I ran out and wanted to pick up some more I found the Ice Breakers Sours Mixed Berry and I started using them At first he seemed startled at the drastic change in flavor Now he loves them more than the mint Well I like them too I still prefer the mint as a breath freshener but these little Sours are my boys favoritesbr br Gary Peterson|[ive, been, using, icebreakers, as, a, breath, freshener, for, some, time, now, almost, by, accident, i, gave, one, to, my, little, boy, years, when, he, saw, me, taking, one, he, immediately, liked, it, and, would, ask, for, one, from, time, to, time, okay, theyre, only, a, tiny, piece, of, candy, and, theyre, sugar, free, what, harm, could, it, do, well, then, i, started, using, them, as, little, rewards, and, small, incentives, to, do, things, it, worked, finally, one, day, when, i, ran, out, and, wanted, to, pick, up, some, more, i, found, the, ice, breakers, sours, mixed, berry, and, i, started, using, them, at, first, he, seemed, startled, at, the, drastic, change, in, flavor, now, he, loves, them, more, than, the, mint, well, i, like, them, too, i, still, prefer, the, mint, as, a, breath, freshener, but, these, little, sours, are, my, boys, favoritesbr, br, gary, peterson]|[ive, using, icebreakers, breath, freshener, time, almost, accident, gave, one, little, boy, years, saw, taking, one, immediately, liked, ask, one, time, time, okay, theyre, tiny, piece, candy, theyre, sugar, free, harm, well, started, using, little, rewards, small, incentives, things, worked, finally, one, day, ran, wanted, pick, found, ice, breakers, sours, mixed, berry, started, using, first, seemed, startled, drastic, change, flavor, loves, mint, well, like, still, prefer, mint, breath, freshener, little, sours, boys, favoritesbr, br, gary, peterson]|(19655,[0,1,4,8,19,20,25,29,38,42,50,53,58,71,78,79,103,109,172,212,221,232,233,289,295,317,340,371,456,481,495,506,523,533,571,582,596,646,746,756,779,791,860,907,1031,1157,1758,3364,3394,3588,3723,5192,5213,5746,6368,6696,7122,8169,12439,13095],[1.0,1.0,4.0,1.0,3.0,3.0,1.0,2.0,1.0,1.0,1.0,1.0,1.0,1.0,1.0,1.0,1.0,3.0,1.0,2.0,1.0,1.0,2.0,1.0,1.0,1.0,1.0,1.0,1.0,1.0,1.0,1.0,1.0,1.0,1.0,1.0,1.0,1.0,1.0,2.0,1.0,1.0,2.0,1.0,1.0,1.0,1.0,1.0,1.0,1.0,1.0,1.0,1.0,1.0,2.0,1.0,2.0,1.0,1.0,1.0])|\n",
      "|250137|B001EQ57QG|A9X62UCTFNQBE |R. Jones                          |1                   |1                     |5    |1255824000|cheaper in bulk                   |I love Frenchs Fried Onions but when I buy it locally it is usually around or dollars for a sixounce can so I dont get it very often When I found this product on Amazon I got it because the perounce price is about a third of what I can buy locally                                                                                                                                                                                                                                                                                                                                                                                                                                                                                                                 |[i, love, frenchs, fried, onions, but, when, i, buy, it, locally, it, is, usually, around, or, dollars, for, a, sixounce, can, so, i, dont, get, it, very, often, when, i, found, this, product, on, amazon, i, got, it, because, the, perounce, price, is, about, a, third, of, what, i, can, buy, locally]                                                                                                                                                                                                                                                                                                                                                                                                                                                                                                                                                                                                                |[love, frenchs, fried, onions, buy, locally, usually, around, dollars, sixounce, dont, get, often, found, product, amazon, got, perounce, price, third, buy, locally]                                                                                                                                                                                                                                                                                                                                                                                                           |(19655,[6,9,12,14,18,23,24,42,55,166,222,427,669,1022,1187,1259,1512,8968,14258,18588],[1.0,1.0,1.0,1.0,1.0,2.0,1.0,1.0,1.0,1.0,1.0,1.0,2.0,1.0,1.0,1.0,1.0,1.0,1.0,1.0])                                                                                                                                                                                                                                                                                                                                |\n",
      "|250180|B000FGXT3E|AHPF30RZZGF5L |LORRAINE J CAROPRESO              |1                   |1                     |5    |1308873600|BEST TEA. BEST SERVICE, BEST PRICE|I HAVE ORDERED TWO LEAVES AND A BUD TEA FROM AMAZON ON TWO OCCASIONS AND HAVE BEEN VERY SATISFIED WITH THE PRODUCT AND THE SERVICE                                                                                                                                                                                                                                                                                                                                                                                                                                                                                                                                                                                                                                      |[i, have, ordered, two, leaves, and, a, bud, tea, from, amazon, on, two, occasions, and, have, been, very, satisfied, with, the, product, and, the, service]                                                                                                                                                                                                                                                                                                                                                                                                                                                                                                                                                                                                                                                                                                                                                                |[ordered, two, leaves, bud, tea, amazon, two, occasions, satisfied, product, service]                                                                                                                                                                                                                                                                                                                                                                                                                                                                                           |(19655,[6,10,18,45,74,408,467,800,4066,4672],[1.0,1.0,1.0,2.0,1.0,1.0,1.0,1.0,1.0,1.0])                                                                                                                                                                                                                                                                                                                                                                                                                  |\n",
      "+------+----------+--------------+----------------------------------+--------------------+----------------------+-----+----------+----------------------------------+------------------------------------------------------------------------------------------------------------------------------------------------------------------------------------------------------------------------------------------------------------------------------------------------------------------------------------------------------------------------------------------------------------------------------------------------------------------------------------------------------------------------------------------------------------------------------------------------------------------------------------------------------------------------------------------------------------------------------------------------------------------------+----------------------------------------------------------------------------------------------------------------------------------------------------------------------------------------------------------------------------------------------------------------------------------------------------------------------------------------------------------------------------------------------------------------------------------------------------------------------------------------------------------------------------------------------------------------------------------------------------------------------------------------------------------------------------------------------------------------------------------------------------------------------------------------------------------------------------------------------------------------------------------------------------------------------------+--------------------------------------------------------------------------------------------------------------------------------------------------------------------------------------------------------------------------------------------------------------------------------------------------------------------------------------------------------------------------------------------------------------------------------------------------------------------------------------------------------------------------------------------------------------------------------+---------------------------------------------------------------------------------------------------------------------------------------------------------------------------------------------------------------------------------------------------------------------------------------------------------------------------------------------------------------------------------------------------------------------------------------------------------------------------------------------------------+\n",
      "only showing top 5 rows\n",
      "\n"
     ]
    }
   ],
   "source": [
    "vectorizer = CountVectorizer(inputCol = 'filtered_words',\n",
    "                             outputCol= 'features')\n",
    "\n",
    "vectorized_data = vectorizer.fit(df_stop_words_removed).transform(df_stop_words_removed)\n",
    "\n",
    "vectorized_data.show(5, truncate=False)"
   ]
  },
  {
   "cell_type": "code",
   "execution_count": 15,
   "id": "c66d4a39-d290-4ce1-a9f8-61ba03d862e1",
   "metadata": {},
   "outputs": [
    {
     "data": {
      "text/html": [
       "\n",
       "            <div>\n",
       "                <p><b>SparkSession - in-memory</b></p>\n",
       "                \n",
       "        <div>\n",
       "            <p><b>SparkContext</b></p>\n",
       "\n",
       "            <p><a href=\"http://e8052c5d1d1c:4040\">Spark UI</a></p>\n",
       "\n",
       "            <dl>\n",
       "              <dt>Version</dt>\n",
       "                <dd><code>v3.4.1</code></dd>\n",
       "              <dt>Master</dt>\n",
       "                <dd><code>spark://spark-master:7077</code></dd>\n",
       "              <dt>AppName</dt>\n",
       "                <dd><code>text-processing</code></dd>\n",
       "            </dl>\n",
       "        </div>\n",
       "        \n",
       "            </div>\n",
       "        "
      ],
      "text/plain": [
       "<pyspark.sql.session.SparkSession at 0xffff8818ee30>"
      ]
     },
     "execution_count": 15,
     "metadata": {},
     "output_type": "execute_result"
    }
   ],
   "source": [
    "spark"
   ]
  },
  {
   "cell_type": "markdown",
   "id": "3ff28a82-a530-47a4-9968-01b0bc49fd03",
   "metadata": {},
   "source": [
    "## Save the processed data"
   ]
  },
  {
   "cell_type": "code",
   "execution_count": 16,
   "id": "5c6c96a5-e135-4018-ba9a-45e33ec89108",
   "metadata": {},
   "outputs": [],
   "source": [
    "(vectorized_data.repartition(1)\n",
    " .write.mode(\"overwrite\")\n",
    " .json(\"./vector_data/reviews_vectorized.json\"))"
   ]
  },
  {
   "cell_type": "code",
   "execution_count": 17,
   "id": "0b2f2316-b619-40c8-8754-c67cbe0609a1",
   "metadata": {},
   "outputs": [],
   "source": [
    "spark.stop()"
   ]
  },
  {
   "cell_type": "code",
   "execution_count": null,
   "id": "b640cf36-72a5-4011-a522-4c5e2de6e61b",
   "metadata": {},
   "outputs": [],
   "source": []
  }
 ],
 "metadata": {
  "kernelspec": {
   "display_name": "Python 3 (ipykernel)",
   "language": "python",
   "name": "python3"
  },
  "language_info": {
   "codemirror_mode": {
    "name": "ipython",
    "version": 3
   },
   "file_extension": ".py",
   "mimetype": "text/x-python",
   "name": "python",
   "nbconvert_exporter": "python",
   "pygments_lexer": "ipython3",
   "version": "3.10.12"
  }
 },
 "nbformat": 4,
 "nbformat_minor": 5
}
