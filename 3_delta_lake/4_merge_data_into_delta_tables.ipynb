{
 "cells": [
  {
   "cell_type": "markdown",
   "id": "f9fe72d3-9295-4364-9428-279100317803",
   "metadata": {},
   "source": [
    "## Import libraries"
   ]
  },
  {
   "cell_type": "code",
   "execution_count": 1,
   "id": "c618853e-e364-46c1-a406-5340857b5b9e",
   "metadata": {},
   "outputs": [],
   "source": [
    "from delta import configure_spark_with_delta_pip, DeltaTable\n",
    "from pyspark.sql import SparkSession"
   ]
  },
  {
   "cell_type": "markdown",
   "id": "1996aaac-eb40-4d40-97a2-43b4612fd61f",
   "metadata": {},
   "source": [
    "## Create a SparkSession Object"
   ]
  },
  {
   "cell_type": "code",
   "execution_count": 2,
   "id": "b2079bb9-9332-4256-a2d5-41dc8dc58242",
   "metadata": {},
   "outputs": [
    {
     "name": "stdout",
     "output_type": "stream",
     "text": [
      ":: loading settings :: url = jar:file:/usr/local/lib/python3.10/dist-packages/pyspark/jars/ivy-2.5.1.jar!/org/apache/ivy/core/settings/ivysettings.xml\n"
     ]
    },
    {
     "name": "stderr",
     "output_type": "stream",
     "text": [
      "Ivy Default Cache set to: /root/.ivy2/cache\n",
      "The jars for the packages stored in: /root/.ivy2/jars\n",
      "io.delta#delta-core_2.12 added as a dependency\n",
      ":: resolving dependencies :: org.apache.spark#spark-submit-parent-712db762-f0ad-462a-9f65-539ce13bc4dc;1.0\n",
      "\tconfs: [default]\n",
      "\tfound io.delta#delta-core_2.12;2.4.0 in central\n",
      "\tfound io.delta#delta-storage;2.4.0 in central\n",
      "\tfound org.antlr#antlr4-runtime;4.9.3 in central\n",
      ":: resolution report :: resolve 67ms :: artifacts dl 3ms\n",
      "\t:: modules in use:\n",
      "\tio.delta#delta-core_2.12;2.4.0 from central in [default]\n",
      "\tio.delta#delta-storage;2.4.0 from central in [default]\n",
      "\torg.antlr#antlr4-runtime;4.9.3 from central in [default]\n",
      "\t---------------------------------------------------------------------\n",
      "\t|                  |            modules            ||   artifacts   |\n",
      "\t|       conf       | number| search|dwnlded|evicted|| number|dwnlded|\n",
      "\t---------------------------------------------------------------------\n",
      "\t|      default     |   3   |   0   |   0   |   0   ||   3   |   0   |\n",
      "\t---------------------------------------------------------------------\n",
      ":: retrieving :: org.apache.spark#spark-submit-parent-712db762-f0ad-462a-9f65-539ce13bc4dc\n",
      "\tconfs: [default]\n",
      "\t0 artifacts copied, 3 already retrieved (0kB/2ms)\n",
      "25/04/11 22:16:58 WARN NativeCodeLoader: Unable to load native-hadoop library for your platform... using builtin-java classes where applicable\n",
      "Setting default log level to \"WARN\".\n",
      "To adjust logging level use sc.setLogLevel(newLevel). For SparkR, use setLogLevel(newLevel).\n",
      "25/04/11 22:16:59 WARN Utils: Service 'SparkUI' could not bind on port 4040. Attempting port 4041.\n"
     ]
    }
   ],
   "source": [
    "builder = (SparkSession.builder\n",
    "           .appName(\"merge-delta-table\")\n",
    "           .master(\"spark://spark-master:7077\")\n",
    "           .config(\"spark.executor.memory\", \"512m\")\n",
    "           .config(\"spark.sql.extensions\", \"io.delta.sql.DeltaSparkSessionExtension\")\n",
    "           .config(\"spark.sql.catalog.spark_catalog\", \"org.apache.spark.sql.delta.catalog.DeltaCatalog\")\n",
    "          )\n",
    "\n",
    "spark = configure_spark_with_delta_pip(builder).getOrCreate()\n",
    "spark.sparkContext.setLogLevel(\"ERROR\")\n",
    "\n"
   ]
  },
  {
   "cell_type": "markdown",
   "id": "b97bf5cd-b683-482b-aeee-9e963bd2db6b",
   "metadata": {},
   "source": [
    "## Create a delta table"
   ]
  },
  {
   "cell_type": "code",
   "execution_count": 3,
   "id": "03891cd5-4fcb-48da-b2f9-743d47fd6f0a",
   "metadata": {},
   "outputs": [
    {
     "name": "stderr",
     "output_type": "stream",
     "text": [
      "                                                                                \r"
     ]
    },
    {
     "data": {
      "text/plain": [
       "DataFrame[]"
      ]
     },
     "execution_count": 3,
     "metadata": {},
     "output_type": "execute_result"
    }
   ],
   "source": [
    "sql_query = \"\"\"\n",
    "CREATE OR REPLACE TABLE default.movie_and_show_titles (\n",
    "    show_id STRING,\n",
    "    type STRING,\n",
    "    title STRING,\n",
    "    director STRING,\n",
    "    cast STRING,\n",
    "    country STRING,\n",
    "    date_added STRING,\n",
    "    release_year STRING,\n",
    "    rating STRING,\n",
    "    duration STRING,\n",
    "    listed_in STRING,\n",
    "    description STRING\n",
    "    ) USING DELTA LOCATION \"/opt/workspace/data/delta_lake/movie_and_show_titles\";\n",
    "\n",
    "\"\"\"\n",
    "spark.sql(sql_query)\n"
   ]
  },
  {
   "cell_type": "markdown",
   "id": "c4131cb5-44f4-48b6-820c-a2f98750c238",
   "metadata": {},
   "source": [
    "## Create a delta table object, convert to dataframe and show"
   ]
  },
  {
   "cell_type": "code",
   "execution_count": 4,
   "id": "26402ecd-7986-4964-a2be-89e1793df35e",
   "metadata": {},
   "outputs": [
    {
     "name": "stderr",
     "output_type": "stream",
     "text": [
      "[Stage 5:==================================================>      (44 + 1) / 50]\r"
     ]
    },
    {
     "name": "stdout",
     "output_type": "stream",
     "text": [
      "+-------+----+-----+--------+----+-------+----------+------------+------+--------+---------+-----------+\n",
      "|show_id|type|title|director|cast|country|date_added|release_year|rating|duration|listed_in|description|\n",
      "+-------+----+-----+--------+----+-------+----------+------------+------+--------+---------+-----------+\n",
      "+-------+----+-----+--------+----+-------+----------+------------+------+--------+---------+-----------+\n",
      "\n"
     ]
    },
    {
     "name": "stderr",
     "output_type": "stream",
     "text": [
      "                                                                                \r"
     ]
    }
   ],
   "source": [
    "deltaTable_titles = DeltaTable.forPath(spark, \"/opt/workspace/data/delta_lake/movie_and_show_titles\")\n",
    "\n",
    "deltaTable_titles.toDF().show(5)"
   ]
  },
  {
   "cell_type": "raw",
   "id": "05fdb718-a3dc-4a17-8d1e-3fb8e4d533fb",
   "metadata": {},
   "source": [
    "We created an empty delta table.\n",
    "\n",
    "Now, we are first going to read a Delta Lake Table and then remove duplicates from this table.\n",
    "(because MERGE operations allow a single update to each row- Optimistic Concurrency Control-OCC to protect\n",
    "data quality and avoid clashes between simultaneous transactions)\n"
   ]
  },
  {
   "cell_type": "markdown",
   "id": "19f1998f-74b0-4dff-a9fb-64ab63ff294c",
   "metadata": {},
   "source": [
    "## Read a Delta Table"
   ]
  },
  {
   "cell_type": "code",
   "execution_count": 5,
   "id": "76ea20a6-89f1-4db4-814d-344575882f65",
   "metadata": {},
   "outputs": [],
   "source": [
    "df_netflix = (spark.read.format(\"delta\")\n",
    "              .load(\"/opt/workspace/data/delta_lake/netflix_titles\"))\n",
    "\n",
    "df_netflix_deduped = df_netflix.dropDuplicates([\"type\", \"title\", \"director\", \"date_added\"])\n",
    "\n",
    "\n"
   ]
  },
  {
   "cell_type": "markdown",
   "id": "c56f71b1-9bd0-4b0e-8297-e7041fcc3eb9",
   "metadata": {},
   "source": [
    "## Merge the source dataframe with the target Delta Table"
   ]
  },
  {
   "cell_type": "code",
   "execution_count": 6,
   "id": "f4f9aa7f-6152-4275-82f0-d3b66718f93e",
   "metadata": {},
   "outputs": [
    {
     "name": "stderr",
     "output_type": "stream",
     "text": [
      "                                                                                \r"
     ]
    }
   ],
   "source": [
    "(deltaTable_titles.alias('movie_and_show_titles')\n",
    " .merge(df_netflix_deduped.alias('updates'), \n",
    "        \"\"\" lower(movie_and_show_titles.type) = lower(updates.type)\n",
    "        AND\n",
    "        lower(movie_and_show_titles.title) = lower(updates.title)\n",
    "        AND\n",
    "        lower(movie_and_show_titles.director) = lower(updates.director)\n",
    "        AND \n",
    "        lower(movie_and_show_titles.date_added) = updates.date_added\n",
    "        \"\"\")\n",
    " .whenMatchedUpdate (set = {\n",
    "     \"show_id\" : \"updates.show_id\",\n",
    "     \"type\" : \"updates.type\",\n",
    "     \"title\": \"updates.title\",\n",
    "     \"director\" : \"updates.director\",\n",
    "     \"cast\" : \"updates.cast\",\n",
    "     \"country\" :  \"updates.country\",\n",
    "     \"date_added\" : \"updates.date_added\" ,\n",
    "     \"release_year\" : \"updates.release_year\",\n",
    "     \"rating\" : \"updates.rating\",\n",
    "     \"duration\" : \"updates.duration\",\n",
    "     \"listed_in\" : \"updates.listed_in\",\n",
    "     \"description\" : \"updates.description\"})\n",
    " .whenNotMatchedInsert (values = {\n",
    "     \"show_id\" : \"updates.show_id\",\n",
    "     \"type\" : \"updates.type\",\n",
    "     \"title\": \"updates.title\",\n",
    "     \"director\" :\"updates.director\",\n",
    "     \"cast\" : \"updates.cast\",\n",
    "     \"country\" :  \"updates.country\",\n",
    "     \"date_added\" : \"updates.date_added\" ,\n",
    "     \"release_year\" : \"updates.release_year\",\n",
    "     \"rating\" : \"updates.rating\",\n",
    "     \"duration\" : \"updates.duration\",\n",
    "     \"listed_in\" : \"updates.listed_in\",\n",
    "     \"description\" : \"updates.description\"})\n",
    " .execute()\n",
    ")\n",
    "     "
   ]
  },
  {
   "cell_type": "markdown",
   "id": "749e8130-9870-4084-89ea-c02d39280076",
   "metadata": {},
   "source": [
    "## Retrieve delta table history"
   ]
  },
  {
   "cell_type": "code",
   "execution_count": 12,
   "id": "22c35ba9-9576-4459-b0fb-1772b36e989f",
   "metadata": {},
   "outputs": [
    {
     "name": "stdout",
     "output_type": "stream",
     "text": [
      "+-------+--------------------+------+--------+--------------------+--------------------+----+--------+---------+-----------+--------------+-------------+--------------------+------------+--------------------+\n",
      "|version|           timestamp|userId|userName|           operation| operationParameters| job|notebook|clusterId|readVersion|isolationLevel|isBlindAppend|    operationMetrics|userMetadata|          engineInfo|\n",
      "+-------+--------------------+------+--------+--------------------+--------------------+----+--------+---------+-----------+--------------+-------------+--------------------+------------+--------------------+\n",
      "|      1|2025-04-11 22:34:...|  null|    null|               MERGE|{predicate -> [\"(...|null|    null|     null|          0|  Serializable|        false|{numTargetRowsCop...|        null|Apache-Spark/3.4....|\n",
      "|      0|2025-04-11 22:12:...|  null|    null|CREATE OR REPLACE...|{isManaged -> fal...|null|    null|     null|       null|  Serializable|         true|                  {}|        null|Apache-Spark/3.4....|\n",
      "+-------+--------------------+------+--------+--------------------+--------------------+----+--------+---------+-----------+--------------+-------------+--------------------+------------+--------------------+\n",
      "\n"
     ]
    }
   ],
   "source": [
    "\n",
    "\n",
    "sql_query = \"\"\"\n",
    "DESCRIBE HISTORY \"/opt/workspace/data/delta_lake/movie_and_show_titles\"\n",
    "\"\"\"\n",
    "\n",
    "history = spark.sql(sql_query)\n",
    "history.show()"
   ]
  },
  {
   "cell_type": "markdown",
   "id": "557f6660-f523-43f2-a231-caa540e67c33",
   "metadata": {},
   "source": [
    "## Read additional data (CSV file)"
   ]
  },
  {
   "cell_type": "code",
   "execution_count": 14,
   "id": "dee54892-1fde-411a-83bf-897752e190ca",
   "metadata": {},
   "outputs": [],
   "source": [
    "df_titles = (spark.read.format(\"csv\")\n",
    "             .option(\"header\", \"true\")\n",
    "             .load(\"../../data/titles.csv\")\n",
    "            )\n",
    "\n",
    "df_titles_deduped = df_titles.dropDuplicates([\"type\",\"title\"])\n",
    "\n"
   ]
  },
  {
   "cell_type": "markdown",
   "id": "86ba9d19-7312-4a0a-8e37-87e01d1981a2",
   "metadata": {},
   "source": [
    "## Merge the source dataframe with the target Delta Table"
   ]
  },
  {
   "cell_type": "code",
   "execution_count": 17,
   "id": "6b2585c8-1d9b-4e10-af0d-7f59980eaac8",
   "metadata": {},
   "outputs": [],
   "source": [
    "(deltaTable_titles.alias('movie_and_show_titles')\n",
    " .merge(df_titles_deduped.alias(\"updates\"), \n",
    "        \"\"\" lower(movie_and_show_titles.type) = lower(updates.type)\n",
    "        AND\n",
    "        lower(movie_and_show_titles.title) = lower(updates.title)\n",
    "        AND\n",
    "        movie_and_show_titles.release_year = updates.release_year\n",
    "        \"\"\")\n",
    " .whenMatchedUpdate(set = {\n",
    "     \"show_id\" : \"updates.id\",\n",
    "     \"type\" : \"updates.type\",\n",
    "     \"title\": \"updates.title\",\n",
    "     \"country\" :  \"updates.production_countries\",\n",
    "     \"release_year\" : \"updates.release_year\",\n",
    "     \"rating\" : \"updates.age_certification\",\n",
    "     \"duration\" : \"updates.runtime\",\n",
    "     \"listed_in\" : \"updates.genres\",\n",
    "     \"description\" : \"updates.description\"})\n",
    " .whenNotMatchedInsert (values = {\n",
    "     \"show_id\" : \"updates.id\",\n",
    "     \"type\" : \"updates.type\",\n",
    "     \"title\": \"updates.title\",\n",
    "     \"country\" :  \"updates.production_countries\",\n",
    "     \"release_year\" : \"updates.release_year\",\n",
    "     \"rating\" : \"updates.age_certification\",\n",
    "     \"duration\" : \"updates.runtime\",\n",
    "     \"listed_in\" : \"updates.genres\",\n",
    "     \"description\" : \"updates.description\"})\n",
    " .execute()\n",
    ")\n",
    "     "
   ]
  },
  {
   "cell_type": "markdown",
   "id": "a80595bd-58ab-477a-8102-ee1e2e0b940e",
   "metadata": {},
   "source": [
    "### Alternate way using SQL"
   ]
  },
  {
   "cell_type": "raw",
   "id": "954c115d-94a2-4208-9d68-9a520fb216e4",
   "metadata": {},
   "source": [
    "\n",
    "sql_query = \"\"\"\n",
    "\n",
    "MERGE INTO default.movie_and_show_titles\n",
    "USING titles_deduped\n",
    "ON lower(default.movie_and_show_titles.type) = lower(titles_deduped.type)\n",
    "AND \n",
    "lower(default.movie_and_show_titles.title) = lower(titles_deduped.title)\n",
    "AND\n",
    "default.movie_and_show_titles.release_year = titles_deduped.release_year\n",
    "\n",
    "WHEN MATCHED THEN\n",
    "    UPDATE SET\n",
    "\n",
    "    show_id = titles_deduped.id,\n",
    "    type = titles_deduped.type,\n",
    "    title = titles_deduped.title,\n",
    "    country = titles_deduped.production_countries,\n",
    "    release_year = titles_deduped.release_year,\n",
    "    rating  = titles_deduped.age_certification,\n",
    "    duration = titles_deduped.runtime,\n",
    "    listed_in = titles_deduped.genres,\n",
    "    description = titles_deduped.description\n",
    "\n",
    "WHEN NOT MATCHED \n",
    "    THEN \n",
    "    INSERT (\n",
    "            show_id, \n",
    "            type,\n",
    "            title, \n",
    "            country,\n",
    "            release_year,\n",
    "            rating,\n",
    "            duration,\n",
    "            listed_in,\n",
    "            description)\n",
    "\n",
    "    VALUES (\n",
    "            titles_deduped.id,\n",
    "            titles_deduped.type,\n",
    "            titles_deduped.title,\n",
    "            titles_deduped.production_countries,\n",
    "            titles_deduped.release_year,\n",
    "            titles_deduped.age_certification,\n",
    "            titles_deduped.runtime,\n",
    "            titles_deduped.genres,\n",
    "            titles_deduped.description\n",
    "            )\n",
    "\n",
    "\"\"\"\n",
    "\n",
    "spark.sql(sql_query)\n",
    "\n",
    "            \n",
    "\n",
    "    "
   ]
  },
  {
   "cell_type": "code",
   "execution_count": 19,
   "id": "fe950dfd-4f1b-4193-82f7-2c5204a5d5db",
   "metadata": {},
   "outputs": [
    {
     "name": "stdout",
     "output_type": "stream",
     "text": [
      "+-------+--------------------+------+--------+--------------------+--------------------+----+--------+---------+-----------+--------------+-------------+--------------------+------------+--------------------+\n",
      "|version|           timestamp|userId|userName|           operation| operationParameters| job|notebook|clusterId|readVersion|isolationLevel|isBlindAppend|    operationMetrics|userMetadata|          engineInfo|\n",
      "+-------+--------------------+------+--------+--------------------+--------------------+----+--------+---------+-----------+--------------+-------------+--------------------+------------+--------------------+\n",
      "|      2|2025-04-11 22:58:...|  null|    null|               MERGE|{predicate -> [\"(...|null|    null|     null|          1|  Serializable|        false|{numTargetRowsCop...|        null|Apache-Spark/3.4....|\n",
      "|      1|2025-04-11 22:34:...|  null|    null|               MERGE|{predicate -> [\"(...|null|    null|     null|          0|  Serializable|        false|{numTargetRowsCop...|        null|Apache-Spark/3.4....|\n",
      "|      0|2025-04-11 22:12:...|  null|    null|CREATE OR REPLACE...|{isManaged -> fal...|null|    null|     null|       null|  Serializable|         true|                  {}|        null|Apache-Spark/3.4....|\n",
      "+-------+--------------------+------+--------+--------------------+--------------------+----+--------+---------+-----------+--------------+-------------+--------------------+------------+--------------------+\n",
      "\n"
     ]
    }
   ],
   "source": [
    "sql_query = \"\"\"\n",
    "\n",
    "DESCRIBE HISTORY \"/opt/workspace/data/delta_lake/movie_and_show_titles\"\n",
    "\n",
    "\"\"\"\n",
    "\n",
    "result = spark.sql(sql_query)\n",
    "\n",
    "result.show()"
   ]
  },
  {
   "cell_type": "code",
   "execution_count": 20,
   "id": "dda1e3e3-5c40-410a-a223-a9ae4f37b406",
   "metadata": {},
   "outputs": [],
   "source": [
    "spark.stop()"
   ]
  },
  {
   "cell_type": "code",
   "execution_count": null,
   "id": "bdbce62a-3387-4bdd-a489-3bc73b2bfd88",
   "metadata": {},
   "outputs": [],
   "source": []
  }
 ],
 "metadata": {
  "kernelspec": {
   "display_name": "Python 3 (ipykernel)",
   "language": "python",
   "name": "python3"
  },
  "language_info": {
   "codemirror_mode": {
    "name": "ipython",
    "version": 3
   },
   "file_extension": ".py",
   "mimetype": "text/x-python",
   "name": "python",
   "nbconvert_exporter": "python",
   "pygments_lexer": "ipython3",
   "version": "3.10.12"
  }
 },
 "nbformat": 4,
 "nbformat_minor": 5
}
