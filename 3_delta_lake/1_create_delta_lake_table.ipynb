{
 "cells": [
  {
   "cell_type": "markdown",
   "id": "8ab22076-1040-45d3-815a-bc7cc40af4ba",
   "metadata": {},
   "source": [
    "## Funda"
   ]
  },
  {
   "cell_type": "markdown",
   "id": "8a21bcf0-0609-47c4-afa1-fe4b6a213938",
   "metadata": {},
   "source": [
    "A **Delta table** is a data storage format provided by **Delta Lake**—an open-source storage layer that brings ACID transactions and other data management features to Apache Spark and big data workloads.\n"
   ]
  },
  {
   "cell_type": "markdown",
   "id": "ef615e16-5076-4e64-9e01-96a7f54bffd4",
   "metadata": {},
   "source": [
    "## Import libraries"
   ]
  },
  {
   "cell_type": "code",
   "execution_count": 1,
   "id": "53aba71e-579e-479f-9ba3-3114cf91b09d",
   "metadata": {},
   "outputs": [],
   "source": [
    "from delta import configure_spark_with_delta_pip, DeltaTable\n",
    "\n",
    "from pyspark.sql import SparkSession"
   ]
  },
  {
   "cell_type": "markdown",
   "id": "63a9dc54-f1d6-4aee-ba13-5abb2dd72b85",
   "metadata": {},
   "source": [
    "## Create SparkSession Object"
   ]
  },
  {
   "cell_type": "code",
   "execution_count": 3,
   "id": "bbb743ec-e22f-4291-82dd-c2f337e7da63",
   "metadata": {},
   "outputs": [],
   "source": [
    "builder = (SparkSession.builder\n",
    "           .appName(\"create-delta-table\")\n",
    "           .master(\"spark://spark-master:7077\")\n",
    "           .config(\"spark.executor.memory\", \"512m\")\n",
    "           .config(\"spark.sql.extensions\", \"io.delta.sql.DeltaSparkSessionExtension\")\n",
    "           .config(\"spark.sql.catalog.spark_catalog\", \"org.apache.spark.sql.delta.catalog.DeltaCatalog\")\n",
    "          )\n",
    "\n",
    "spark = configure_spark_with_delta_pip(builder).getOrCreate()\n",
    "\n",
    "spark.sparkContext.setLogLevel(\"ERROR\")"
   ]
  },
  {
   "cell_type": "markdown",
   "id": "90d80fbf-e2a7-45d0-8d25-99acbd7384de",
   "metadata": {},
   "source": [
    "## Create a Delta Table"
   ]
  },
  {
   "cell_type": "raw",
   "id": "db93b229-878a-499b-9e3c-e7e9c2ebe068",
   "metadata": {},
   "source": [
    "Before loading the data, we need to create a table in the Delta Catalog.\n"
   ]
  },
  {
   "cell_type": "markdown",
   "id": "b68fbcf4-7706-488c-895d-f19fc5596758",
   "metadata": {},
   "source": [
    "%%sparksql\n",
    "\n",
    "**Jupyter Cell Magic**:\n",
    "Jupyter supports special commands called “cell magics” (denoted by %%) that change the way the cell’s content is processed. For example, %%bash lets you run shell commands, and %%python reaffirms that the cell contains Python code."
   ]
  },
  {
   "cell_type": "code",
   "execution_count": 7,
   "id": "535a2dd0-62ff-43cd-be3c-1707b616a1bd",
   "metadata": {},
   "outputs": [
    {
     "name": "stderr",
     "output_type": "stream",
     "text": [
      "                                                                                \r"
     ]
    },
    {
     "data": {
      "text/plain": [
       "DataFrame[]"
      ]
     },
     "execution_count": 7,
     "metadata": {},
     "output_type": "execute_result"
    }
   ],
   "source": [
    "\n",
    "sql_query = \"\"\" \n",
    "CREATE OR REPLACE TABLE default.netflix_titles(\n",
    "    show_id STRING,\n",
    "    type STRING,\n",
    "    title STRING,\n",
    "    director STRING,\n",
    "    cast STRING,\n",
    "    country STRING,\n",
    "    date_added STRING,\n",
    "    release_year STRING,\n",
    "    rating STRING,\n",
    "    duration STRING,\n",
    "    listed_in STRING,\n",
    "    description STRING\n",
    ") USING DELTA LOCATION \"/opt/workspace/data/delta_lake/netflix_titles\" \n",
    "\"\"\"\n",
    "\n",
    "spark.sql(sql_query)"
   ]
  },
  {
   "cell_type": "markdown",
   "id": "fc6141d7-8609-47fd-bb45-bf99a8ef3b82",
   "metadata": {},
   "source": [
    "## Reading the data"
   ]
  },
  {
   "cell_type": "code",
   "execution_count": 8,
   "id": "a814f2bc-416a-4f25-8b04-6f07cf255375",
   "metadata": {},
   "outputs": [],
   "source": [
    "df = (spark.read.format(\"csv\")\n",
    "      .option(\"header\", \"true\")\n",
    "      .load(\"../../data/netflix_titles.csv\"))\n"
   ]
  },
  {
   "cell_type": "markdown",
   "id": "f8bcde8a-9f8c-46bc-8254-8d4c211a2603",
   "metadata": {},
   "source": [
    "## Write data to Delta Lake"
   ]
  },
  {
   "cell_type": "markdown",
   "id": "d2ae1428-6899-452f-a5a9-b8cb68f1b8d4",
   "metadata": {},
   "source": [
    "Once we have the data(in the dataframe), we can write it to Delta Lake using the write method.\n",
    "Specify the format as \"delta\" and choose a mode for writing the data."
   ]
  },
  {
   "cell_type": "code",
   "execution_count": 9,
   "id": "c431b3d9-de07-4d41-a81e-0426fe50ba3e",
   "metadata": {},
   "outputs": [
    {
     "name": "stderr",
     "output_type": "stream",
     "text": [
      "                                                                                \r"
     ]
    }
   ],
   "source": [
    "df.write.format(\"delta\").mode(\"overwrite\").saveAsTable(\"default.netflix_titles\")"
   ]
  },
  {
   "cell_type": "code",
   "execution_count": 14,
   "id": "9c5182ea-5569-40f3-b5ae-72fe24620159",
   "metadata": {},
   "outputs": [
    {
     "name": "stdout",
     "output_type": "stream",
     "text": [
      "+-------+-------+--------------------+---------------+--------------------+-------------+------------------+------------+------+---------+--------------------+--------------------+\n",
      "|show_id|   type|               title|       director|                cast|      country|        date_added|release_year|rating| duration|           listed_in|         description|\n",
      "+-------+-------+--------------------+---------------+--------------------+-------------+------------------+------------+------+---------+--------------------+--------------------+\n",
      "|     s1|  Movie|Dick Johnson Is Dead|Kirsten Johnson|                null|United States|September 25, 2021|        2020| PG-13|   90 min|       Documentaries|As her father nea...|\n",
      "|     s2|TV Show|       Blood & Water|           null|Ama Qamata, Khosi...| South Africa|September 24, 2021|        2021| TV-MA|2 Seasons|International TV ...|After crossing pa...|\n",
      "|     s3|TV Show|           Ganglands|Julien Leclercq|Sami Bouajila, Tr...|         null|September 24, 2021|        2021| TV-MA| 1 Season|Crime TV Shows, I...|To protect his fa...|\n",
      "|     s4|TV Show|Jailbirds New Orl...|           null|                null|         null|September 24, 2021|        2021| TV-MA| 1 Season|Docuseries, Reali...|Feuds, flirtation...|\n",
      "|     s5|TV Show|        Kota Factory|           null|Mayur More, Jiten...|        India|September 24, 2021|        2021| TV-MA|2 Seasons|International TV ...|In a city of coac...|\n",
      "+-------+-------+--------------------+---------------+--------------------+-------------+------------------+------------+------+---------+--------------------+--------------------+\n",
      "\n"
     ]
    }
   ],
   "source": [
    "sql_query = \"\"\"\n",
    "SELECT * FROM default.netflix_titles LIMIT 5;\n",
    "\"\"\"\n",
    "\n",
    "result_df = spark.sql(sql_query)\n",
    "result_df.show()"
   ]
  },
  {
   "cell_type": "code",
   "execution_count": null,
   "id": "9e571e1f-7b91-4d34-9424-8d0eca45b170",
   "metadata": {},
   "outputs": [],
   "source": []
  }
 ],
 "metadata": {
  "kernelspec": {
   "display_name": "Python 3 (ipykernel)",
   "language": "python",
   "name": "python3"
  },
  "language_info": {
   "codemirror_mode": {
    "name": "ipython",
    "version": 3
   },
   "file_extension": ".py",
   "mimetype": "text/x-python",
   "name": "python",
   "nbconvert_exporter": "python",
   "pygments_lexer": "ipython3",
   "version": "3.10.12"
  }
 },
 "nbformat": 4,
 "nbformat_minor": 5
}
