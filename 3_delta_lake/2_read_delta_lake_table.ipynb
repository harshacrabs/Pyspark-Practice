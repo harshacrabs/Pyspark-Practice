{
 "cells": [
  {
   "cell_type": "markdown",
   "id": "2b60112b-f616-42f8-96c4-6778c31a1f51",
   "metadata": {},
   "source": [
    "## Import libraries"
   ]
  },
  {
   "cell_type": "code",
   "execution_count": 1,
   "id": "4623bac1-c80a-451e-a635-70046c5bfa65",
   "metadata": {},
   "outputs": [],
   "source": [
    "from delta import configure_spark_with_delta_pip, DeltaTable\n",
    "from pyspark.sql import SparkSession"
   ]
  },
  {
   "cell_type": "markdown",
   "id": "dd2e7ea1-656d-4148-90ef-a525e780cb73",
   "metadata": {},
   "source": [
    "## Create a SparkSession object"
   ]
  },
  {
   "cell_type": "code",
   "execution_count": 3,
   "id": "bac3db1e-7b13-4223-bc8c-a0342cfbc921",
   "metadata": {},
   "outputs": [],
   "source": [
    "builder = (SparkSession.builder\n",
    "           .appName(\"read-delta-table\")\n",
    "           .master(\"spark://spark-master:7077\")\n",
    "           .config(\"spark.executor.memory\", \"512m\")\n",
    "           .config(\"spark.sql.extensions\", \"io.delta.sql.DeltaSparkSessionExtension\")\n",
    "           .config(\"spark.sql.catalog.spark_catalog\", \"org.apache.spark.sql.delta.catalog.DeltaCatalog\")\n",
    "          )\n",
    "\n",
    "spark = configure_spark_with_delta_pip(builder).getOrCreate()\n",
    "\n",
    "spark.sparkContext.setLogLevel(\"ERROR\")\n",
    "\n"
   ]
  },
  {
   "cell_type": "markdown",
   "id": "b6b55a77-a719-4957-98f9-217553d684d5",
   "metadata": {},
   "source": [
    "## Read the Delta Table"
   ]
  },
  {
   "cell_type": "code",
   "execution_count": 5,
   "id": "2866cbd2-93c3-4da0-bd45-d0a042b321b2",
   "metadata": {},
   "outputs": [
    {
     "name": "stderr",
     "output_type": "stream",
     "text": [
      "                                                                                \r"
     ]
    }
   ],
   "source": [
    "df = (spark.read.format(\"delta\")\n",
    "      .load(\"/opt/workspace/data/delta_lake/netflix_titles\"))"
   ]
  },
  {
   "cell_type": "markdown",
   "id": "32ea9567-8a14-41ef-93f1-33634ccef05a",
   "metadata": {},
   "source": [
    "## Explore the data"
   ]
  },
  {
   "cell_type": "code",
   "execution_count": 6,
   "id": "b4f33bf6-0230-403b-b279-98e036c64e6a",
   "metadata": {},
   "outputs": [
    {
     "name": "stdout",
     "output_type": "stream",
     "text": [
      "root\n",
      " |-- show_id: string (nullable = true)\n",
      " |-- type: string (nullable = true)\n",
      " |-- title: string (nullable = true)\n",
      " |-- director: string (nullable = true)\n",
      " |-- cast: string (nullable = true)\n",
      " |-- country: string (nullable = true)\n",
      " |-- date_added: string (nullable = true)\n",
      " |-- release_year: string (nullable = true)\n",
      " |-- rating: string (nullable = true)\n",
      " |-- duration: string (nullable = true)\n",
      " |-- listed_in: string (nullable = true)\n",
      " |-- description: string (nullable = true)\n",
      "\n"
     ]
    }
   ],
   "source": [
    "df.printSchema()"
   ]
  },
  {
   "cell_type": "code",
   "execution_count": 7,
   "id": "c5a577ad-ebcc-48cb-b6a0-738a994c8c41",
   "metadata": {},
   "outputs": [
    {
     "name": "stderr",
     "output_type": "stream",
     "text": [
      "                                                                                \r"
     ]
    },
    {
     "name": "stdout",
     "output_type": "stream",
     "text": [
      "+-------+-------+---------------------+---------------+---------------------------------------------------------------------------------------------------------------------------------------------------------------------------------------------------------------------------------------------------------------------------------------------------------------+-------------+------------------+------------+------+---------+-------------------------------------------------------------+--------------------------------------------------------------------------------------------------------------------------------------------------------+\n",
      "|show_id|type   |title                |director       |cast                                                                                                                                                                                                                                                                                                           |country      |date_added        |release_year|rating|duration |listed_in                                                    |description                                                                                                                                             |\n",
      "+-------+-------+---------------------+---------------+---------------------------------------------------------------------------------------------------------------------------------------------------------------------------------------------------------------------------------------------------------------------------------------------------------------+-------------+------------------+------------+------+---------+-------------------------------------------------------------+--------------------------------------------------------------------------------------------------------------------------------------------------------+\n",
      "|s1     |Movie  |Dick Johnson Is Dead |Kirsten Johnson|null                                                                                                                                                                                                                                                                                                           |United States|September 25, 2021|2020        |PG-13 |90 min   |Documentaries                                                |As her father nears the end of his life, filmmaker Kirsten Johnson stages his death in inventive and comical ways to help them both face the inevitable.|\n",
      "|s2     |TV Show|Blood & Water        |null           |Ama Qamata, Khosi Ngema, Gail Mabalane, Thabang Molaba, Dillon Windvogel, Natasha Thahane, Arno Greeff, Xolile Tshabalala, Getmore Sithole, Cindy Mahlangu, Ryle De Morny, Greteli Fincham, Sello Maake Ka-Ncube, Odwa Gwanya, Mekaila Mathys, Sandi Schultz, Duane Williams, Shamilla Miller, Patrick Mofokeng|South Africa |September 24, 2021|2021        |TV-MA |2 Seasons|International TV Shows, TV Dramas, TV Mysteries              |After crossing paths at a party, a Cape Town teen sets out to prove whether a private-school swimming star is her sister who was abducted at birth.     |\n",
      "|s3     |TV Show|Ganglands            |Julien Leclercq|Sami Bouajila, Tracy Gotoas, Samuel Jouy, Nabiha Akkari, Sofia Lesaffre, Salim Kechiouche, Noureddine Farihi, Geert Van Rampelberg, Bakary Diombera                                                                                                                                                            |null         |September 24, 2021|2021        |TV-MA |1 Season |Crime TV Shows, International TV Shows, TV Action & Adventure|To protect his family from a powerful drug lord, skilled thief Mehdi and his expert team of robbers are pulled into a violent and deadly turf war.      |\n",
      "|s4     |TV Show|Jailbirds New Orleans|null           |null                                                                                                                                                                                                                                                                                                           |null         |September 24, 2021|2021        |TV-MA |1 Season |Docuseries, Reality TV                                       |Feuds, flirtations and toilet talk go down among the incarcerated women at the Orleans Justice Center in New Orleans on this gritty reality series.     |\n",
      "|s5     |TV Show|Kota Factory         |null           |Mayur More, Jitendra Kumar, Ranjan Raj, Alam Khan, Ahsaas Channa, Revathi Pillai, Urvi Singh, Arun Kumar                                                                                                                                                                                                       |India        |September 24, 2021|2021        |TV-MA |2 Seasons|International TV Shows, Romantic TV Shows, TV Comedies       |In a city of coaching centers known to train India’s finest collegiate minds, an earnest but unexceptional student and his friends navigate campus life.|\n",
      "+-------+-------+---------------------+---------------+---------------------------------------------------------------------------------------------------------------------------------------------------------------------------------------------------------------------------------------------------------------------------------------------------------------+-------------+------------------+------------+------+---------+-------------------------------------------------------------+--------------------------------------------------------------------------------------------------------------------------------------------------------+\n",
      "only showing top 5 rows\n",
      "\n"
     ]
    }
   ],
   "source": [
    "df.show(5, truncate=False)"
   ]
  },
  {
   "cell_type": "markdown",
   "id": "07e2cde1-bef7-415f-b909-705c397e42b3",
   "metadata": {},
   "source": [
    "## Using SQL to explore the Delta Tables"
   ]
  },
  {
   "cell_type": "code",
   "execution_count": 10,
   "id": "2a11deb2-1776-454f-b1b6-d9578225b07c",
   "metadata": {},
   "outputs": [
    {
     "name": "stdout",
     "output_type": "stream",
     "text": [
      "+-------+-------+--------------------+---------------+--------------------+-------------+------------------+------------+------+---------+--------------------+--------------------+\n",
      "|show_id|   type|               title|       director|                cast|      country|        date_added|release_year|rating| duration|           listed_in|         description|\n",
      "+-------+-------+--------------------+---------------+--------------------+-------------+------------------+------------+------+---------+--------------------+--------------------+\n",
      "|     s1|  Movie|Dick Johnson Is Dead|Kirsten Johnson|                null|United States|September 25, 2021|        2020| PG-13|   90 min|       Documentaries|As her father nea...|\n",
      "|     s2|TV Show|       Blood & Water|           null|Ama Qamata, Khosi...| South Africa|September 24, 2021|        2021| TV-MA|2 Seasons|International TV ...|After crossing pa...|\n",
      "+-------+-------+--------------------+---------------+--------------------+-------------+------------------+------------+------+---------+--------------------+--------------------+\n",
      "only showing top 2 rows\n",
      "\n"
     ]
    }
   ],
   "source": [
    "sql_query = \"\"\"\n",
    "\n",
    "SELECT * FROM delta.`/opt/workspace/data/delta_lake/netflix_titles` LIMIT 3 \n",
    "\n",
    "\"\"\"\n",
    "\n",
    "#use backticks for path-not quotes\n",
    "\n",
    "df_2 = spark.sql(sql_query)\n",
    "df_2.show(2)"
   ]
  },
  {
   "cell_type": "markdown",
   "id": "8bc880f4-33fc-4345-be4a-6baa44131324",
   "metadata": {},
   "source": [
    "## Get the history of Delta Table"
   ]
  },
  {
   "cell_type": "code",
   "execution_count": 17,
   "id": "057d16a2-71a5-4149-884c-b29ebbc8f9b8",
   "metadata": {},
   "outputs": [
    {
     "name": "stdout",
     "output_type": "stream",
     "text": [
      "+-------+-----------------------+------+--------+---------------------------------+------------------------------------------------------------------------------+----+--------+---------+-----------+--------------+-------------+-----------------------------------------------------------------+------------+-----------------------------------+\n",
      "|version|timestamp              |userId|userName|operation                        |operationParameters                                                           |job |notebook|clusterId|readVersion|isolationLevel|isBlindAppend|operationMetrics                                                 |userMetadata|engineInfo                         |\n",
      "+-------+-----------------------+------+--------+---------------------------------+------------------------------------------------------------------------------+----+--------+---------+-----------+--------------+-------------+-----------------------------------------------------------------+------------+-----------------------------------+\n",
      "|1      |2025-04-09 20:05:57.369|null  |null    |CREATE OR REPLACE TABLE AS SELECT|{isManaged -> false, description -> null, partitionBy -> [], properties -> {}}|null|null    |null     |0          |Serializable  |false        |{numFiles -> 1, numOutputRows -> 8806, numOutputBytes -> 1960782}|null        |Apache-Spark/3.4.1 Delta-Lake/2.4.0|\n",
      "|0      |2025-04-09 20:01:52.982|null  |null    |CREATE OR REPLACE TABLE          |{isManaged -> false, description -> null, partitionBy -> [], properties -> {}}|null|null    |null     |null       |Serializable  |true         |{}                                                               |null        |Apache-Spark/3.4.1 Delta-Lake/2.4.0|\n",
      "+-------+-----------------------+------+--------+---------------------------------+------------------------------------------------------------------------------+----+--------+---------+-----------+--------------+-------------+-----------------------------------------------------------------+------------+-----------------------------------+\n",
      "\n"
     ]
    }
   ],
   "source": [
    "sql_query = \"\"\"\n",
    "\n",
    "DESCRIBE HISTORY delta.`/opt/workspace/data/delta_lake/netflix_titles` \n",
    "\n",
    "\"\"\"\n",
    "\n",
    "#use backticks for path-not quotes\n",
    "\n",
    "history = spark.sql(sql_query)\n",
    "history.show(truncate=False)"
   ]
  },
  {
   "cell_type": "markdown",
   "id": "844569bd-c0b7-4af0-8d69-d167fd4b3a19",
   "metadata": {},
   "source": [
    "## Retention period for Table history"
   ]
  },
  {
   "cell_type": "raw",
   "id": "7f32e174-c04e-497f-9944-14afea1bab5e",
   "metadata": {},
   "source": [
    "The retention period for table history can be configured\n",
    "\n",
    "%%sparksql\n",
    "ALTER TABLE delta.`path/to/delta_table`\n",
    "SET TBLPROPERTIES (\n",
    "    delta.logRetentionDuration = 'interval 60 days',\n",
    "    delta.deletedFileRetentionDuration = 'interval 14 days'\n",
    ");\n",
    "\n",
    "\n",
    "The above sets the properties so that we can query any version of the table that was\n",
    "created in the past 60 days and can restore any files that were deleted in the past \n",
    "14 days by rolling back the table version.\n"
   ]
  },
  {
   "cell_type": "code",
   "execution_count": 18,
   "id": "8d5db817-6e0c-4fe9-808d-9165d8be2a81",
   "metadata": {},
   "outputs": [],
   "source": [
    "## Stop the spark session\n",
    "\n",
    "spark.stop()"
   ]
  },
  {
   "cell_type": "code",
   "execution_count": null,
   "id": "a6d1c015-a7e2-4c1a-a9ca-02c0a7d68274",
   "metadata": {},
   "outputs": [],
   "source": []
  }
 ],
 "metadata": {
  "kernelspec": {
   "display_name": "Python 3 (ipykernel)",
   "language": "python",
   "name": "python3"
  },
  "language_info": {
   "codemirror_mode": {
    "name": "ipython",
    "version": 3
   },
   "file_extension": ".py",
   "mimetype": "text/x-python",
   "name": "python",
   "nbconvert_exporter": "python",
   "pygments_lexer": "ipython3",
   "version": "3.10.12"
  }
 },
 "nbformat": 4,
 "nbformat_minor": 5
}
