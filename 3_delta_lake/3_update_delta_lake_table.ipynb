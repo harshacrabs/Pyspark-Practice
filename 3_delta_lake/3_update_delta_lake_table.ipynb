{
 "cells": [
  {
   "cell_type": "markdown",
   "id": "730f473d-878b-4765-a68c-13fffd4beff8",
   "metadata": {},
   "source": [
    "## Import libraries"
   ]
  },
  {
   "cell_type": "code",
   "execution_count": 1,
   "id": "76873ce6-db0d-4abe-8feb-8ad8bc4e479c",
   "metadata": {},
   "outputs": [],
   "source": [
    "from delta import configure_spark_with_delta_pip, DeltaTable\n",
    "from pyspark.sql import SparkSession\n",
    "from pyspark.sql.functions import expr,lit"
   ]
  },
  {
   "cell_type": "markdown",
   "id": "caaae7a1-9e5f-4afb-b6eb-12571be6f4b8",
   "metadata": {},
   "source": [
    "## Create SparkSession object"
   ]
  },
  {
   "cell_type": "code",
   "execution_count": 2,
   "id": "d4969f73-f2a2-4bad-a66c-5bd1ecded1bb",
   "metadata": {},
   "outputs": [
    {
     "name": "stdout",
     "output_type": "stream",
     "text": [
      ":: loading settings :: url = jar:file:/usr/local/lib/python3.10/dist-packages/pyspark/jars/ivy-2.5.1.jar!/org/apache/ivy/core/settings/ivysettings.xml\n"
     ]
    },
    {
     "name": "stderr",
     "output_type": "stream",
     "text": [
      "Ivy Default Cache set to: /root/.ivy2/cache\n",
      "The jars for the packages stored in: /root/.ivy2/jars\n",
      "io.delta#delta-core_2.12 added as a dependency\n",
      ":: resolving dependencies :: org.apache.spark#spark-submit-parent-78fe5b3a-81b0-4311-90d0-d1beca3a1d12;1.0\n",
      "\tconfs: [default]\n",
      "\tfound io.delta#delta-core_2.12;2.4.0 in central\n",
      "\tfound io.delta#delta-storage;2.4.0 in central\n",
      "\tfound org.antlr#antlr4-runtime;4.9.3 in central\n",
      ":: resolution report :: resolve 72ms :: artifacts dl 3ms\n",
      "\t:: modules in use:\n",
      "\tio.delta#delta-core_2.12;2.4.0 from central in [default]\n",
      "\tio.delta#delta-storage;2.4.0 from central in [default]\n",
      "\torg.antlr#antlr4-runtime;4.9.3 from central in [default]\n",
      "\t---------------------------------------------------------------------\n",
      "\t|                  |            modules            ||   artifacts   |\n",
      "\t|       conf       | number| search|dwnlded|evicted|| number|dwnlded|\n",
      "\t---------------------------------------------------------------------\n",
      "\t|      default     |   3   |   0   |   0   |   0   ||   3   |   0   |\n",
      "\t---------------------------------------------------------------------\n",
      ":: retrieving :: org.apache.spark#spark-submit-parent-78fe5b3a-81b0-4311-90d0-d1beca3a1d12\n",
      "\tconfs: [default]\n",
      "\t0 artifacts copied, 3 already retrieved (0kB/4ms)\n",
      "25/04/11 22:00:59 WARN NativeCodeLoader: Unable to load native-hadoop library for your platform... using builtin-java classes where applicable\n",
      "Setting default log level to \"WARN\".\n",
      "To adjust logging level use sc.setLogLevel(newLevel). For SparkR, use setLogLevel(newLevel).\n"
     ]
    }
   ],
   "source": [
    "builder = (SparkSession.builder\n",
    "           .appName(\"upsert-delta-table\")\n",
    "           .master(\"spark://spark-master:7077\")\n",
    "           .config(\"spark.executor.memory\",\"512m\")\n",
    "           .config(\"spark.sql.extensions\", \"io.delta.sql.DeltaSparkSessionExtension\")\n",
    "           .config(\"spark.sql.catalog.spark_catalog\", \"org.apache.spark.sql.delta.catalog.DeltaCatalog\")\n",
    "          )\n",
    "\n",
    "spark = configure_spark_with_delta_pip(builder).getOrCreate()\n",
    "spark.sparkContext.setLogLevel(\"ERROR\")"
   ]
  },
  {
   "cell_type": "markdown",
   "id": "6862ad9e-b939-412a-aeae-166788d5109d",
   "metadata": {},
   "source": [
    "## Read the delta table"
   ]
  },
  {
   "cell_type": "code",
   "execution_count": 3,
   "id": "1224f7ad-67d4-4bd7-9e4e-d551e3fc6c43",
   "metadata": {},
   "outputs": [
    {
     "name": "stderr",
     "output_type": "stream",
     "text": [
      "                                                                                \r"
     ]
    }
   ],
   "source": [
    "deltaTable = DeltaTable.forPath(spark,\"/opt/workspace/data/delta_lake/netflix_titles\")\n"
   ]
  },
  {
   "cell_type": "markdown",
   "id": "ccd0ad13-ea80-4e34-8f3f-7b40290dcae3",
   "metadata": {},
   "source": [
    "## Explore the data"
   ]
  },
  {
   "cell_type": "raw",
   "id": "80bf6261-975c-432e-8ae3-790ef1223547",
   "metadata": {},
   "source": [
    "toDF() method returns dataframe representation of the Delta table"
   ]
  },
  {
   "cell_type": "code",
   "execution_count": 4,
   "id": "2b285ac7-1e9d-464c-acdd-624a84323cf2",
   "metadata": {},
   "outputs": [
    {
     "name": "stderr",
     "output_type": "stream",
     "text": [
      "                                                                                \r"
     ]
    },
    {
     "name": "stdout",
     "output_type": "stream",
     "text": [
      "+-------+-------+--------------------+---------------+--------------------+-------------+------------------+------------+------+---------+--------------------+--------------------+\n",
      "|show_id|   type|               title|       director|                cast|      country|        date_added|release_year|rating| duration|           listed_in|         description|\n",
      "+-------+-------+--------------------+---------------+--------------------+-------------+------------------+------------+------+---------+--------------------+--------------------+\n",
      "|     s1|  Movie|Dick Johnson Is Dead|Kirsten Johnson|                null|United States|September 25, 2021|        2020| PG-13|   90 min|       Documentaries|As her father nea...|\n",
      "|     s2|TV Show|       Blood & Water|           null|Ama Qamata, Khosi...| South Africa|September 24, 2021|        2021| TV-MA|2 Seasons|International TV ...|After crossing pa...|\n",
      "|     s3|TV Show|           Ganglands|Julien Leclercq|Sami Bouajila, Tr...|         null|September 24, 2021|        2021| TV-MA| 1 Season|Crime TV Shows, I...|To protect his fa...|\n",
      "|     s4|TV Show|Jailbirds New Orl...|           null|                null|         null|September 24, 2021|        2021| TV-MA| 1 Season|Docuseries, Reali...|Feuds, flirtation...|\n",
      "|     s5|TV Show|        Kota Factory|           null|Mayur More, Jiten...|        India|September 24, 2021|        2021| TV-MA|2 Seasons|International TV ...|In a city of coac...|\n",
      "+-------+-------+--------------------+---------------+--------------------+-------------+------------------+------------+------+---------+--------------------+--------------------+\n",
      "only showing top 5 rows\n",
      "\n"
     ]
    }
   ],
   "source": [
    "deltaTable.toDF().show(5)"
   ]
  },
  {
   "cell_type": "markdown",
   "id": "5b4ee720-b7b1-4377-82b2-550ccab060dc",
   "metadata": {},
   "source": [
    "## Update records where director is null"
   ]
  },
  {
   "cell_type": "code",
   "execution_count": 5,
   "id": "82cafe10-3985-4c1a-8588-268e6c9a258e",
   "metadata": {},
   "outputs": [
    {
     "name": "stderr",
     "output_type": "stream",
     "text": [
      "                                                                                \r"
     ]
    }
   ],
   "source": [
    "deltaTable.update(\n",
    "    condition=expr(\"director IS NULL\"),\n",
    "    set = {\"director\" : lit(\"\")}\n",
    "           )"
   ]
  },
  {
   "cell_type": "code",
   "execution_count": 6,
   "id": "03b173cb-a4d3-4553-ae56-93435d844590",
   "metadata": {},
   "outputs": [
    {
     "name": "stdout",
     "output_type": "stream",
     "text": [
      "+--------------------+\n",
      "|            director|\n",
      "+--------------------+\n",
      "|     Kirsten Johnson|\n",
      "|                    |\n",
      "|     Julien Leclercq|\n",
      "|                    |\n",
      "|                    |\n",
      "|       Mike Flanagan|\n",
      "|Robert Cullen, Jo...|\n",
      "|        Haile Gerima|\n",
      "|     Andy Devonshire|\n",
      "|      Theodore Melfi|\n",
      "|                    |\n",
      "|   Kongkiat Komesiri|\n",
      "| Christian Schwochow|\n",
      "|       Bruno Garotti|\n",
      "|                    |\n",
      "|                    |\n",
      "|Pedro de Echave G...|\n",
      "|                    |\n",
      "|          Adam Salky|\n",
      "|                    |\n",
      "+--------------------+\n",
      "only showing top 20 rows\n",
      "\n"
     ]
    }
   ],
   "source": [
    "deltaTable.toDF().select(\"director\").show()"
   ]
  },
  {
   "cell_type": "markdown",
   "id": "0f546c16-ea3e-4197-b728-605301f5400a",
   "metadata": {},
   "source": [
    "## Alternate way to update using SQL\n"
   ]
  },
  {
   "cell_type": "code",
   "execution_count": 7,
   "id": "1f7f3ee1-b506-473e-939d-583cf960f7e8",
   "metadata": {},
   "outputs": [
    {
     "name": "stdout",
     "output_type": "stream",
     "text": [
      "DataFrame[num_affected_rows: bigint]\n"
     ]
    }
   ],
   "source": [
    "sql_query = \"\"\"\n",
    "UPDATE delta.`/opt/workspace/data/delta_lake/netflix_titles` SET director = NULL WHERE director = \"\";\n",
    "\"\"\"\n",
    "\n",
    "result = spark.sql(sql_query)\n",
    "\n",
    "print(result)\n"
   ]
  },
  {
   "cell_type": "code",
   "execution_count": 8,
   "id": "a8a07f2b-b9a2-4dff-b017-a64499777655",
   "metadata": {},
   "outputs": [
    {
     "name": "stdout",
     "output_type": "stream",
     "text": [
      "+--------------------+\n",
      "|            director|\n",
      "+--------------------+\n",
      "|     Kirsten Johnson|\n",
      "|                null|\n",
      "|     Julien Leclercq|\n",
      "|                null|\n",
      "|                null|\n",
      "|       Mike Flanagan|\n",
      "|Robert Cullen, Jo...|\n",
      "|        Haile Gerima|\n",
      "|     Andy Devonshire|\n",
      "|      Theodore Melfi|\n",
      "|                null|\n",
      "|   Kongkiat Komesiri|\n",
      "| Christian Schwochow|\n",
      "|       Bruno Garotti|\n",
      "|                null|\n",
      "|                null|\n",
      "|Pedro de Echave G...|\n",
      "|                null|\n",
      "|          Adam Salky|\n",
      "|                null|\n",
      "+--------------------+\n",
      "only showing top 20 rows\n",
      "\n"
     ]
    }
   ],
   "source": [
    "deltaTable.toDF().select(\"director\").show()"
   ]
  },
  {
   "cell_type": "code",
   "execution_count": 9,
   "id": "8171a7d9-42fd-44d9-9558-974a49a88fc6",
   "metadata": {},
   "outputs": [],
   "source": [
    "spark.stop()"
   ]
  },
  {
   "cell_type": "code",
   "execution_count": null,
   "id": "7be9bdd6-f347-499d-bfe0-b20b02e72200",
   "metadata": {},
   "outputs": [],
   "source": []
  }
 ],
 "metadata": {
  "kernelspec": {
   "display_name": "Python 3 (ipykernel)",
   "language": "python",
   "name": "python3"
  },
  "language_info": {
   "codemirror_mode": {
    "name": "ipython",
    "version": 3
   },
   "file_extension": ".py",
   "mimetype": "text/x-python",
   "name": "python",
   "nbconvert_exporter": "python",
   "pygments_lexer": "ipython3",
   "version": "3.10.12"
  }
 },
 "nbformat": 4,
 "nbformat_minor": 5
}
