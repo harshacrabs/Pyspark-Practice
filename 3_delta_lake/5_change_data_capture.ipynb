{
 "cells": [
  {
   "cell_type": "raw",
   "id": "162107bb-0406-41e2-99a9-390eca534b53",
   "metadata": {},
   "source": [
    "Delta Lake supports CDC through a feature called \"Change Data Feed\" which allows Delta tables to track row-level changes\n",
    "between versions of Delta Table"
   ]
  },
  {
   "cell_type": "markdown",
   "id": "ea102168-3bfc-4674-aa6b-52e6014dde96",
   "metadata": {},
   "source": [
    "## Import the libraries\n"
   ]
  },
  {
   "cell_type": "code",
   "execution_count": 1,
   "id": "dd06899f-f89b-48df-b053-5044cef36c13",
   "metadata": {},
   "outputs": [],
   "source": [
    "from pyspark.sql import SparkSession\n",
    "from delta import configure_spark_with_delta_pip,DeltaTable"
   ]
  },
  {
   "cell_type": "markdown",
   "id": "aef1a354-041f-4dab-84a3-45c71c76b5d9",
   "metadata": {},
   "source": [
    "## Create a SparkSession object"
   ]
  },
  {
   "cell_type": "code",
   "execution_count": 2,
   "id": "9685d591-93ff-4dba-9ed7-9147cc4efe2d",
   "metadata": {},
   "outputs": [
    {
     "name": "stdout",
     "output_type": "stream",
     "text": [
      ":: loading settings :: url = jar:file:/usr/local/lib/python3.10/dist-packages/pyspark/jars/ivy-2.5.1.jar!/org/apache/ivy/core/settings/ivysettings.xml\n"
     ]
    },
    {
     "name": "stderr",
     "output_type": "stream",
     "text": [
      "Ivy Default Cache set to: /root/.ivy2/cache\n",
      "The jars for the packages stored in: /root/.ivy2/jars\n",
      "io.delta#delta-core_2.12 added as a dependency\n",
      ":: resolving dependencies :: org.apache.spark#spark-submit-parent-ca79b277-33ff-4391-be8c-09d8b01c3095;1.0\n",
      "\tconfs: [default]\n",
      "\tfound io.delta#delta-core_2.12;2.4.0 in central\n",
      "\tfound io.delta#delta-storage;2.4.0 in central\n",
      "\tfound org.antlr#antlr4-runtime;4.9.3 in central\n",
      ":: resolution report :: resolve 73ms :: artifacts dl 6ms\n",
      "\t:: modules in use:\n",
      "\tio.delta#delta-core_2.12;2.4.0 from central in [default]\n",
      "\tio.delta#delta-storage;2.4.0 from central in [default]\n",
      "\torg.antlr#antlr4-runtime;4.9.3 from central in [default]\n",
      "\t---------------------------------------------------------------------\n",
      "\t|                  |            modules            ||   artifacts   |\n",
      "\t|       conf       | number| search|dwnlded|evicted|| number|dwnlded|\n",
      "\t---------------------------------------------------------------------\n",
      "\t|      default     |   3   |   0   |   0   |   0   ||   3   |   0   |\n",
      "\t---------------------------------------------------------------------\n",
      ":: retrieving :: org.apache.spark#spark-submit-parent-ca79b277-33ff-4391-be8c-09d8b01c3095\n",
      "\tconfs: [default]\n",
      "\t0 artifacts copied, 3 already retrieved (0kB/2ms)\n",
      "25/04/14 23:10:16 WARN NativeCodeLoader: Unable to load native-hadoop library for your platform... using builtin-java classes where applicable\n",
      "Setting default log level to \"WARN\".\n",
      "To adjust logging level use sc.setLogLevel(newLevel). For SparkR, use setLogLevel(newLevel).\n"
     ]
    }
   ],
   "source": [
    "builder = (SparkSession.builder\n",
    "           .appName(\"change-data-capture-delta-table\")\n",
    "           .master(\"spark://spark-master:7077\")\n",
    "           .config(\"spark.executor.memory\", \"512m\")\n",
    "           .config(\"spark.sql.extensions\",\"io.delta.sql.DeltaSparkSessionExtension\")\n",
    "           .config(\"spark.sql.catalog.spark_catalog\", \"org.apache.spark.sql.delta.catalog.DeltaCatalog\")\n",
    "          )\n",
    "\n",
    "spark = configure_spark_with_delta_pip(builder).getOrCreate()\n",
    "\n",
    "spark.sparkContext.setLogLevel(\"ERROR\")"
   ]
  },
  {
   "cell_type": "markdown",
   "id": "d8007b74-0ccb-495e-b6eb-be62b5698c8d",
   "metadata": {},
   "source": [
    "## Create a Delta table with CDF enabled"
   ]
  },
  {
   "cell_type": "code",
   "execution_count": 3,
   "id": "d372a8ba-26ee-4ae8-9a49-440a050439ee",
   "metadata": {},
   "outputs": [
    {
     "name": "stderr",
     "output_type": "stream",
     "text": [
      "                                                                                \r"
     ]
    }
   ],
   "source": [
    "sql_query = \"\"\"\n",
    "CREATE OR REPLACE TABLE default.movie_and_show_titles_cdf(\n",
    "\n",
    "show_id STRING,\n",
    "type STRING,\n",
    "title STRING,\n",
    "director STRING,\n",
    "cast STRING,\n",
    "country STRING,\n",
    "date_added STRING,\n",
    "release_year STRING,\n",
    "rating STRING,\n",
    "duration STRING,\n",
    "listed_in STRING,\n",
    "description STRING\n",
    ") USING delta LOCATION '/opt/workspace/data/delta_lake/movie_and_show_titles_cdf'\n",
    "TBLPROPERTIES (delta.enableChangeDataFeed = true, medallionLevel= 'bronze');\n",
    "\n",
    "\"\"\"\n",
    "\n",
    "result = spark.sql(sql_query)"
   ]
  },
  {
   "cell_type": "markdown",
   "id": "3498f844-c47e-4db6-bdc0-941c894631af",
   "metadata": {},
   "source": [
    "## Alternate way- to alter an existing table to enable CDF from that point forward"
   ]
  },
  {
   "cell_type": "raw",
   "id": "f19a31aa-b444-43e5-ad4b-f5c9042f76f5",
   "metadata": {},
   "source": [
    "%%sparksql\n",
    "\n",
    "ALTER TABLE delta.`/opt/workspace/data/delta_lake/movie_and_show_titles` \n",
    "SET TBLPROPERTIES (delta.enableChangeDataFeed=true)"
   ]
  },
  {
   "cell_type": "markdown",
   "id": "23e54304-c549-4355-a9e6-6a09334d9d31",
   "metadata": {},
   "source": [
    "## Write data into bronze table"
   ]
  },
  {
   "cell_type": "markdown",
   "id": "052e6dc6-a939-46bf-90b5-35a9289656d7",
   "metadata": {},
   "source": [
    "### Read csv file into dataframe and then appending it to delta table"
   ]
  },
  {
   "cell_type": "code",
   "execution_count": 4,
   "id": "30ead969-7339-46e2-a093-9d9641398237",
   "metadata": {},
   "outputs": [
    {
     "name": "stderr",
     "output_type": "stream",
     "text": [
      "                                                                                \r"
     ]
    }
   ],
   "source": [
    "df = (spark.read.format(\"csv\")\n",
    "      .option(\"header\", \"true\")\n",
    "      .load(\"../../data/netflix_titles.csv\")\n",
    "     )\n",
    "\n",
    "df.write.format(\"delta\").mode(\"append\").saveAsTable(\"default.movie_and_show_titles_cdf\")"
   ]
  },
  {
   "cell_type": "markdown",
   "id": "79b23d2a-4926-4c9f-86aa-de2ba04af361",
   "metadata": {},
   "source": [
    "## Create a Silver Delta Table"
   ]
  },
  {
   "cell_type": "raw",
   "id": "b62d1cc0-99b8-4b00-b62e-8998576eff9a",
   "metadata": {},
   "source": [
    "We can enable CDC on a table while creating it by applying the delta.enableChangeDataFeed table property.\n",
    "We will also add some custom user-defined meta data to this table.\n",
    "This will be \"updatedFromTable\" which contains the upstream table name and \"updatedFromTableVersion\" which contains the last version\n",
    "of the source table propagated to this table successfully processed(-1 means the table has never been propagated)\n"
   ]
  },
  {
   "cell_type": "code",
   "execution_count": 5,
   "id": "c7ec6e44-205f-4b72-aa96-6111efbebe24",
   "metadata": {},
   "outputs": [],
   "source": [
    "sql_query = \"\"\"\n",
    "\n",
    "CREATE OR REPLACE TABLE default.movie_and_show_titles_cleansed (\n",
    "\n",
    "    show_id STRING,\n",
    "    type STRING,\n",
    "    title STRING,\n",
    "    director STRING,\n",
    "    cast STRING,\n",
    "    country STRING,\n",
    "    date_added STRING,\n",
    "    release_year STRING,\n",
    "    rating STRING,\n",
    "    duration STRING,\n",
    "    listed_in STRING,\n",
    "    description STRING\n",
    "\n",
    "    ) USING DELTA LOCATION '/opt/workspace/data/delta_lake/movie_and_show_titles_cleansed'\n",
    "    TBLPROPERTIES (delta.enableChangeDataFeed = true,\n",
    "                   medallionLevel = 'silver',\n",
    "                   updateFromTable = 'default.movie_and_show_titles_cdf',\n",
    "                   updatedFromTableVersion= '-1');\n",
    "\n",
    "\"\"\"\n",
    "\n",
    "result = spark.sql(sql_query)\n",
    "\n",
    "                    \n",
    "    "
   ]
  },
  {
   "cell_type": "markdown",
   "id": "3e58e6ae-66da-4366-8bd1-31b9d457affe",
   "metadata": {},
   "source": [
    "## Get the last updated version from the silver table"
   ]
  },
  {
   "cell_type": "code",
   "execution_count": 6,
   "id": "4e3c3866-1ffd-4e67-ae85-29dbdf56c6c5",
   "metadata": {},
   "outputs": [
    {
     "data": {
      "text/plain": [
       "0"
      ]
     },
     "execution_count": 6,
     "metadata": {},
     "output_type": "execute_result"
    }
   ],
   "source": [
    "lastUpdateVersion = int(spark.sql(\"SHOW TBLPROPERTIES default.movie_and_show_titles_cleansed('updatedFromTableVersion')\").first()[\"value\"]) +1\n",
    "\n",
    "lastUpdateVersion"
   ]
  },
  {
   "cell_type": "markdown",
   "id": "5c58365a-f754-4d29-8f99-35518a99eea6",
   "metadata": {},
   "source": [
    "## Get the latest version from the silver table"
   ]
  },
  {
   "cell_type": "code",
   "execution_count": 7,
   "id": "843a35a5-b49c-4ce2-a3f3-e71974b6a7ce",
   "metadata": {},
   "outputs": [
    {
     "data": {
      "text/plain": [
       "2"
      ]
     },
     "execution_count": 7,
     "metadata": {},
     "output_type": "execute_result"
    }
   ],
   "source": [
    "latestVersion = spark.sql(\"DESCRIBE HISTORY default.movie_and_show_titles_cdf\").first()[\"version\"]\n",
    "\n",
    "latestVersion"
   ]
  },
  {
   "cell_type": "markdown",
   "id": "14ca32c3-7ad7-4bc7-97f4-42dfb4036c37",
   "metadata": {},
   "source": [
    "## Create a temporary view "
   ]
  },
  {
   "cell_type": "raw",
   "id": "68a67087-c2ec-4575-9752-280a06f65908",
   "metadata": {},
   "source": [
    "Create a temporary view of changes to the bronze table since the last load of the silver table"
   ]
  },
  {
   "cell_type": "code",
   "execution_count": 8,
   "id": "8240b365-d66a-4c23-8930-1476e684bf22",
   "metadata": {},
   "outputs": [
    {
     "name": "stdout",
     "output_type": "stream",
     "text": [
      "++\n",
      "||\n",
      "++\n",
      "++\n",
      "\n"
     ]
    }
   ],
   "source": [
    "lastUpdateVersion = int(spark.sql(\"SHOW TBLPROPERTIES default.movie_and_show_titles_cleansed('updatedFromTableVersion')\").first()[\"value\"]) +1\n",
    "\n",
    "latestVersion = spark.sql(\"DESCRIBE HISTORY default.movie_and_show_titles_cdf\").first()[\"version\"]\n",
    "\n",
    "# constructing a sql_query using f-string\n",
    "\n",
    "sql_query = f\"\"\"\n",
    "\n",
    "CREATE OR REPLACE TEMPORARY VIEW bronzeTable_latest_version as \n",
    "\n",
    "    SELECT * FROM (\n",
    "        SELECT *, \n",
    "        RANK() OVER(PARTITION BY(lower(type), lower(title), lower(director), date_added) ORDER BY _commit_version DESC) as rank\n",
    "\n",
    "        FROM table_changes('default.movie_and_show_titles_cdf',{lastUpdateVersion}, {latestVersion})\n",
    "        \n",
    "        WHERE type IS NOT NULL AND title IS NOT NULL AND director IS NOT NULL AND _change_type != 'update_preimage'\n",
    "        )\n",
    "\n",
    "        WHERE rank = 1;\n",
    "\n",
    "\"\"\"\n",
    "\n",
    "result = spark.sql(sql_query)\n",
    "\n",
    "result.show()\n",
    "    "
   ]
  },
  {
   "cell_type": "markdown",
   "id": "a2459afd-7a54-4d32-b2f3-d4d261e1966d",
   "metadata": {},
   "source": [
    "## Merge Change Data into the Silver table"
   ]
  },
  {
   "cell_type": "raw",
   "id": "acbc95b7-ac12-48f6-bc16-4e284e98ccc4",
   "metadata": {},
   "source": [
    "This code executes a MERGE_INTO Statement that performs a CDC operation on a Delta lake table.We specify 3 possible actions based on the \n",
    "match between the source and target rows.\n",
    "\n",
    "1. If the source row matches the target row and _change_type is either 'update_postimage' or 'update_preimage', then update all columns\n",
    "of the source row.\n",
    "\n",
    "2. If the source row matches the target row and _change_type is delete, then delete the matching target row.\n",
    "\n",
    "3. If the source row does not match any target row and _change_type is insert, thne insert all columns of the source row into the target table.\n",
    "\n"
   ]
  },
  {
   "cell_type": "code",
   "execution_count": 9,
   "id": "4bf6238f-a735-477f-8bd4-f48bc1722bb0",
   "metadata": {},
   "outputs": [
    {
     "name": "stderr",
     "output_type": "stream",
     "text": [
      "                                                                                \r"
     ]
    },
    {
     "name": "stdout",
     "output_type": "stream",
     "text": [
      "+-----------------+----------------+----------------+-----------------+\n",
      "|num_affected_rows|num_updated_rows|num_deleted_rows|num_inserted_rows|\n",
      "+-----------------+----------------+----------------+-----------------+\n",
      "|                0|               0|               0|                0|\n",
      "+-----------------+----------------+----------------+-----------------+\n",
      "\n"
     ]
    }
   ],
   "source": [
    "sql_query = \"\"\"\n",
    "\n",
    "MERGE INTO default.movie_and_show_titles_cleansed t\n",
    "USING bronzeTable_latest_version s\n",
    "ON lower(t.type) = lower(s.type)\n",
    "AND lower(t.title) = lower(s.title)\n",
    "AND lower(t.director) = lower(s.director)\n",
    "AND t.date_added = s.date_added\n",
    "\n",
    "WHEN MATCHED AND s._change_type= 'update_preimage' OR s._change_type= 'update_postimage' \n",
    "THEN UPDATE SET *\n",
    "WHEN MATCHED AND s._change_type='delete' THEN DELETE\n",
    "WHEN NOT MATCHED AND s._change_type = 'insert' THEN INSERT *\n",
    "\"\"\"\n",
    "\n",
    "result = spark.sql(sql_query)\n",
    "result.show()"
   ]
  },
  {
   "cell_type": "markdown",
   "id": "ac836d56-ecea-495b-9680-1412e276fcbc",
   "metadata": {},
   "source": [
    "## Alter the delta table"
   ]
  },
  {
   "cell_type": "raw",
   "id": "18282635-83fe-4b3a-89ae-e2a600a0768b",
   "metadata": {},
   "source": [
    "Update the user-defined metadata value for updatedFromTableVersion"
   ]
  },
  {
   "cell_type": "code",
   "execution_count": 10,
   "id": "b056cd7b-4353-4e16-90ca-281bb9ea3194",
   "metadata": {},
   "outputs": [
    {
     "name": "stdout",
     "output_type": "stream",
     "text": [
      "++\n",
      "||\n",
      "++\n",
      "++\n",
      "\n"
     ]
    }
   ],
   "source": [
    "sql_query = f\"\"\"\n",
    "ALTER TABLE default.movie_and_show_titles_cleansed\n",
    "SET TBLPROPERTIES(updatedFromTableVersion = {latestVersion});\n",
    "\"\"\"\n",
    "\n",
    "result = spark.sql(sql_query)\n",
    "result.show()"
   ]
  },
  {
   "cell_type": "markdown",
   "id": "61b2b968-20fb-4be1-845f-cf66d1f2c6a8",
   "metadata": {},
   "source": [
    "## Drop the temporary view"
   ]
  },
  {
   "cell_type": "code",
   "execution_count": 12,
   "id": "aeec8455-4e77-4d95-97df-03691aeb2bba",
   "metadata": {},
   "outputs": [
    {
     "data": {
      "text/plain": [
       "DataFrame[]"
      ]
     },
     "execution_count": 12,
     "metadata": {},
     "output_type": "execute_result"
    }
   ],
   "source": [
    "sql_query = \"\"\" \n",
    "DROP VIEW bronzeTable_latest_version\n",
    "\"\"\"\n",
    "\n",
    "spark.sql(sql_query)"
   ]
  },
  {
   "cell_type": "markdown",
   "id": "5a90bbfe-5514-4247-a641-7629be43926b",
   "metadata": {},
   "source": [
    "## Simulate Data changes"
   ]
  },
  {
   "cell_type": "code",
   "execution_count": 15,
   "id": "d75ad95b-f423-47c8-b90c-d5d72be2860e",
   "metadata": {},
   "outputs": [
    {
     "name": "stdout",
     "output_type": "stream",
     "text": [
      "+-----------------+\n",
      "|num_affected_rows|\n",
      "+-----------------+\n",
      "|             1660|\n",
      "+-----------------+\n",
      "\n",
      "+-----------------+\n",
      "|num_affected_rows|\n",
      "+-----------------+\n",
      "|             4452|\n",
      "+-----------------+\n",
      "\n"
     ]
    }
   ],
   "source": [
    "# Execute DELETE statement\n",
    "delete_query = \"DELETE FROM default.movie_and_show_titles_cdf WHERE country IS NULL\"\n",
    "delete_result = spark.sql(delete_query)\n",
    "delete_result.show()  # This typically returns operation metrics\n",
    "\n",
    "# Execute UPDATE statement\n",
    "update_query = \"UPDATE default.movie_and_show_titles_cdf SET director = '' WHERE director IS NULL\"\n",
    "update_result = spark.sql(update_query)\n",
    "update_result.show()  # This typically returns operation metrics"
   ]
  },
  {
   "cell_type": "code",
   "execution_count": 16,
   "id": "44f44fb0-58a4-4c2b-a5b5-a6899b5d6ce8",
   "metadata": {},
   "outputs": [
    {
     "data": {
      "text/plain": [
       "3"
      ]
     },
     "execution_count": 16,
     "metadata": {},
     "output_type": "execute_result"
    }
   ],
   "source": [
    "lastUpdateVersion = int(spark.sql(\"SHOW TBLPROPERTIES default.movie_and_show_titles_cleansed('updatedFromTableVersion')\").first()[\"value\"]) +1\n",
    "\n",
    "lastUpdateVersion"
   ]
  },
  {
   "cell_type": "code",
   "execution_count": 17,
   "id": "c79e2eda-f7ab-4d22-96d3-d23622fa358f",
   "metadata": {},
   "outputs": [
    {
     "data": {
      "text/plain": [
       "4"
      ]
     },
     "execution_count": 17,
     "metadata": {},
     "output_type": "execute_result"
    }
   ],
   "source": [
    "latestVersion = spark.sql(\"DESCRIBE HISTORY default.movie_and_show_titles_cdf\").first()[\"version\"]\n",
    "\n",
    "latestVersion"
   ]
  },
  {
   "cell_type": "code",
   "execution_count": 20,
   "id": "c7d0bb5d-a342-4150-9a32-2b5c4534037f",
   "metadata": {},
   "outputs": [],
   "source": [
    "spark.stop()"
   ]
  },
  {
   "cell_type": "code",
   "execution_count": null,
   "id": "efdba662-c340-4dda-b7c8-6aa339f64b43",
   "metadata": {},
   "outputs": [],
   "source": []
  }
 ],
 "metadata": {
  "kernelspec": {
   "display_name": "Python 3 (ipykernel)",
   "language": "python",
   "name": "python3"
  },
  "language_info": {
   "codemirror_mode": {
    "name": "ipython",
    "version": 3
   },
   "file_extension": ".py",
   "mimetype": "text/x-python",
   "name": "python",
   "nbconvert_exporter": "python",
   "pygments_lexer": "ipython3",
   "version": "3.10.12"
  }
 },
 "nbformat": 4,
 "nbformat_minor": 5
}
