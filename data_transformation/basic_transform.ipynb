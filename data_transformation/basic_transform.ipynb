{
 "cells": [
  {
   "cell_type": "markdown",
   "id": "ec3e06b7-710b-423c-aaf2-03a08367667d",
   "metadata": {},
   "source": [
    "## Import libraries and modules"
   ]
  },
  {
   "cell_type": "code",
   "execution_count": 2,
   "id": "bd5894c9-0bbe-44bc-a9a6-fb1bf0164e39",
   "metadata": {},
   "outputs": [],
   "source": [
    "from pyspark.sql import SparkSession\n",
    "from pyspark.sql.functions import transform, col, concat, lit"
   ]
  },
  {
   "cell_type": "markdown",
   "id": "38171a7f-b6c2-4f03-9232-2199e0aeb6ca",
   "metadata": {},
   "source": [
    "## Create a spark session object"
   ]
  },
  {
   "cell_type": "code",
   "execution_count": 3,
   "id": "9c633515-f63f-4284-bbe0-de728cf68c16",
   "metadata": {},
   "outputs": [
    {
     "name": "stderr",
     "output_type": "stream",
     "text": [
      "Setting default log level to \"WARN\".\n",
      "To adjust logging level use sc.setLogLevel(newLevel). For SparkR, use setLogLevel(newLevel).\n",
      "25/04/05 13:57:27 WARN NativeCodeLoader: Unable to load native-hadoop library for your platform... using builtin-java classes where applicable\n"
     ]
    }
   ],
   "source": [
    "spark = (SparkSession.builder\n",
    "         .appName(\"basic-transformation\")\n",
    "         .master(\"spark://spark-master:7077\")\n",
    "         .config(\"spark.executor.memory\", \"512m\")\n",
    "         .getOrCreate()\n",
    "        )\n",
    "\n",
    "spark.sparkContext.setLogLevel(\"ERROR\")"
   ]
  },
  {
   "cell_type": "markdown",
   "id": "e53b60d3-06ad-4e3b-aa09-4cbfea8486e4",
   "metadata": {},
   "source": [
    "## Read the data"
   ]
  },
  {
   "cell_type": "code",
   "execution_count": 4,
   "id": "9eef0bb9-20b2-40d0-8cc9-5e4a09beafb5",
   "metadata": {},
   "outputs": [],
   "source": [
    "df = (spark.read.format(\"json\")\n",
    "      .option(\"multiLine\", \"true\")\n",
    "      .load(\"../../data/nobel_prizes.json\"))\n"
   ]
  },
  {
   "cell_type": "code",
   "execution_count": 5,
   "id": "4ba476c6-a846-46d6-bc43-7a57ee80f78a",
   "metadata": {},
   "outputs": [
    {
     "name": "stdout",
     "output_type": "stream",
     "text": [
      "+----------+--------------------+--------------------+----+\n",
      "|  category|           laureates|   overallMotivation|year|\n",
      "+----------+--------------------+--------------------+----+\n",
      "| chemistry|[{Carolyn, 1015, ...|                null|2022|\n",
      "| economics|[{Ben, 1021, \"for...|                null|2022|\n",
      "|literature|[{Annie, 1017, \"f...|                null|2022|\n",
      "|     peace|[{Ales, 1018, \"Th...|                null|2022|\n",
      "|   physics|[{Alain, 1012, \"f...|                null|2022|\n",
      "|  medicine|[{Svante, 1011, \"...|                null|2022|\n",
      "| chemistry|[{Benjamin, 1002,...|                null|2021|\n",
      "| economics|[{David, 1007, \"f...|                null|2021|\n",
      "|literature|[{Abdulrazak, 100...|                null|2021|\n",
      "|     peace|[{Maria, 1005, \"f...|                null|2021|\n",
      "|   physics|[{Syukuro, 999, \"...|\"for groundbreaki...|2021|\n",
      "|  medicine|[{David, 997, \"fo...|                null|2021|\n",
      "| chemistry|[{Emmanuelle, 991...|                null|2020|\n",
      "| economics|[{Paul, 995, \"for...|                null|2020|\n",
      "|literature|[{Louise, 993, \"f...|                null|2020|\n",
      "|     peace|[{World Food Prog...|                null|2020|\n",
      "|   physics|[{Roger, 988, \"fo...|                null|2020|\n",
      "|  medicine|[{Harvey, 985, \"f...|                null|2020|\n",
      "| chemistry|[{John, 976, \"for...|                null|2019|\n",
      "| economics|[{Abhijit, 982, \"...|                null|2019|\n",
      "+----------+--------------------+--------------------+----+\n",
      "only showing top 20 rows\n",
      "\n"
     ]
    }
   ],
   "source": [
    "df.show()"
   ]
  },
  {
   "cell_type": "code",
   "execution_count": 6,
   "id": "6af41c5b-90d9-4302-877a-60f90d01bb27",
   "metadata": {},
   "outputs": [
    {
     "name": "stdout",
     "output_type": "stream",
     "text": [
      "root\n",
      " |-- category: string (nullable = true)\n",
      " |-- laureates: array (nullable = true)\n",
      " |    |-- element: struct (containsNull = true)\n",
      " |    |    |-- firstname: string (nullable = true)\n",
      " |    |    |-- id: string (nullable = true)\n",
      " |    |    |-- motivation: string (nullable = true)\n",
      " |    |    |-- share: string (nullable = true)\n",
      " |    |    |-- surname: string (nullable = true)\n",
      " |-- overallMotivation: string (nullable = true)\n",
      " |-- year: string (nullable = true)\n",
      "\n"
     ]
    }
   ],
   "source": [
    "df.printSchema()"
   ]
  },
  {
   "cell_type": "markdown",
   "id": "48262ecb-8f3f-4a0f-95b7-143f3e28f941",
   "metadata": {},
   "source": [
    "## Apply transform function to laureates column and create a new column - laureates_full_name"
   ]
  },
  {
   "cell_type": "code",
   "execution_count": 9,
   "id": "1cbf1e9b-f6d1-4edc-8fea-9aa49176f26b",
   "metadata": {},
   "outputs": [
    {
     "name": "stdout",
     "output_type": "stream",
     "text": [
      "+----------+-----------------+----+--------------------+--------------------+\n",
      "|  category|overallMotivation|year|           laureates| laureates_full_name|\n",
      "+----------+-----------------+----+--------------------+--------------------+\n",
      "| chemistry|             null|2022|[{Carolyn, 1015, ...|[Carolyn Bertozzi...|\n",
      "| economics|             null|2022|[{Ben, 1021, \"for...|[Ben Bernanke, Do...|\n",
      "|literature|             null|2022|[{Annie, 1017, \"f...|      [Annie Ernaux]|\n",
      "|     peace|             null|2022|[{Ales, 1018, \"Th...|[Ales Bialiatski ...|\n",
      "|   physics|             null|2022|[{Alain, 1012, \"f...|[Alain Aspect, nu...|\n",
      "+----------+-----------------+----+--------------------+--------------------+\n",
      "only showing top 5 rows\n",
      "\n"
     ]
    }
   ],
   "source": [
    "df_transformed = (df.select(\"category\", \"overallMotivation\", \"year\", \"laureates\",\n",
    "                            transform(col(\"laureates\"), lambda x: concat(x.firstname, \n",
    "                                                                         lit(\" \"),\n",
    "                                                                         x.surname))\n",
    "                            .alias(\"laureates_full_name\")))\n",
    "\n",
    "df_transformed.show(5, truncate=True)"
   ]
  },
  {
   "cell_type": "code",
   "execution_count": 14,
   "id": "e11f6fcf-d765-41a2-96f8-e63c3d93350f",
   "metadata": {},
   "outputs": [
    {
     "name": "stdout",
     "output_type": "stream",
     "text": [
      "+--------------------------------------------------------+\n",
      "|laureates_full_name                                     |\n",
      "+--------------------------------------------------------+\n",
      "|[Carolyn Bertozzi, Morten Meldal, Barry Sharpless]      |\n",
      "|[Ben Bernanke, Douglas Diamond, Philip Dybvig]          |\n",
      "|[Annie Ernaux]                                          |\n",
      "|[Ales Bialiatski , null, null]                          |\n",
      "|[Alain Aspect, null, Anton Zeilinger]                   |\n",
      "|[Svante Pääbo]                                          |\n",
      "|[Benjamin List, David MacMillan]                        |\n",
      "|[David Card, Joshua Angrist, Guido Imbens]              |\n",
      "|[Abdulrazak Gurnah]                                     |\n",
      "|[Maria Ressa, Dmitry Muratov]                           |\n",
      "|[Syukuro Manabe, Klaus Hasselmann, Giorgio Parisi]      |\n",
      "|[David Julius, Ardem Patapoutian]                       |\n",
      "|[Emmanuelle Charpentier, Jennifer A. Doudna]            |\n",
      "|[Paul Milgrom, Robert Wilson]                           |\n",
      "|[Louise Glück]                                          |\n",
      "|[null]                                                  |\n",
      "|[Roger Penrose, Reinhard Genzel, Andrea Ghez]           |\n",
      "|[Harvey Alter, Michael Houghton, Charles Rice]          |\n",
      "|[John Goodenough, M. Stanley Whittingham, Akira Yoshino]|\n",
      "|[Abhijit Banerjee, Esther Duflo, Michael Kremer]        |\n",
      "+--------------------------------------------------------+\n",
      "only showing top 20 rows\n",
      "\n"
     ]
    }
   ],
   "source": [
    "df_transformed.select('laureates_full_name').show(truncate=False)"
   ]
  },
  {
   "cell_type": "code",
   "execution_count": 15,
   "id": "a10425ff-1247-4aa1-a01a-b4b9362a57aa",
   "metadata": {},
   "outputs": [
    {
     "name": "stdout",
     "output_type": "stream",
     "text": [
      "+------------------------------------------------------------------------------------------------------------------------------------------------------------------------------------------------------------------------------------------------------------------------------------------------------------------------------------------------------------------------------------------------------------------------------------------------------------------------------------------------------------------------------------------------------------------------------------------------------------------------------------------------------------------------------------------------------------------------------------------------------------------------------------------------------------------------------------------------------------------------------------------------------------------------------------------------------------------------------------------------------------------------------------------------------------------------------------------------------------------------------------------------------------------------------------------------------------------------------------------------------------------------------------+\n",
      "|laureates                                                                                                                                                                                                                                                                                                                                                                                                                                                                                                                                                                                                                                                                                                                                                                                                                                                                                                                                                                                                                                                                                                                                                                                                                                                                           |\n",
      "+------------------------------------------------------------------------------------------------------------------------------------------------------------------------------------------------------------------------------------------------------------------------------------------------------------------------------------------------------------------------------------------------------------------------------------------------------------------------------------------------------------------------------------------------------------------------------------------------------------------------------------------------------------------------------------------------------------------------------------------------------------------------------------------------------------------------------------------------------------------------------------------------------------------------------------------------------------------------------------------------------------------------------------------------------------------------------------------------------------------------------------------------------------------------------------------------------------------------------------------------------------------------------------+\n",
      "|[{Carolyn, 1015, \"for the development of click chemistry and bioorthogonal chemistry\", 3, Bertozzi}, {Morten, 1016, \"for the development of click chemistry and bioorthogonal chemistry\", 3, Meldal}, {Barry, 743, \"for the development of click chemistry and bioorthogonal chemistry\", 3, Sharpless}]                                                                                                                                                                                                                                                                                                                                                                                                                                                                                                                                                                                                                                                                                                                                                                                                                                                                                                                                                                             |\n",
      "|[{Ben, 1021, \"for research on banks and financial crises\", 3, Bernanke}, {Douglas, 1022, \"for research on banks and financial crises\", 3, Diamond}, {Philip, 1023, \"for research on banks and financial crises\", 3, Dybvig}]                                                                                                                                                                                                                                                                                                                                                                                                                                                                                                                                                                                                                                                                                                                                                                                                                                                                                                                                                                                                                                                        |\n",
      "|[{Annie, 1017, \"for the courage and clinical acuity with which she uncovers the roots, estrangements and  collective restraints of personal memory\", 1, Ernaux}]                                                                                                                                                                                                                                                                                                                                                                                                                                                                                                                                                                                                                                                                                                                                                                                                                                                                                                                                                                                                                                                                                                                    |\n",
      "|[{Ales, 1018, \"The Peace Prize laureates represent civil society in their home countries. They have for many years promoted the right to criticise power and protect the fundamental rights of citizens. They have made an outstanding effort to document war crimes, human right abuses and the abuse of power. Together they demonstrate the significance of civil society for peace and democracy.\", 3, Bialiatski }, {Memorial, 1019, \"The Peace Prize laureates represent civil society in their home countries. They have for many years promoted the right to criticise power and protect the fundamental rights of citizens. They have made an outstanding effort to document war crimes, human right abuses and the abuse of power. Together they demonstrate the significance of civil society for peace and democracy.\", 3, null}, {Center for Civil Liberties, 1020, \"The Peace Prize laureates represent civil society in their home countries. They have for many years promoted the right to criticise power and protect the fundamental rights of citizens. They have made an outstanding effort to document war crimes, human right abuses and the abuse of power. Together they demonstrate the significance of civil society for peace and democracy.\", 3, null}]|\n",
      "|[{Alain, 1012, \"for experiments with entangled photons, establishing the violation of Bell inequalities and  pioneering quantum information science\", 3, Aspect}, {null, 1013, \"for experiments with entangled photons, establishing the violation of Bell inequalities and  pioneering quantum information science\", 3, null}, {Anton, 1014, \"for experiments with entangled photons, establishing the violation of Bell inequalities and  pioneering quantum information science\", 3, Zeilinger}]                                                                                                                                                                                                                                                                                                                                                                                                                                                                                                                                                                                                                                                                                                                                                                                 |\n",
      "|[{Svante, 1011, \"for his discoveries concerning the genomes of extinct hominins and human evolution\", 1, Pääbo}]                                                                                                                                                                                                                                                                                                                                                                                                                                                                                                                                                                                                                                                                                                                                                                                                                                                                                                                                                                                                                                                                                                                                                                    |\n",
      "|[{Benjamin, 1002, \"for the development of asymmetric organocatalysis\", 2, List}, {David, 1003, \"for the development of asymmetric organocatalysis\", 2, MacMillan}]                                                                                                                                                                                                                                                                                                                                                                                                                                                                                                                                                                                                                                                                                                                                                                                                                                                                                                                                                                                                                                                                                                                  |\n",
      "|[{David, 1007, \"for his empirical contributions to labour economics\", 2, Card}, {Joshua, 1008, \"for their methodological contributions to the analysis of causal relationships\", 4, Angrist}, {Guido, 1009, \"for their methodological contributions to the analysis of causal relationships\", 4, Imbens}]                                                                                                                                                                                                                                                                                                                                                                                                                                                                                                                                                                                                                                                                                                                                                                                                                                                                                                                                                                           |\n",
      "|[{Abdulrazak, 1004, \"for his uncompromising and compassionate penetration of the effects of colonialism and the fate of the refugee in the gulf between cultures and continents\", 1, Gurnah}]                                                                                                                                                                                                                                                                                                                                                                                                                                                                                                                                                                                                                                                                                                                                                                                                                                                                                                                                                                                                                                                                                       |\n",
      "|[{Maria, 1005, \"for their efforts to safeguard freedom of expression, which is a precondition for democracy and lasting peace\", 2, Ressa}, {Dmitry, 1006, \"for their efforts to safeguard freedom of expression, which is a precondition for democracy and lasting peace\", 2, Muratov}]                                                                                                                                                                                                                                                                                                                                                                                                                                                                                                                                                                                                                                                                                                                                                                                                                                                                                                                                                                                             |\n",
      "|[{Syukuro, 999, \"for the physical modelling of Earth’s climate, quantifying variability and reliably predicting global warming\", 4, Manabe}, {Klaus, 1000, \"for the physical modelling of Earth’s climate, quantifying variability and reliably predicting global warming\", 4, Hasselmann}, {Giorgio, 1001, \"for the discovery of the interplay of disorder and fluctuations in physical systems from atomic to planetary scales\", 2, Parisi}]                                                                                                                                                                                                                                                                                                                                                                                                                                                                                                                                                                                                                                                                                                                                                                                                                                      |\n",
      "|[{David, 997, \"for their discoveries of receptors for temperature and touch\", 2, Julius}, {Ardem, 998, \"for their discoveries of receptors for temperature and touch\", 2, Patapoutian}]                                                                                                                                                                                                                                                                                                                                                                                                                                                                                                                                                                                                                                                                                                                                                                                                                                                                                                                                                                                                                                                                                             |\n",
      "|[{Emmanuelle, 991, \"for the development of a method for genome editing\", 2, Charpentier}, {Jennifer A., 992, \"for the development of a method for genome editing\", 2, Doudna}]                                                                                                                                                                                                                                                                                                                                                                                                                                                                                                                                                                                                                                                                                                                                                                                                                                                                                                                                                                                                                                                                                                      |\n",
      "|[{Paul, 995, \"for improvements to auction theory and inventions of new auction formats\", 2, Milgrom}, {Robert, 996, \"for improvements to auction theory and inventions of new auction formats\", 2, Wilson}]                                                                                                                                                                                                                                                                                                                                                                                                                                                                                                                                                                                                                                                                                                                                                                                                                                                                                                                                                                                                                                                                         |\n",
      "|[{Louise, 993, \"for her unmistakable poetic voice that with austere beauty makes individual existence universal\", 1, Glück}]                                                                                                                                                                                                                                                                                                                                                                                                                                                                                                                                                                                                                                                                                                                                                                                                                                                                                                                                                                                                                                                                                                                                                        |\n",
      "|[{World Food Programme, 994, \"for its efforts to combat hunger, for its contribution to bettering conditions for peace in conflict-affected areas and for acting as a driving force in efforts to prevent the use of hunger as a weapon of war and conflict\", 1, null}]                                                                                                                                                                                                                                                                                                                                                                                                                                                                                                                                                                                                                                                                                                                                                                                                                                                                                                                                                                                                             |\n",
      "|[{Roger, 988, \"for the discovery that black hole formation is a robust prediction of the general theory of relativity\", 2, Penrose}, {Reinhard, 989, \"for the discovery of a supermassive compact object at the centre of our galaxy\", 4, Genzel}, {Andrea, 990, \"for the discovery of a supermassive compact object at the centre of our galaxy\", 4, Ghez}]                                                                                                                                                                                                                                                                                                                                                                                                                                                                                                                                                                                                                                                                                                                                                                                                                                                                                                                        |\n",
      "|[{Harvey, 985, \"for the discovery of Hepatitis C virus\", 3, Alter}, {Michael, 986, \"for the discovery of Hepatitis C virus\", 3, Houghton}, {Charles, 987, \"for the discovery of Hepatitis C virus\", 3, Rice}]                                                                                                                                                                                                                                                                                                                                                                                                                                                                                                                                                                                                                                                                                                                                                                                                                                                                                                                                                                                                                                                                       |\n",
      "|[{John, 976, \"for the development of lithium-ion batteries\", 3, Goodenough}, {M. Stanley, 977, \"for the development of lithium-ion batteries\", 3, Whittingham}, {Akira, 978, \"for the development of lithium-ion batteries\", 3, Yoshino}]                                                                                                                                                                                                                                                                                                                                                                                                                                                                                                                                                                                                                                                                                                                                                                                                                                                                                                                                                                                                                                           |\n",
      "|[{Abhijit, 982, \"for their experimental approach to alleviating global poverty\", 3, Banerjee}, {Esther, 983, \"for their experimental approach to alleviating global poverty\", 3, Duflo}, {Michael, 984, \"for their experimental approach to alleviating global poverty\", 3, Kremer}]                                                                                                                                                                                                                                                                                                                                                                                                                                                                                                                                                                                                                                                                                                                                                                                                                                                                                                                                                                                                |\n",
      "+------------------------------------------------------------------------------------------------------------------------------------------------------------------------------------------------------------------------------------------------------------------------------------------------------------------------------------------------------------------------------------------------------------------------------------------------------------------------------------------------------------------------------------------------------------------------------------------------------------------------------------------------------------------------------------------------------------------------------------------------------------------------------------------------------------------------------------------------------------------------------------------------------------------------------------------------------------------------------------------------------------------------------------------------------------------------------------------------------------------------------------------------------------------------------------------------------------------------------------------------------------------------------------+\n",
      "only showing top 20 rows\n",
      "\n"
     ]
    }
   ],
   "source": [
    "df_transformed.select('laureates').show(truncate=False)"
   ]
  },
  {
   "cell_type": "markdown",
   "id": "c280863b-33df-4e05-93c2-d08f45b98192",
   "metadata": {},
   "source": [
    "## Drop duplicates in the dataframe"
   ]
  },
  {
   "cell_type": "code",
   "execution_count": 16,
   "id": "ec9b72da-7ec8-411e-be2b-e4d1d140f12c",
   "metadata": {},
   "outputs": [
    {
     "name": "stdout",
     "output_type": "stream",
     "text": [
      "DataFrame shape: (664, 4)\n"
     ]
    }
   ],
   "source": [
    "# Getting the shape of the dataframe\n",
    "\n",
    "num_rows = df.count()\n",
    "num_cols = len(df.columns)\n",
    "print(f\"DataFrame shape: ({num_rows}, {num_cols})\")"
   ]
  },
  {
   "cell_type": "code",
   "execution_count": 17,
   "id": "8b32c134-718e-42d7-8634-a864a8c613c8",
   "metadata": {},
   "outputs": [
    {
     "name": "stdout",
     "output_type": "stream",
     "text": [
      "DataFrame shape: (664, 4)\n"
     ]
    }
   ],
   "source": [
    "df_deduped = df.dropDuplicates([\"category\", \"overallMotivation\", \"year\"])\n",
    "\n",
    "# Getting the shape of the dataframe\n",
    "\n",
    "num_rows = df_deduped.count()\n",
    "num_cols = len(df_deduped.columns)\n",
    "print(f\"DataFrame shape: ({num_rows}, {num_cols})\")"
   ]
  },
  {
   "cell_type": "markdown",
   "id": "24d31c24-b51b-4e15-b95d-fa020724a7da",
   "metadata": {},
   "source": [
    "### Dropping duplicates based on category column"
   ]
  },
  {
   "cell_type": "code",
   "execution_count": 18,
   "id": "9c1f8a2f-b8f8-48b9-b76f-556cbee060d7",
   "metadata": {},
   "outputs": [
    {
     "name": "stdout",
     "output_type": "stream",
     "text": [
      "DataFrame shape: (6, 4)\n"
     ]
    }
   ],
   "source": [
    "df_deduped_2 = df.dropDuplicates([\"category\"])\n",
    "\n",
    "num_rows = df_deduped_2.count()\n",
    "num_cols = len(df_deduped_2.columns)\n",
    "print(f\"DataFrame shape: ({num_rows}, {num_cols})\")"
   ]
  },
  {
   "cell_type": "code",
   "execution_count": 19,
   "id": "7774f9b1-b345-4278-98f8-4fa9209f7cfb",
   "metadata": {},
   "outputs": [
    {
     "name": "stdout",
     "output_type": "stream",
     "text": [
      "+----------+--------------------+-----------------+----+\n",
      "|  category|           laureates|overallMotivation|year|\n",
      "+----------+--------------------+-----------------+----+\n",
      "| chemistry|[{Carolyn, 1015, ...|             null|2022|\n",
      "| economics|[{Ben, 1021, \"for...|             null|2022|\n",
      "|literature|[{Annie, 1017, \"f...|             null|2022|\n",
      "|  medicine|[{Svante, 1011, \"...|             null|2022|\n",
      "|     peace|[{Ales, 1018, \"Th...|             null|2022|\n",
      "|   physics|[{Alain, 1012, \"f...|             null|2022|\n",
      "+----------+--------------------+-----------------+----+\n",
      "\n"
     ]
    }
   ],
   "source": [
    "df_deduped_2.show()"
   ]
  },
  {
   "cell_type": "markdown",
   "id": "aa94c29f-1547-46a6-ab21-1c3f7fbd2f9d",
   "metadata": {},
   "source": [
    "## Sort Dataframe using orderBy function"
   ]
  },
  {
   "cell_type": "code",
   "execution_count": 24,
   "id": "4711852f-e6d1-45e5-8a1b-c0808c6e5095",
   "metadata": {},
   "outputs": [
    {
     "name": "stdout",
     "output_type": "stream",
     "text": [
      "+----------+--------------------+-----------------+----+\n",
      "|  category|           laureates|overallMotivation|year|\n",
      "+----------+--------------------+-----------------+----+\n",
      "| chemistry|[{Jacobus H., 160...|             null|1901|\n",
      "|literature|[{Sully, 569, \"in...|             null|1901|\n",
      "|     peace|[{Henry, 462, \"fo...|             null|1901|\n",
      "|   physics|[{Wilhelm Conrad,...|             null|1901|\n",
      "|  medicine|[{Emil, 293, \"for...|             null|1901|\n",
      "| chemistry|[{Emil, 161, \"in ...|             null|1902|\n",
      "|literature|[{Theodor, 571, \"...|             null|1902|\n",
      "|     peace|[{Élie, 464, \"for...|             null|1902|\n",
      "|   physics|[{Hendrik A., 2, ...|             null|1902|\n",
      "|  medicine|[{Ronald, 294, \"f...|             null|1902|\n",
      "|literature|[{Bjørnstjerne, 5...|             null|1903|\n",
      "| chemistry|[{Svante, 162, \"i...|             null|1903|\n",
      "|     peace|[{Randal, 466, \"f...|             null|1903|\n",
      "|   physics|[{Henri, 4, \"in r...|             null|1903|\n",
      "|  medicine|[{Niels Ryberg, 2...|             null|1903|\n",
      "| chemistry|[{Sir William, 16...|             null|1904|\n",
      "|literature|[{Frédéric, 573, ...|             null|1904|\n",
      "|     peace|[{Institute of In...|             null|1904|\n",
      "|   physics|[{Lord, 8, \"for h...|             null|1904|\n",
      "|  medicine|[{Ivan, 296, \"in ...|             null|1904|\n",
      "+----------+--------------------+-----------------+----+\n",
      "only showing top 20 rows\n",
      "\n"
     ]
    }
   ],
   "source": [
    "df_sorted = df.orderBy(\"year\")\n",
    "\n",
    "df_sorted.show()"
   ]
  },
  {
   "cell_type": "markdown",
   "id": "d290b641-8958-4162-9422-254895b75a38",
   "metadata": {},
   "source": [
    "### Sort by Multiple columns"
   ]
  },
  {
   "cell_type": "code",
   "execution_count": 25,
   "id": "7995e7c2-de0f-443b-acdf-73eb1937a1b3",
   "metadata": {},
   "outputs": [
    {
     "name": "stdout",
     "output_type": "stream",
     "text": [
      "+----------+--------------------+--------------------+----+\n",
      "|  category|           laureates|   overallMotivation|year|\n",
      "+----------+--------------------+--------------------+----+\n",
      "| chemistry|[{Carolyn, 1015, ...|                null|2022|\n",
      "| economics|[{Ben, 1021, \"for...|                null|2022|\n",
      "|literature|[{Annie, 1017, \"f...|                null|2022|\n",
      "|  medicine|[{Svante, 1011, \"...|                null|2022|\n",
      "|     peace|[{Ales, 1018, \"Th...|                null|2022|\n",
      "|   physics|[{Alain, 1012, \"f...|                null|2022|\n",
      "| chemistry|[{Benjamin, 1002,...|                null|2021|\n",
      "| economics|[{David, 1007, \"f...|                null|2021|\n",
      "|literature|[{Abdulrazak, 100...|                null|2021|\n",
      "|  medicine|[{David, 997, \"fo...|                null|2021|\n",
      "|     peace|[{Maria, 1005, \"f...|                null|2021|\n",
      "|   physics|[{Syukuro, 999, \"...|\"for groundbreaki...|2021|\n",
      "| chemistry|[{Emmanuelle, 991...|                null|2020|\n",
      "| economics|[{Paul, 995, \"for...|                null|2020|\n",
      "|literature|[{Louise, 993, \"f...|                null|2020|\n",
      "|  medicine|[{Harvey, 985, \"f...|                null|2020|\n",
      "|     peace|[{World Food Prog...|                null|2020|\n",
      "|   physics|[{Roger, 988, \"fo...|                null|2020|\n",
      "| chemistry|[{John, 976, \"for...|                null|2019|\n",
      "| economics|[{Abhijit, 982, \"...|                null|2019|\n",
      "+----------+--------------------+--------------------+----+\n",
      "only showing top 20 rows\n",
      "\n"
     ]
    }
   ],
   "source": [
    "df_sorted = df.orderBy([\"year\", \"category\"], ascending = [False, True])\n",
    "\n",
    "df_sorted.show()"
   ]
  },
  {
   "cell_type": "markdown",
   "id": "1531260d-d8e6-4bb6-b3e7-b3af5ddab6e0",
   "metadata": {},
   "source": [
    "## Using sort function"
   ]
  },
  {
   "cell_type": "code",
   "execution_count": 26,
   "id": "0578fede-9b3d-4d83-bf86-3f28b08ba4ff",
   "metadata": {},
   "outputs": [
    {
     "name": "stdout",
     "output_type": "stream",
     "text": [
      "+----------+--------------------+-----------------+----+\n",
      "|  category|           laureates|overallMotivation|year|\n",
      "+----------+--------------------+-----------------+----+\n",
      "|   physics|[{Wilhelm Conrad,...|             null|1901|\n",
      "|     peace|[{Henry, 462, \"fo...|             null|1901|\n",
      "|  medicine|[{Emil, 293, \"for...|             null|1901|\n",
      "|literature|[{Sully, 569, \"in...|             null|1901|\n",
      "| chemistry|[{Jacobus H., 160...|             null|1901|\n",
      "|   physics|[{Hendrik A., 2, ...|             null|1902|\n",
      "|     peace|[{Élie, 464, \"for...|             null|1902|\n",
      "|  medicine|[{Ronald, 294, \"f...|             null|1902|\n",
      "|literature|[{Theodor, 571, \"...|             null|1902|\n",
      "| chemistry|[{Emil, 161, \"in ...|             null|1902|\n",
      "|   physics|[{Henri, 4, \"in r...|             null|1903|\n",
      "|     peace|[{Randal, 466, \"f...|             null|1903|\n",
      "|  medicine|[{Niels Ryberg, 2...|             null|1903|\n",
      "|literature|[{Bjørnstjerne, 5...|             null|1903|\n",
      "| chemistry|[{Svante, 162, \"i...|             null|1903|\n",
      "|   physics|[{Lord, 8, \"for h...|             null|1904|\n",
      "|     peace|[{Institute of In...|             null|1904|\n",
      "|  medicine|[{Ivan, 296, \"in ...|             null|1904|\n",
      "|literature|[{Frédéric, 573, ...|             null|1904|\n",
      "| chemistry|[{Sir William, 16...|             null|1904|\n",
      "+----------+--------------------+-----------------+----+\n",
      "only showing top 20 rows\n",
      "\n"
     ]
    }
   ],
   "source": [
    "df_sorted = df.sort(['year', 'category'], ascending = [True,False])\n",
    "\n",
    "df_sorted.show()"
   ]
  },
  {
   "cell_type": "markdown",
   "id": "0f0c27c7-df3e-4182-92db-3d77bff64406",
   "metadata": {},
   "source": [
    "## Rename columns"
   ]
  },
  {
   "cell_type": "code",
   "execution_count": 27,
   "id": "5cdf5355-0f90-4976-bfb7-21d77edf64d4",
   "metadata": {},
   "outputs": [
    {
     "name": "stdout",
     "output_type": "stream",
     "text": [
      "+----------+--------------------+--------------------+----+\n",
      "|     Topic|           laureates|   overallMotivation|year|\n",
      "+----------+--------------------+--------------------+----+\n",
      "| chemistry|[{Carolyn, 1015, ...|                null|2022|\n",
      "| economics|[{Ben, 1021, \"for...|                null|2022|\n",
      "|literature|[{Annie, 1017, \"f...|                null|2022|\n",
      "|     peace|[{Ales, 1018, \"Th...|                null|2022|\n",
      "|   physics|[{Alain, 1012, \"f...|                null|2022|\n",
      "|  medicine|[{Svante, 1011, \"...|                null|2022|\n",
      "| chemistry|[{Benjamin, 1002,...|                null|2021|\n",
      "| economics|[{David, 1007, \"f...|                null|2021|\n",
      "|literature|[{Abdulrazak, 100...|                null|2021|\n",
      "|     peace|[{Maria, 1005, \"f...|                null|2021|\n",
      "|   physics|[{Syukuro, 999, \"...|\"for groundbreaki...|2021|\n",
      "|  medicine|[{David, 997, \"fo...|                null|2021|\n",
      "| chemistry|[{Emmanuelle, 991...|                null|2020|\n",
      "| economics|[{Paul, 995, \"for...|                null|2020|\n",
      "|literature|[{Louise, 993, \"f...|                null|2020|\n",
      "|     peace|[{World Food Prog...|                null|2020|\n",
      "|   physics|[{Roger, 988, \"fo...|                null|2020|\n",
      "|  medicine|[{Harvey, 985, \"f...|                null|2020|\n",
      "| chemistry|[{John, 976, \"for...|                null|2019|\n",
      "| economics|[{Abhijit, 982, \"...|                null|2019|\n",
      "+----------+--------------------+--------------------+----+\n",
      "only showing top 20 rows\n",
      "\n"
     ]
    }
   ],
   "source": [
    "df_renamed = df.withColumnRenamed(\"category\", \"Topic\")\n",
    "\n",
    "df_renamed.show()"
   ]
  },
  {
   "cell_type": "markdown",
   "id": "f741e4e7-aacd-45b3-a33a-a7d8da725bd3",
   "metadata": {},
   "source": [
    "## Rename multiple columns at once"
   ]
  },
  {
   "cell_type": "code",
   "execution_count": 28,
   "id": "637d48f5-706c-4983-a744-b367a682862a",
   "metadata": {},
   "outputs": [
    {
     "name": "stdout",
     "output_type": "stream",
     "text": [
      "+----------+-------------+--------------------+\n",
      "|     Topic|Year_received|          Motivation|\n",
      "+----------+-------------+--------------------+\n",
      "| chemistry|         2022|                null|\n",
      "| economics|         2022|                null|\n",
      "|literature|         2022|                null|\n",
      "|     peace|         2022|                null|\n",
      "|   physics|         2022|                null|\n",
      "|  medicine|         2022|                null|\n",
      "| chemistry|         2021|                null|\n",
      "| economics|         2021|                null|\n",
      "|literature|         2021|                null|\n",
      "|     peace|         2021|                null|\n",
      "|   physics|         2021|\"for groundbreaki...|\n",
      "|  medicine|         2021|                null|\n",
      "| chemistry|         2020|                null|\n",
      "| economics|         2020|                null|\n",
      "|literature|         2020|                null|\n",
      "|     peace|         2020|                null|\n",
      "|   physics|         2020|                null|\n",
      "|  medicine|         2020|                null|\n",
      "| chemistry|         2019|                null|\n",
      "| economics|         2019|                null|\n",
      "+----------+-------------+--------------------+\n",
      "only showing top 20 rows\n",
      "\n"
     ]
    }
   ],
   "source": [
    "df_renamed  = (df.selectExpr(\"category as Topic\", \n",
    "                             \"year as Year_received\",\n",
    "                             \"overallMotivation as Motivation\"))\n",
    "\n",
    "df_renamed.show()"
   ]
  },
  {
   "cell_type": "code",
   "execution_count": 29,
   "id": "7be5906b-603b-4c15-82ae-2161a4080d71",
   "metadata": {},
   "outputs": [],
   "source": [
    "spark.stop()"
   ]
  },
  {
   "cell_type": "code",
   "execution_count": null,
   "id": "da4661b4-acf9-4add-aba4-cd4ceed4268b",
   "metadata": {},
   "outputs": [],
   "source": []
  }
 ],
 "metadata": {
  "kernelspec": {
   "display_name": "Python 3 (ipykernel)",
   "language": "python",
   "name": "python3"
  },
  "language_info": {
   "codemirror_mode": {
    "name": "ipython",
    "version": 3
   },
   "file_extension": ".py",
   "mimetype": "text/x-python",
   "name": "python",
   "nbconvert_exporter": "python",
   "pygments_lexer": "ipython3",
   "version": "3.10.12"
  }
 },
 "nbformat": 4,
 "nbformat_minor": 5
}
