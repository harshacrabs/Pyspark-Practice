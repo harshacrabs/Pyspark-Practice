{
 "cells": [
  {
   "cell_type": "markdown",
   "id": "5c735af0-53dd-419f-970a-7c6a9e59d958",
   "metadata": {},
   "source": [
    "## Import libraries"
   ]
  },
  {
   "cell_type": "code",
   "execution_count": 1,
   "id": "00c52307-4503-4734-8a2f-049e8e44350d",
   "metadata": {},
   "outputs": [],
   "source": [
    "from pyspark.sql import SparkSession\n",
    "from pyspark.sql.functions import array_contains, col, explode"
   ]
  },
  {
   "cell_type": "markdown",
   "id": "09b37dba-aa0f-49cf-b158-1fead15ba90d",
   "metadata": {},
   "source": [
    "## Build Spark Session object"
   ]
  },
  {
   "cell_type": "code",
   "execution_count": 2,
   "id": "c619ee74-a6b3-4621-b3be-4f0be7855ee4",
   "metadata": {},
   "outputs": [
    {
     "name": "stderr",
     "output_type": "stream",
     "text": [
      "Setting default log level to \"WARN\".\n",
      "To adjust logging level use sc.setLogLevel(newLevel). For SparkR, use setLogLevel(newLevel).\n",
      "25/04/05 14:37:03 WARN NativeCodeLoader: Unable to load native-hadoop library for your platform... using builtin-java classes where applicable\n"
     ]
    }
   ],
   "source": [
    "spark = (SparkSession.builder\n",
    "         .appName(\"filter-data\")\n",
    "         .master(\"spark://spark-master:7077\")\n",
    "         .config(\"spark.executor.memory\", \"512m\")\n",
    "         .getOrCreate())\n",
    "\n",
    "spark.sparkContext.setLogLevel(\"ERROR\")\n",
    "\n"
   ]
  },
  {
   "cell_type": "markdown",
   "id": "3be759ec-26f1-4aed-92b0-a832de37eeae",
   "metadata": {},
   "source": [
    "## Read the data"
   ]
  },
  {
   "cell_type": "code",
   "execution_count": 3,
   "id": "34e7b812-ca55-486a-a4ed-33b4c8f6fde8",
   "metadata": {},
   "outputs": [],
   "source": [
    "df = (spark.read.format(\"csv\")\n",
    "      .option(\"header\", \"true\")\n",
    "      .option(\"nullValue\", \"null\")\n",
    "      .option(\"dateFormat\", \"LLLL d, y\")\n",
    "      .load(\"../../data/netflix_titles.csv\"))\n"
   ]
  },
  {
   "cell_type": "code",
   "execution_count": 4,
   "id": "46cef036-c1e6-4369-bfa7-9e182176eb55",
   "metadata": {},
   "outputs": [
    {
     "name": "stdout",
     "output_type": "stream",
     "text": [
      "root\n",
      " |-- show_id: string (nullable = true)\n",
      " |-- type: string (nullable = true)\n",
      " |-- title: string (nullable = true)\n",
      " |-- director: string (nullable = true)\n",
      " |-- cast: string (nullable = true)\n",
      " |-- country: string (nullable = true)\n",
      " |-- date_added: string (nullable = true)\n",
      " |-- release_year: string (nullable = true)\n",
      " |-- rating: string (nullable = true)\n",
      " |-- duration: string (nullable = true)\n",
      " |-- listed_in: string (nullable = true)\n",
      " |-- description: string (nullable = true)\n",
      "\n"
     ]
    }
   ],
   "source": [
    "df.printSchema()"
   ]
  },
  {
   "cell_type": "code",
   "execution_count": 9,
   "id": "bffd0fb6-ac09-4c58-b41a-9b875747730e",
   "metadata": {},
   "outputs": [
    {
     "name": "stdout",
     "output_type": "stream",
     "text": [
      "+-------+-------+---------------------+---------------+---------------------------------------------------------------------------------------------------------------------------------------------------------------------------------------------------------------------------------------------------------------------------------------------------------------+-------------+------------------+------------+------+---------+-------------------------------------------------------------+--------------------------------------------------------------------------------------------------------------------------------------------------------+\n",
      "|show_id|type   |title                |director       |cast                                                                                                                                                                                                                                                                                                           |country      |date_added        |release_year|rating|duration |listed_in                                                    |description                                                                                                                                             |\n",
      "+-------+-------+---------------------+---------------+---------------------------------------------------------------------------------------------------------------------------------------------------------------------------------------------------------------------------------------------------------------------------------------------------------------+-------------+------------------+------------+------+---------+-------------------------------------------------------------+--------------------------------------------------------------------------------------------------------------------------------------------------------+\n",
      "|s1     |Movie  |Dick Johnson Is Dead |Kirsten Johnson|null                                                                                                                                                                                                                                                                                                           |United States|September 25, 2021|2020        |PG-13 |90 min   |Documentaries                                                |As her father nears the end of his life, filmmaker Kirsten Johnson stages his death in inventive and comical ways to help them both face the inevitable.|\n",
      "|s2     |TV Show|Blood & Water        |null           |Ama Qamata, Khosi Ngema, Gail Mabalane, Thabang Molaba, Dillon Windvogel, Natasha Thahane, Arno Greeff, Xolile Tshabalala, Getmore Sithole, Cindy Mahlangu, Ryle De Morny, Greteli Fincham, Sello Maake Ka-Ncube, Odwa Gwanya, Mekaila Mathys, Sandi Schultz, Duane Williams, Shamilla Miller, Patrick Mofokeng|South Africa |September 24, 2021|2021        |TV-MA |2 Seasons|International TV Shows, TV Dramas, TV Mysteries              |After crossing paths at a party, a Cape Town teen sets out to prove whether a private-school swimming star is her sister who was abducted at birth.     |\n",
      "|s3     |TV Show|Ganglands            |Julien Leclercq|Sami Bouajila, Tracy Gotoas, Samuel Jouy, Nabiha Akkari, Sofia Lesaffre, Salim Kechiouche, Noureddine Farihi, Geert Van Rampelberg, Bakary Diombera                                                                                                                                                            |null         |September 24, 2021|2021        |TV-MA |1 Season |Crime TV Shows, International TV Shows, TV Action & Adventure|To protect his family from a powerful drug lord, skilled thief Mehdi and his expert team of robbers are pulled into a violent and deadly turf war.      |\n",
      "|s4     |TV Show|Jailbirds New Orleans|null           |null                                                                                                                                                                                                                                                                                                           |null         |September 24, 2021|2021        |TV-MA |1 Season |Docuseries, Reality TV                                       |Feuds, flirtations and toilet talk go down among the incarcerated women at the Orleans Justice Center in New Orleans on this gritty reality series.     |\n",
      "|s5     |TV Show|Kota Factory         |null           |Mayur More, Jitendra Kumar, Ranjan Raj, Alam Khan, Ahsaas Channa, Revathi Pillai, Urvi Singh, Arun Kumar                                                                                                                                                                                                       |India        |September 24, 2021|2021        |TV-MA |2 Seasons|International TV Shows, Romantic TV Shows, TV Comedies       |In a city of coaching centers known to train India’s finest collegiate minds, an earnest but unexceptional student and his friends navigate campus life.|\n",
      "+-------+-------+---------------------+---------------+---------------------------------------------------------------------------------------------------------------------------------------------------------------------------------------------------------------------------------------------------------------------------------------------------------------+-------------+------------------+------------+------+---------+-------------------------------------------------------------+--------------------------------------------------------------------------------------------------------------------------------------------------------+\n",
      "only showing top 5 rows\n",
      "\n"
     ]
    }
   ],
   "source": [
    "df.show(5,truncate=False)"
   ]
  },
  {
   "cell_type": "markdown",
   "id": "84dab46f-0703-4ab9-9f54-95ed1f156857",
   "metadata": {},
   "source": [
    "## Get the unique values in the column \"year\""
   ]
  },
  {
   "cell_type": "code",
   "execution_count": 10,
   "id": "f1c7ef8c-b707-4d84-bd9d-a1fb2fe8ff24",
   "metadata": {},
   "outputs": [
    {
     "name": "stdout",
     "output_type": "stream",
     "text": [
      "+-----------------+\n",
      "|     release_year|\n",
      "+-----------------+\n",
      "|     Ted Ferguson|\n",
      "|             1987|\n",
      "|             1956|\n",
      "|             2016|\n",
      "|             2020|\n",
      "|             2012|\n",
      "|             1958|\n",
      "|             1943|\n",
      "|             1972|\n",
      "| Marquell Manning|\n",
      "|             1988|\n",
      "|             2019|\n",
      "|             2017|\n",
      "|             1977|\n",
      "|             2014|\n",
      "|             1971|\n",
      "|             1984|\n",
      "|             2013|\n",
      "|             1982|\n",
      "|             2005|\n",
      "+-----------------+\n",
      "only showing top 20 rows\n",
      "\n"
     ]
    }
   ],
   "source": [
    "df.select(\"release_year\").distinct().show()"
   ]
  },
  {
   "cell_type": "markdown",
   "id": "8de1bae2-c8e0-4f79-9e1e-422653a838c4",
   "metadata": {},
   "source": [
    "## Print unique values as a list"
   ]
  },
  {
   "cell_type": "code",
   "execution_count": 12,
   "id": "9c26ea07-cb10-4972-9da4-727758c7c33d",
   "metadata": {},
   "outputs": [
    {
     "name": "stdout",
     "output_type": "stream",
     "text": [
      "[' Ted Ferguson', '1987', '1956', '2016', '2020', '2012', '1958', '1943', '1972', ' Marquell Manning', '1988', '2019', '2017', '1977', '2014', '1971', '1984', '2013', '1982', '2005', '2000', '1965', '1962', '1954', ' Charles Rocket', 'December 15, 2020', '1981', ' Peter Ferriero', '1978', '1974', '2002', '1959', ' Paul Sambo', '2018', '2009', 'United States', '1995', '1964', ' Dr. Dre', '1946', '2006', ' Nick Kroll', '1976', ' Imanol Arias', '1942', '1947', '1967', '1968', '2004', 'January 15, 2021', '2011', '1989', '1992', '1961', '1966', '2008', 'January 13, 2021', '1955', '1999', '1963', '1994', '1997', '1973', '1925', '2007', ' Kristen Johnston', '1996', 'June 12, 2021', '1983', ' Álvaro Cervantes', ' Nse Ikpe-Etim', '1969', ' Jade Eshete', '1980', '1944', '1960', '2021', ' Francis Weddey', '1986', '1985', 'August 13, 2020', '1979', '2015', '1998', '1993', '2001', '2010', '1990', '2003', '1991', '1945', '1975', '1970']\n"
     ]
    }
   ],
   "source": [
    "unique_values = [row[\"release_year\"] for row in df.select(\"release_year\").distinct().collect()]\n",
    "print(unique_values)"
   ]
  },
  {
   "cell_type": "markdown",
   "id": "7fa10175-b78f-4b19-90d2-b1ff3a55cae0",
   "metadata": {},
   "source": [
    "## Removing the non-years from the year column"
   ]
  },
  {
   "cell_type": "code",
   "execution_count": 13,
   "id": "5b2fe227-bc86-406f-8dff-6979ea6a2ced",
   "metadata": {},
   "outputs": [],
   "source": [
    "from pyspark.sql.functions import col, trim"
   ]
  },
  {
   "cell_type": "code",
   "execution_count": 14,
   "id": "17cc7fca-581f-4336-af6a-02b6838bcd06",
   "metadata": {},
   "outputs": [],
   "source": [
    "df_years_only = df.filter(trim(col(\"release_year\")).rlike(\"^[0-9]{4}$\"))\n",
    "\n"
   ]
  },
  {
   "cell_type": "code",
   "execution_count": 16,
   "id": "913a9409-3e97-4fc5-9272-9473aa529fa1",
   "metadata": {},
   "outputs": [
    {
     "name": "stdout",
     "output_type": "stream",
     "text": [
      "+------------+\n",
      "|release_year|\n",
      "+------------+\n",
      "|        2020|\n",
      "|        2021|\n",
      "|        2021|\n",
      "|        2021|\n",
      "|        2021|\n",
      "|        2021|\n",
      "|        2021|\n",
      "|        1993|\n",
      "|        2021|\n",
      "|        2021|\n",
      "|        2021|\n",
      "|        2021|\n",
      "|        2021|\n",
      "|        2021|\n",
      "|        2021|\n",
      "|        2021|\n",
      "|        2020|\n",
      "|        2020|\n",
      "|        2021|\n",
      "|        2021|\n",
      "+------------+\n",
      "only showing top 20 rows\n",
      "\n"
     ]
    }
   ],
   "source": [
    "df_years_only.select(\"release_year\").show()"
   ]
  },
  {
   "cell_type": "markdown",
   "id": "37138685-71c9-4b0c-a134-4c5941c7d896",
   "metadata": {},
   "source": [
    "## Filter the dataframe"
   ]
  },
  {
   "cell_type": "code",
   "execution_count": 19,
   "id": "8798b987-6e01-4a7a-b811-470e9a86d747",
   "metadata": {},
   "outputs": [
    {
     "name": "stdout",
     "output_type": "stream",
     "text": [
      "+------------+\n",
      "|release_year|\n",
      "+------------+\n",
      "|        2021|\n",
      "|        2021|\n",
      "|        2021|\n",
      "|        2021|\n",
      "|        2021|\n",
      "|        2021|\n",
      "|        2021|\n",
      "|        2021|\n",
      "|        2021|\n",
      "|        2021|\n",
      "|        2021|\n",
      "|        2021|\n",
      "|        2021|\n",
      "|        2021|\n",
      "|        2021|\n",
      "|        2021|\n",
      "|        2021|\n",
      "|        2021|\n",
      "|        2021|\n",
      "|        2021|\n",
      "+------------+\n",
      "only showing top 20 rows\n",
      "\n"
     ]
    }
   ],
   "source": [
    "filtered_df = df_years_only.filter(col(\"release_year\") > 2020)\n",
    "\n",
    "filtered_df.select(\"release_year\").show()"
   ]
  },
  {
   "cell_type": "markdown",
   "id": "33ff702c-b692-4acc-b7cc-434654a41a8d",
   "metadata": {},
   "source": [
    "## Chaining multiple conditions"
   ]
  },
  {
   "cell_type": "markdown",
   "id": "05e36296-acfd-4965-ab5d-d61b61715438",
   "metadata": {},
   "source": [
    "df_filtered = df.filter(\n",
    "    (trim(col(\"your_column\")).rlike(\"^[0-9]{4}$\")) & \n",
    "    (trim(col(\"your_column\")).cast(\"int\") > 2020)\n",
    ")"
   ]
  },
  {
   "cell_type": "markdown",
   "id": "51a724e1-e30e-4575-94d5-9e60dd29c7f1",
   "metadata": {},
   "source": [
    "## Filtering with multiple conditions"
   ]
  },
  {
   "cell_type": "code",
   "execution_count": 23,
   "id": "692a8c9c-7dc5-41ad-b5a9-4515b407a63a",
   "metadata": {},
   "outputs": [
    {
     "name": "stdout",
     "output_type": "stream",
     "text": [
      "['Peru, United States, United Kingdom', 'India, United Kingdom, France, Qatar', 'Japan, Canada, United States', 'United Kingdom, China', 'India, Germany', 'South Africa, United States, Germany', 'Russia', 'United Kingdom, Germany, United States, France', 'Chile, United States, France', 'South Africa, Angola', 'United States, Poland', 'Philippines, Qatar', 'Hong Kong, China, Singapore', 'Germany, Sri Lanka', 'Denmark, France, United States, Sweden', 'United States, France, South Korea, Indonesia', 'United Kingdom, Nigeria', 'Australia, United Arab Emirates', 'Brazil, France, Germany', 'United States, Ireland', 'United States, Greece', 'United States, France, Italy, United Kingdom', 'France, Iran, United States', 'India, Soviet Union', 'United States, Germany, Australia', 'Brazil, United States', 'United Kingdom, India, United States', 'France, United States', 'Turkey, United States', 'Senegal', 'United Kingdom, Canada, United States, Germany', 'Ireland, United Kingdom, Italy, United States', 'Sweden', 'United Kingdom, Germany, United Arab Emirates, New Zealand', 'Taiwan, China', 'Denmark, China', 'Italy, United Kingdom, France', 'United Kingdom, France, Belgium, Canada, United States', 'United Kingdom, West Germany', 'South Korea, Czech Republic', 'Turkey, India', 'Spain, United Kingdom', 'France, United States, United Kingdom, Canada', 'China, Japan', 'France, Belgium', 'Philippines', 'Syria, France, Lebanon, Qatar', 'United States, Russia', 'Saudi Arabia, United Arab Emirates', 'United States, Brazil, South Korea, Mexico, Japan, Germany', 'United States, Australia, China', ' Aziz Ansari', 'China, Canada, United States', 'Malaysia', 'Singapore', 'China, United States', 'Argentina, Brazil, France, Poland, Germany, Denmark', 'United States, Nicaragua', 'United States, United Kingdom, New Zealand', 'France, Qatar', 'Portugal, France, Poland, United States', 'United Kingdom, Lithuania', 'Turkey', 'Hong Kong, Iceland, United States', 'Finland, France', 'Uruguay, Argentina', 'China, United States, Canada', 'Indonesia, United Kingdom', 'Canada, Australia', 'Denmark, Brazil, France, Portugal, Sweden', 'France, Luxembourg, Canada', 'United Kingdom, Spain, United States, Germany', 'Lebanon, Qatar', 'Canada, United States, France', 'United Kingdom, Germany, France, United States', 'United States, France, Serbia', 'France, Belgium, Spain', 'Switzerland, France', 'United States, Norway, Canada', 'United Kingdom, France, Belgium, United States', 'United States, United Kingdom, Canada, Japan', 'United States, Ireland, United Kingdom, India', 'United States, China, Colombia', 'Italy, Turkey', 'Brazil, United Kingdom', 'Denmark, Spain', 'Colombia, Mexico, United States', 'United Kingdom, United States, Czech Republic', 'Germany', 'United States, Italy', 'Mexico, Finland', 'Australia, Armenia, Japan, Jordan, Mexico, Mongolia, New Zealand, Philippines, South Africa, Sweden, United States, Uruguay', 'United Kingdom, Poland, United States', 'Cambodia, United States', 'Israel, Sweden, Germany, Netherlands', 'China, Hong Kong, United States', ' Tobechukwu \"\"iLLbliss\"\" Ejiofor', 'Spain, Germany, Denmark, United States', 'United States, Taiwan', 'Cambodia', 'Denmark, France, Poland', 'Jordan', 'United Kingdom, Italy, Israel, Peru, United States', 'France, South Korea, Japan', 'United Kingdom, United States, Spain, Germany, Greece, Canada', 'Russia, United States, China', 'Spain, France, United Kingdom, United States', 'United States, Brazil, India, Uganda, China', 'Lebanon, France', 'United States, Mexico, Colombia', 'Australia, United Kingdom, United Arab Emirates, Canada', 'United States, Sweden, Norway', 'France', 'China, Hong Kong', 'France, Canada', 'Chile, Argentina', 'United Arab Emirates, United Kingdom, India', 'Ireland, United Kingdom, United States', 'Czech Republic, France', 'Ireland, Canada', 'Netherlands, United States', 'Spain, Cuba', 'France, Canada, United States', 'Argentina, Spain', 'India, France', 'France, Australia, Germany', 'Saudi Arabia, Netherlands, Germany, Jordan, United Arab Emirates, United States', 'United States,', 'United Kingdom, United States, France, Germany', 'United Kingdom, Denmark, Canada, Croatia', 'United States, Czech Republic, United Kingdom', 'United Kingdom, Japan, United States', 'United States, Cambodia, Romania', 'United States, South Korea, Japan', 'Israel, Germany, Poland, Luxembourg, Belgium, France, United States', 'New Zealand, United States', 'Switzerland, France, Belgium, United States', 'United Kingdom, Canada', 'Italy, United States, Argentina', 'United States, Spain, Germany', 'France, Belgium, China, United States', ' Sophia Loren\"', ' Henri-Noël Tabary\"', 'Brazil, India, China, United States', 'Uruguay, Germany', 'United States, United Kingdom, Germany', 'Germany, France, Luxembourg, United Kingdom, United States', 'China, Morocco, Hong Kong', 'France, Netherlands, South Africa, Finland', 'Taiwan', 'Japan, United States', 'United Kingdom, France, Poland, Germany, United States', 'Serbia, United States', 'United Kingdom, Japan', 'France, Luxembourg, United States', 'United States, Canada, France', 'United States, India', 'United Kingdom, France, Germany, United States', 'Belgium, United Kingdom', 'Ireland, United Kingdom, France, Germany', 'United Kingdom, Finland, Germany, United States, Australia, Japan, France, Ireland', 'United Kingdom, France, United States, Belgium', 'South Korea, Japan', 'United States, Greece, United Kingdom', 'United Kingdom, Spain', 'United Kingdom, Ireland, United States', 'Australia, Iraq', None, 'Canada, Luxembourg', 'United States, Australia, Samoa, United Kingdom', 'United States, East Germany, West Germany', 'Ireland, France, Iceland, United States, Mexico, Belgium, United Kingdom, Hong Kong', 'Hong Kong, China', 'United Kingdom, Thailand', 'Canada, India, Thailand, United States, United Arab Emirates', 'Argentina', 'Mexico, United States', 'Puerto Rico, United States, Colombia', 'Italy, Germany', 'United States, Uruguay', 'United States, Germany, United Kingdom, Italy', 'Belgium', 'Colombia, Peru, United Kingdom', 'Belgium, United Kingdom, United States', 'Argentina, Uruguay, Spain, France', 'Spain, Germany', 'Canada, France', 'United Arab Emirates, Jordan', 'United Kingdom, Germany, Spain, United States', 'Canada, United States, Denmark', 'Poland, United States', 'Mexico, United States, Spain, Colombia', 'United States, United Kingdom, Spain, South Korea', 'Spain, France, Uruguay', 'United States, Germany', 'Canada, South Korea, United States', 'Romania, United States', 'Kenya, United States', 'United States, Japan, Canada', 'United Kingdom, New Zealand', 'United States, Nigeria', 'United Kingdom, United States, Japan', 'United Kingdom, Czech Republic, Germany, United States', 'United States, United Kingdom, Denmark, Sweden', 'United Kingdom, India, Sweden', 'United States, Thailand', 'United Kingdom, Ireland', 'France, United Kingdom, United States', 'United Kingdom, United States, France, Italy', 'United Kingdom, Kenya', 'Finland', 'Netherlands, Germany, Denmark, United Kingdom', ' Rob Morgan', 'Turkey, South Korea', 'United States, Brazil', 'Argentina, Chile, Peru', 'Hong Kong, Canada, United States', 'United States, France, United Kingdom, Japan', 'Venezuela, Colombia', 'Czech Republic, United Kingdom, France', 'Ghana', 'France, Belgium, United States', 'Chile, France', 'Denmark, United Kingdom, South Africa, Sweden, Belgium', 'Egypt, Austria, United States', 'United States, India, France', 'France, South Korea, Japan, United States', 'Peru', 'Spain, Switzerland', 'United States, Australia, Mexico', 'South Korea, France', 'United States', 'India', 'China', 'Egypt, Algeria', 'United Kingdom, France, Belgium, Ireland, United States', 'France, Canada, China, Cambodia', 'Belarus', 'United States, Canada, Indonesia, United Kingdom, China, Singapore', 'United Kingdom, United States, Dominican Republic', 'United States, Australia, South Africa, United Kingdom', 'United States, Czech Republic', 'Germany, France', 'Chile, Brazil', 'Finland, Sweden, Norway, Latvia, Germany', 'United Kingdom, Spain, Belgium', 'United States, Japan', 'Kuwait', 'Spain, France, Canada, United States', 'South Korea, United States', 'Ireland, Canada, United Kingdom, United States', 'Canada, France, United States', 'United States, France', 'Germany, Australia, France, China', 'Ireland, United Kingdom, Greece, France, Netherlands', ', South Korea', 'Thailand, United States', 'Singapore, United States', 'Canada, India', 'Norway, Sweden', 'United Kingdom, France', 'India, Germany, Austria', 'United Kingdom, United States', 'France, Norway, Lebanon, Belgium', 'South Africa, China, United States', 'Chile', 'Netherlands, Belgium', 'Turkey, France, Germany, Poland', 'Norway, Germany', 'Germany, United States, Hong Kong, Singapore', 'United States, Chile', 'United States, United Arab Emirates', 'United States, United Kingdom, Morocco', 'Finland, Germany, Belgium', 'Pakistan, United Arab Emirates', 'United States, Australia', 'Canada, Nigeria', ' Ama K. Abebrese', 'Germany, Italy', 'United States, Hungary, Ireland, Canada', 'United States, Italy, United Kingdom, Liechtenstein', 'Poland,', 'United Kingdom, Germany, United States', 'Uruguay, Guatemala', 'United States, Hong Kong', 'United Kingdom, Canada, Japan', 'France, Egypt', 'Croatia', 'Germany, Jordan, Netherlands', 'Canada, Spain, France', 'Germany, United Kingdom', 'Canada, Spain', 'Switzerland, Vatican City, Italy, Germany, France', 'Jamaica, United States', 'Italy, United Kingdom', 'France, Japan', 'Spain, Colombia', 'Nigeria', 'Philippines, United States', ' Dominic Costa', ' Doug Plaut', 'United States, Hungary', 'Sweden, United Kingdom, Finland', 'Italy', 'Egypt, Saudi Arabia', ' Tantoo Cardinal', 'Brazil, France', 'Mexico, Netherlands', 'United Kingdom, France, Belgium', 'Canada, Belgium', 'Netherlands, Denmark, France, Germany', 'Hong Kong, Taiwan', 'Italy, France, Switzerland', 'Switzerland, United States', 'France, Canada, United States, Spain', 'United Kingdom, Spain, United States', 'United States, Spain', 'Canada, Germany', 'United States, Denmark', 'France, Canada, Belgium', 'Germany, Belgium', 'United Kingdom, Belgium, Sweden', 'United States, South Korea, China', 'Colombia, Mexico', 'Norway, Denmark, Sweden', 'Canada, United States, Germany', 'Norway', 'United States, France, Canada, Belgium', 'Denmark, Sweden, Israel, United States', 'United States, Ghana, Burkina Faso, United Kingdom, Germany, Ethiopia', 'Spain', 'Israel, Germany', 'France, Belgium, Italy', 'Canada, Norway', 'France, Canada, Italy, United States, China', 'Germany, Czech Republic', 'Denmark, Singapore, Canada, United States', 'Spain, France, United States', 'Indonesia, United States', 'Canada, Mexico, Germany, South Africa', 'Ireland, Canada, Luxembourg, United States, United Kingdom, Philippines, India', 'India, United Kingdom', 'Romania, United Kingdom', 'Denmark', 'United States, India, Bangladesh', 'Serbia, South Korea, Slovenia', 'Bangladesh', 'Hungary, United States', 'Argentina, Uruguay, Serbia', 'United Kingdom, South Africa', 'United Kingdom, United States, Canada', 'United States, Germany, United Kingdom, Australia', 'Belgium, Ireland, Netherlands, Germany, Afghanistan', 'Taiwan, Hong Kong, United States, China', 'United States, Canada, Belgium, United Kingdom', 'India, United States', 'Lebanon, Canada, France', 'Thailand, China, United States', 'United States, Israel, United Kingdom, Canada', 'Denmark, United Kingdom, Sweden', 'Germany, United States, Italy', 'Germany, United States, United Kingdom, Canada', 'United Kingdom, Australia, France', ' Remilekun \"\"Reminisce\"\" Safaru', 'United States, United Kingdom, Germany, Hungary', 'United Kingdom, France, United States, Belgium, Luxembourg, China, Germany', 'Indonesia, Singapore', 'Ireland', 'Egypt, Denmark, Germany', 'Hong Kong, China, United States', 'Canada, United States, United Kingdom, France, Luxembourg', 'Chile, Argentina, France, Spain, United States', 'United Kingdom, Russia, United States', 'Spain, Belgium', 'United Kingdom, Germany, Canada', 'Italy, India', 'Thailand', 'Peru, Germany, Norway', 'United States, Sweden', 'Australia, France', 'France, Germany, Switzerland', 'United Arab Emirates, United States, United Kingdom', 'United States, Italy, France, Japan', 'France, Netherlands, Singapore', 'Portugal, Spain', 'France, Malta, United States', 'Germany, France, United States, Canada, United Kingdom', 'Japan, Canada', 'Israel, United States', 'Lebanon, Syria', ' James Toback\"', ' Francesc Orella', 'Hong Kong', 'Bulgaria, United States', 'Pakistan, United States', 'Canada, Japan, United States', ' Lachion Buckingham', 'Ireland, United States', 'Germany, United Kingdom, United States', ' plus Whitney Cummings gives suspect dating advice.\"', 'France, Lebanon, United Kingdom', 'Italy, Switzerland, France, Germany', 'France, United Kingdom, India', 'United Kingdom, Norway, Denmark, Germany, Sweden', 'United Kingdom, South Korea', 'United States, France, Japan', 'United States, Iceland', 'Venezuela', 'United States, Greece, Brazil', 'Ukraine', 'Argentina, Venezuela', 'Israel', 'Iceland', 'Spain, France, Canada', 'West Germany', 'Italy, Canada, France', 'United Kingdom, Australia, Canada, United States', 'France, United Kingdom', 'Ireland, Luxembourg, Belgium', 'United Kingdom, Canada, United States, Cayman Islands', 'India, Germany, France', 'United States, Canada', 'Lebanon, United Arab Emirates, France, Switzerland, Germany', 'France, Senegal, Belgium', 'Saudi Arabia, Syria, Egypt, Lebanon, Kuwait', 'Germany, United States, Canada', 'Lebanon, Palestine, Denmark, Qatar', 'South Korea, Canada, United States, China', 'United States, Italy, Romania, United Kingdom', 'Ireland, United States, United Kingdom', 'Brazil, Netherlands, United States, Colombia, Austria, Germany', 'United States, United Kingdom, Canada', 'New Zealand, Australia, France, United States', 'Belgium, France', 'Spain, Belgium, United States', 'United States, China, Canada', 'Soviet Union, India', 'Australia, France, Ireland', 'South Korea', 'Australia, Germany', 'France, Algeria', 'Singapore, Malaysia', 'Spain, Portugal', 'Mexico, Argentina', 'Somalia, Kenya, Sudan, South Africa, United States', 'United States, China', 'Philippines, Singapore, Indonesia', 'United States, France, Denmark', 'Nigeria, United Kingdom', 'Cyprus', 'Singapore, France', 'United States, France, Mexico', 'Norway, United Kingdom, France, Ireland', 'United Kingdom,', 'United States, Bulgaria', 'Uruguay', 'United Arab Emirates, Jordan, Lebanon, Saudi Arabia', 'France, China, Japan, United States', 'United States, France, Canada, Spain', 'Singapore, Japan, France', 'United States, Kazakhstan', 'United States, New Zealand, United Kingdom', 'Croatia, Slovenia, Serbia, Montenegro', 'Mexico', 'United States, Mexico', 'Spain, Italy', 'Ireland, United Kingdom', 'France, United States, Mexico', 'Netherlands, Belgium, United Kingdom, United States', 'Australia, United Kingdom, United States, New Zealand, Italy, France', ' Leonardo Sbaraglia', 'Romania, France, Switzerland, Germany', 'United Arab Emirates, United States', 'United Kingdom, Russia', 'United States, China, Hong Kong', 'Indonesia, South Korea, Singapore', 'Argentina, Italy', 'United States, Indonesia', 'Zimbabwe', 'Argentina, United States, Mexico', 'Georgia', 'United Kingdom, China, United States', 'Indonesia', 'United Kingdom, Hungary, Australia', 'United Kingdom, South Africa, Australia, United States', 'China, India, Nepal', 'Italy, Brazil, Greece', 'United States, Argentina', 'Australia, New Zealand', 'Ireland, Switzerland, United Kingdom, France, United States', 'Malaysia, Singapore, Hong Kong', 'Argentina, France', 'China, South Korea, United States', 'Norway, Denmark', 'United States, United Kingdom, Japan', 'United Kingdom, India', 'Guatemala', 'United States, Germany, Mexico', 'Spain, United States', 'Australia, United Kingdom', 'Italy, France', 'Norway, Iceland, United States', 'Canada, France, Italy, Morocco, United States', 'United States, India, United Arab Emirates', 'United Kingdom, Belgium', 'United Kingdom, France, Canada, Belgium, United States', 'Taiwan, Malaysia', 'India, Australia', 'United States, France, Canada, Lebanon, Qatar', 'United States, Cambodia', 'Spain, Canada, United States', 'Sweden, United States', 'United States, India, United Kingdom', 'China, Germany, India, United States', 'United Kingdom, France, Germany', 'Thailand, Canada, United States', 'Georgia, Germany, France', 'United States, United Kingdom, Italy', 'Spain, Mexico, France', 'United States, Canada, Germany', 'India, Japan', 'Saudi Arabia', 'Lebanon, United Arab Emirates', 'United States, Belgium, Canada, France', 'Israel, Germany, France', 'Denmark, Zimbabwe', 'Switzerland, United Kingdom, United States', 'Poland, West Germany', 'United States, India, South Korea, China', 'United Kingdom, Pakistan', 'France, New Zealand', 'United Kingdom, Canada, Italy', 'United States, Canada, China', 'Netherlands, Germany, Italy, Canada', 'United Kingdom, Egypt, United States', 'Mexico, Spain', 'United States, Canada, United Kingdom', 'Denmark, Germany, Belgium, United Kingdom, France', 'India, Switzerland', 'Australia, United Kingdom, Canada', 'Namibia', 'India, Turkey', 'Germany, Australia', 'United Kingdom, Canada, France, United States', 'Canada, United States, India, United Kingdom', 'France, Lebanon', 'Romania, Bulgaria, Hungary', 'Switzerland', 'Ghana, United States', 'Chile, Spain, Argentina, Germany', 'United Kingdom, Israel, Russia', 'Canada, United Kingdom', 'United States, Canada, Ireland', 'South Africa, United States', 'Ireland, Canada, United States, United Kingdom', 'Italy, United States', 'Spain, United Kingdom, United States', 'China, United States, Australia', 'France, Switzerland, Spain, United States, United Arab Emirates', 'France, Japan, United States', 'Russia, Poland, Serbia', 'Austria, United States', 'United Arab Emirates', 'China, Taiwan', 'United Kingdom, United States, Australia', 'India, Malaysia', 'Sweden, Netherlands', 'United Kingdom, United States, Ireland', 'Netherlands, Denmark, South Africa', 'United States, Chile, Israel', 'United States, Colombia', 'Indonesia, Netherlands', 'Egypt, France', 'Chile, Peru', 'Argentina, France, United States, Germany, Qatar', 'Germany, United States', 'Canada, Japan, Netherlands', 'Finland, United States', 'United States, Germany, United Kingdom', 'South Africa, United States, Japan', 'Mexico, France, Colombia', 'Spain, Argentina', 'United States, Philippines', 'United Kingdom, Hong Kong', 'United States, Bermuda, Ecuador', 'Canada', 'Colombia, United States', 'Canada, United States, Cayman Islands', 'Canada, United Kingdom, Netherlands', 'Germany, United States, Sweden', 'Germany, Canada, United States', 'United Kingdom, Namibia, South Africa, Zimbabwe, United States', 'Australia, Canada', 'Canada, Brazil', 'France, Israel, Germany, United States, United Kingdom', 'United Kingdom, France, Spain, United States', 'United States, Netherlands, Japan, France', 'Switzerland, United Kingdom, Australia', 'Mozambique', 'Uruguay, Spain, Mexico', 'United States, United Kingdom, Australia', 'Brazil', 'United States, United Kingdom', 'Australia, United States', 'United States, China, United Kingdom', 'Kenya', 'Iceland, Sweden, Belgium', 'United States, Israel, Italy, South Africa', 'France, Germany, Czech Republic, Belgium', 'Kuwait, United States', 'Lebanon', 'Canada, United States, United Kingdom', 'Germany, France, Russia', 'United States, New Zealand', 'Chile, Italy', 'Pakistan, Norway, United States', 'Canada, United States, Mexico', 'United Kingdom, Singapore', 'Hong Kong, United States', 'South Africa, United States, New Zealand, Canada', 'Spain, France, Italy', 'Bulgaria, United States, Spain, Canada', 'Belgium, Netherlands', 'United Kingdom, United States, France', 'United States, United Kingdom, Canada, China', 'Canada, Germany, France, United States', 'United States, Venezuela', 'Japan', 'China, United Kingdom', 'United States, Singapore', 'Germany, United States, France', 'Canada, United Kingdom, United States', 'China, United States, United Kingdom', 'United Kingdom, Australia, United States', 'Canada, United States, Ireland', 'South Africa, Germany, Netherlands, France', 'Spain, Thailand, United States', 'Norway, United States', 'Luxembourg', 'New Zealand', ' Theo Campbell\"', 'Italy, Switzerland, Albania, Poland', 'Turkey, Azerbaijan', 'United Kingdom, United States, Morocco', 'France, Belgium, Luxembourg, Cambodia,', 'United States, Mexico, Spain, Malta', 'United States, United Kingdom, France, Germany, Japan', 'Philippines, Singapore', 'China, Spain, South Korea, United States', 'Uruguay, Argentina, Spain', 'United States, Colombia, Mexico', ' Justin \"\"Alyssa Edwards\"\" Johnson', 'United Kingdom, Germany, Canada, United States', 'Denmark, Germany, Belgium, United Kingdom, France, Sweden', 'India, Nepal', 'United States, Germany, Canada', 'Argentina, Chile', 'United Kingdom, France, Germany, Spain', 'India, United Kingdom, Canada, United States', 'Poland', 'United States, Brazil, Japan, Spain, India', 'Spain, Italy, Argentina', 'Ireland, South Africa', 'United States, Senegal', 'United States, Malta, France, United Kingdom', 'Taiwan, China, France, United States', 'Austria, Czech Republic', 'Australia', 'United Kingdom, Germany', 'Cameroon', 'Mauritius, South Africa', 'United Kingdom, United States, Germany, Denmark, Belgium, Japan', 'Argentina, United States', 'Ireland, United States, France', 'Romania', 'United States, United Kingdom, France', 'Canada, Nigeria, United States', 'Lebanon, United States, United Arab Emirates', 'United States, United Kingdom, India', 'Germany, China, United Kingdom', 'India, United Kingdom, China, Canada, Japan, South Korea, United States', 'Norway, Denmark, Netherlands, Sweden', 'Canada, Germany, South Africa', 'Belgium, France, Netherlands', 'India, Canada', 'United Kingdom, Australia, France, United States', 'Czech Republic, United States', 'Bulgaria', 'Czech Republic, Slovakia', 'France, United States, Canada', 'United States, South Korea', 'Canada, Ireland, United States', 'Austria', 'United Kingdom, South Africa, France', 'United Kingdom, Malawi', 'United States, South Africa', 'India, Iran', 'United Kingdom, Poland', 'United States, Botswana', 'Egypt', 'Uruguay, Argentina, Germany, Spain', 'India, Pakistan', 'Spain, Mexico', 'South Korea, China, United States', ' Chuck D.', 'Russia, United States', 'Mexico, France', 'Canada, South Africa', 'United Kingdom, Jordan, Qatar, Iran', 'United Kingdom, Ukraine, United States', 'South Africa', 'Portugal, United States', 'Austria, Iraq, United States', 'Netherlands, Belgium, Germany, Jordan', 'South Korea, China', 'Slovenia, Croatia, Germany, Czech Republic, Qatar', 'Russia, Spain', 'Czech Republic, United Kingdom, United States', 'Philippines, Canada, United Kingdom, United States', 'France, Belgium, Luxembourg, Romania, Canada, United States', 'United Kingdom, China, United States, India', 'Colombia', ', France, Algeria', ' Michael Cavalieri', 'United Kingdom, France, United States', 'New Zealand, United Kingdom, Australia', 'Mexico, Brazil', 'United States, France, Canada', 'Hungary', 'United Kingdom, Czech Republic, United States, Germany, Bahamas', 'Canada, United States', 'Italy, Belgium', 'United States, New Zealand, Japan', 'Denmark, Indonesia, Finland, Norway, United Kingdom, Israel, France, United States, Germany, Netherlands', 'Pakistan', 'United Arab Emirates, Romania', 'United States, France, United Kingdom', 'France, Morocco', 'France, Germany', 'United Kingdom, Brazil, Germany', 'Iran, France', 'United States, Switzerland', 'Australia, New Zealand, United States', 'United Kingdom, Italy', 'Austria, Germany', 'India, Mexico', 'Mauritius', 'Canada, Hungary, United States', 'United Kingdom, Australia', 'United Kingdom', 'Italy, South Africa, West Germany, Australia, United States', 'United States, Canada, Japan, Panama', 'Vietnam', 'Denmark, France, Belgium, Italy, Netherlands, United States, United Kingdom', 'Netherlands', 'South Africa, Nigeria', 'Norway, Germany, Sweden', 'New Zealand, United Kingdom', 'United Kingdom, Canada, United States', 'Finland, Germany', 'Denmark, United States', 'Australia, India', 'Sweden, Czech Republic, United Kingdom, Denmark, Netherlands', 'France, Brazil, Spain, Belgium', 'Spain, France', 'Paraguay, Argentina', 'Greece, United States', 'United States, Morocco']\n"
     ]
    }
   ],
   "source": [
    "unique_values = [row[\"country\"] for row in df.select(\"country\").distinct().collect()]\n",
    "print(unique_values)"
   ]
  },
  {
   "cell_type": "code",
   "execution_count": 24,
   "id": "e1b14133-f610-4027-baa0-2838f8f593c3",
   "metadata": {},
   "outputs": [
    {
     "data": {
      "text/plain": [
       "8806"
      ]
     },
     "execution_count": 24,
     "metadata": {},
     "output_type": "execute_result"
    }
   ],
   "source": [
    "df.count()"
   ]
  },
  {
   "cell_type": "code",
   "execution_count": 28,
   "id": "4a2b3589-28fa-4378-8508-812489f5e4ea",
   "metadata": {},
   "outputs": [
    {
     "data": {
      "text/plain": [
       "12"
      ]
     },
     "execution_count": 28,
     "metadata": {},
     "output_type": "execute_result"
    }
   ],
   "source": [
    "len(df.columns)"
   ]
  },
  {
   "cell_type": "code",
   "execution_count": 29,
   "id": "3c25ff5f-8656-4865-9b52-e67f0eb719a6",
   "metadata": {},
   "outputs": [
    {
     "data": {
      "text/plain": [
       "137"
      ]
     },
     "execution_count": 29,
     "metadata": {},
     "output_type": "execute_result"
    }
   ],
   "source": [
    "filtered_df = (df.filter((col(\"country\") == 'United States') & (col('release_year') >2020)))\n",
    "\n",
    "filtered_df.count()"
   ]
  },
  {
   "cell_type": "code",
   "execution_count": 30,
   "id": "759be265-0b09-475a-a6f2-199f9bbb0eb4",
   "metadata": {},
   "outputs": [
    {
     "name": "stdout",
     "output_type": "stream",
     "text": [
      "+-------+-------+--------------------+--------------------+--------------------+-------------+------------------+------------+------+---------+--------------------+--------------------+\n",
      "|show_id|   type|               title|            director|                cast|      country|        date_added|release_year|rating| duration|           listed_in|         description|\n",
      "+-------+-------+--------------------+--------------------+--------------------+-------------+------------------+------------+------+---------+--------------------+--------------------+\n",
      "|    s10|  Movie|        The Starling|      Theodore Melfi|Melissa McCarthy,...|United States|September 24, 2021|        2021| PG-13|  104 min|    Comedies, Dramas|A woman adjusting...|\n",
      "|    s16|TV Show|   Dear White People|                null|Logan Browning, B...|United States|September 22, 2021|        2021| TV-MA|4 Seasons|TV Comedies, TV D...|\"Students of colo...|\n",
      "|    s41|TV Show|He-Man and the Ma...|                null|Yuri Lowenthal, K...|United States|September 16, 2021|        2021| TV-Y7| 1 Season|Kids' TV, TV Sci-...|Mighty teen Adam ...|\n",
      "|    s56|TV Show|           Nailed It|                null|Nicole Byer, Jacq...|United States|September 15, 2021|        2021| TV-PG|6 Seasons|          Reality TV|Home bakers with ...|\n",
      "|    s82|  Movie|                Kate|Cedric Nicolas-Tr...|Mary Elizabeth Wi...|United States|September 10, 2021|        2021|     R|  106 min|  Action & Adventure|Slipped a fatal p...|\n",
      "|    s83|TV Show|             Lucifer|                null|Tom Ellis, Lauren...|United States|September 10, 2021|        2021| TV-14|6 Seasons|Crime TV Shows, T...|Bored with being ...|\n",
      "|    s98|TV Show|          Kid Cosmic|                null|Jack Fisher, Tom ...|United States| September 7, 2021|        2021| TV-Y7|2 Seasons|Kids' TV, TV Come...|A boy's superhero...|\n",
      "|   s102|  Movie|Untold: Breaking ...|Chapman Way, Macl...|                null|United States| September 7, 2021|        2021| TV-MA|   80 min|Documentaries, Sp...|Under pressure to...|\n",
      "|   s107|TV Show|              Bunk'd|                null|Peyton List, Kara...|United States| September 5, 2021|        2021|  TV-G|5 Seasons|Kids' TV, TV Come...|\"The Ross sibling...|\n",
      "|   s126|TV Show|             Q-Force|                null|Sean Hayes, Wanda...|United States| September 2, 2021|        2021| TV-MA| 1 Season|Crime TV Shows, T...|A gay superspy an...|\n",
      "|   s185|TV Show|        Sparking Joy|                null|         Marie Kondo|United States|   August 31, 2021|        2021| TV-PG| 1 Season|          Reality TV|In this reality s...|\n",
      "|   s221|TV Show|      Family Reunion|                null|Loretta Devine, T...|United States|   August 26, 2021|        2021| TV-PG|4 Seasons|Kids' TV, TV Come...|When the McKellan...|\n",
      "|   s232|  Movie|       The Water Man|       David Oyelowo|David Oyelowo, Ro...|United States|   August 25, 2021|        2021|    PG|   92 min|Children & Family...|Desperate to save...|\n",
      "|   s242|TV Show|            Manifest|                null|Melissa Roxburgh,...|United States|   August 21, 2021|        2021| TV-14|3 Seasons|TV Dramas, TV Mys...|When a plane myst...|\n",
      "|   s248|  Movie|          Sweet Girl|Brian Andrew Mendoza|Jason Momoa, Isab...|United States|   August 20, 2021|        2021|     R|  110 min|Action & Adventur...|He lost the love ...|\n",
      "|   s255|TV Show| Go! Go! Cory Carson|                null|Alan C. Lim, Paul...|United States|   August 18, 2021|        2021|  TV-Y|5 Seasons|            Kids' TV|Beep, beep – go, ...|\n",
      "|   s272|TV Show|Brand New Cherry ...|                null|Rosa Salazar, Eri...|United States|   August 13, 2021|        2021| TV-MA| 1 Season|TV Dramas, TV Hor...|A filmmaker heads...|\n",
      "|   s273|TV Show|Fast & Furious Sp...|                null|Tyler Posey, Char...|United States|   August 13, 2021|        2021| TV-Y7|5 Seasons|            Kids' TV|A government agen...|\n",
      "|   s275|TV Show|   Grace and Frankie|                null|Jane Fonda, Lily ...|United States|   August 13, 2021|        2021| TV-MA|7 Seasons|TV Comedies, TV D...|They’re not frien...|\n",
      "|   s281|TV Show|          Bake Squad|                null|                null|United States|   August 11, 2021|        2021| TV-PG| 1 Season|          Reality TV|Expert bakers ele...|\n",
      "+-------+-------+--------------------+--------------------+--------------------+-------------+------------------+------------+------+---------+--------------------+--------------------+\n",
      "only showing top 20 rows\n",
      "\n"
     ]
    }
   ],
   "source": [
    "filtered_df.show()"
   ]
  },
  {
   "cell_type": "markdown",
   "id": "08778941-9c05-4897-a2e0-98b91c218c65",
   "metadata": {},
   "source": [
    "## Filter based on a list of values"
   ]
  },
  {
   "cell_type": "code",
   "execution_count": 31,
   "id": "580ce19d-91ec-4a0b-b7cd-636f79b0fe26",
   "metadata": {},
   "outputs": [
    {
     "data": {
      "text/plain": [
       "4196"
      ]
     },
     "execution_count": 31,
     "metadata": {},
     "output_type": "execute_result"
    }
   ],
   "source": [
    "filtered_df = (df.filter(col(\"country\").isin([\"United States\", \"United Kingdom\", \"India\"])))\n",
    "\n",
    "filtered_df.count()"
   ]
  },
  {
   "cell_type": "code",
   "execution_count": 32,
   "id": "c9f1ddc5-d26a-40be-bee5-73f04ca0426e",
   "metadata": {},
   "outputs": [
    {
     "name": "stdout",
     "output_type": "stream",
     "text": [
      "+-------+-------+--------------------+----------------+--------------------+--------------+------------------+------------+------+---------+--------------------+--------------------+\n",
      "|show_id|   type|               title|        director|                cast|       country|        date_added|release_year|rating| duration|           listed_in|         description|\n",
      "+-------+-------+--------------------+----------------+--------------------+--------------+------------------+------------+------+---------+--------------------+--------------------+\n",
      "|     s1|  Movie|Dick Johnson Is Dead| Kirsten Johnson|                null| United States|September 25, 2021|        2020| PG-13|   90 min|       Documentaries|As her father nea...|\n",
      "|     s5|TV Show|        Kota Factory|            null|Mayur More, Jiten...|         India|September 24, 2021|        2021| TV-MA|2 Seasons|International TV ...|In a city of coac...|\n",
      "|     s9|TV Show|The Great British...| Andy Devonshire|Mel Giedroyc, Sue...|United Kingdom|September 24, 2021|        2021| TV-14|9 Seasons|British TV Shows,...|A talented batch ...|\n",
      "|    s10|  Movie|        The Starling|  Theodore Melfi|Melissa McCarthy,...| United States|September 24, 2021|        2021| PG-13|  104 min|    Comedies, Dramas|A woman adjusting...|\n",
      "|    s16|TV Show|   Dear White People|            null|Logan Browning, B...| United States|September 22, 2021|        2021| TV-MA|4 Seasons|TV Comedies, TV D...|\"Students of colo...|\n",
      "|    s25|  Movie|               Jeans|      S. Shankar|Prashanth, Aishwa...|         India|September 21, 2021|        1998| TV-14|  166 min|Comedies, Interna...|When the father o...|\n",
      "|    s28|  Movie|           Grown Ups|    Dennis Dugan|Adam Sandler, Kev...| United States|September 20, 2021|        2010| PG-13|  103 min|            Comedies|Mourning the loss...|\n",
      "|    s29|  Movie|          Dark Skies|   Scott Stewart|Keri Russell, Jos...| United States|September 19, 2021|        2013| PG-13|   97 min|Horror Movies, Sc...|A family’s idylli...|\n",
      "|    s33|TV Show|       Sex Education|            null|Asa Butterfield, ...|United Kingdom|September 17, 2021|        2020| TV-MA|3 Seasons|British TV Shows,...|Insecure Otis has...|\n",
      "|    s40|TV Show|        Chhota Bheem|            null|Vatsal Dubey, Jul...|         India|September 16, 2021|        2021| TV-Y7|3 Seasons|            Kids' TV|A brave, energeti...|\n",
      "|    s41|TV Show|He-Man and the Ma...|            null|Yuri Lowenthal, K...| United States|September 16, 2021|        2021| TV-Y7| 1 Season|Kids' TV, TV Sci-...|Mighty teen Adam ...|\n",
      "|    s42|  Movie|                Jaws|Steven Spielberg|Roy Scheider, Rob...| United States|September 16, 2021|        1975|    PG|  124 min|Action & Adventur...|When an insatiabl...|\n",
      "|    s43|  Movie|              Jaws 2|  Jeannot Szwarc|Roy Scheider, Lor...| United States|September 16, 2021|        1978|    PG|  116 min|Dramas, Horror Mo...|Four years after ...|\n",
      "|    s44|  Movie|              Jaws 3|       Joe Alves|Dennis Quaid, Bes...| United States|September 16, 2021|        1983|    PG|   98 min|Action & Adventur...|After the staff o...|\n",
      "|    s45|  Movie|   Jaws: The Revenge|  Joseph Sargent|Lorraine Gary, La...| United States|September 16, 2021|        1987| PG-13|   91 min|Action & Adventur...|After another dea...|\n",
      "|    s49|  Movie|        Training Day|   Antoine Fuqua|Denzel Washington...| United States|September 16, 2021|        2001|     R|  122 min|   Dramas, Thrillers|A rookie cop with...|\n",
      "|    s51|TV Show|       Dharmakshetra|            null|Kashmira Irani, C...|         India|September 15, 2021|        2014| TV-PG| 1 Season|International TV ...|After the ancient...|\n",
      "|    s56|TV Show|           Nailed It|            null|Nicole Byer, Jacq...| United States|September 15, 2021|        2021| TV-PG|6 Seasons|          Reality TV|Home bakers with ...|\n",
      "|    s66|TV Show|        Numberblocks|            null|Beth Chalmers, Da...|United Kingdom|September 15, 2021|        2021|  TV-Y|6 Seasons|            Kids' TV|In a place called...|\n",
      "|    s67|TV Show|Raja Rasoi Aur An...|            null|                null|         India|September 15, 2021|        2014|  TV-G| 1 Season|Docuseries, Inter...|Explore the histo...|\n",
      "+-------+-------+--------------------+----------------+--------------------+--------------+------------------+------------+------+---------+--------------------+--------------------+\n",
      "only showing top 20 rows\n",
      "\n"
     ]
    }
   ],
   "source": [
    "filtered_df.show()"
   ]
  },
  {
   "cell_type": "markdown",
   "id": "65ea107a-c6b1-4d0b-a5ec-ea12e999c777",
   "metadata": {},
   "source": [
    "## Filtering on strings"
   ]
  },
  {
   "cell_type": "code",
   "execution_count": 34,
   "id": "78f51ebf-01a8-4fed-80d3-3bbe441b4f3e",
   "metadata": {},
   "outputs": [
    {
     "name": "stdout",
     "output_type": "stream",
     "text": [
      "+--------------------+\n",
      "|           listed_in|\n",
      "+--------------------+\n",
      "|Crime TV Shows, I...|\n",
      "|Crime TV Shows, D...|\n",
      "|Crime TV Shows, I...|\n",
      "|Crime TV Shows, S...|\n",
      "|Crime TV Shows, D...|\n",
      "|Crime TV Shows, T...|\n",
      "|Crime TV Shows, I...|\n",
      "|Crime TV Shows, T...|\n",
      "|Crime TV Shows, I...|\n",
      "|Crime TV Shows, T...|\n",
      "|Crime TV Shows, D...|\n",
      "|Crime TV Shows, I...|\n",
      "|Crime TV Shows, I...|\n",
      "|Crime TV Shows, I...|\n",
      "|Crime TV Shows, I...|\n",
      "|Crime TV Shows, D...|\n",
      "|Crime TV Shows, T...|\n",
      "|Crime TV Shows, I...|\n",
      "|Crime TV Shows, I...|\n",
      "|Crime TV Shows, I...|\n",
      "+--------------------+\n",
      "only showing top 20 rows\n",
      "\n"
     ]
    }
   ],
   "source": [
    "filtered_df = df.filter(col(\"listed_in\").like(\"Crime%\"))\n",
    "\n",
    "filtered_df.select(\"listed_in\").show()"
   ]
  },
  {
   "cell_type": "markdown",
   "id": "9a1e1897-37c3-4a5e-8caf-77bfb86d5157",
   "metadata": {},
   "source": [
    "## Filtering based on regular expression"
   ]
  },
  {
   "cell_type": "code",
   "execution_count": 39,
   "id": "7756cf3d-8361-473f-bc05-318746b00000",
   "metadata": {},
   "outputs": [
    {
     "name": "stdout",
     "output_type": "stream",
     "text": [
      "+-----------------------------------------------------------------+\n",
      "|listed_in                                                        |\n",
      "+-----------------------------------------------------------------+\n",
      "|Crime TV Shows, International TV Shows, TV Action & Adventure    |\n",
      "|Crime TV Shows, Docuseries, International TV Shows               |\n",
      "|Crime TV Shows, International TV Shows, TV Action & Adventure    |\n",
      "|British TV Shows, Crime TV Shows, Docuseries                     |\n",
      "|Crime TV Shows, Spanish-Language TV Shows, TV Dramas             |\n",
      "|Crime TV Shows, Docuseries, International TV Shows               |\n",
      "|International TV Shows, TV Dramas, TV Thrillers                  |\n",
      "|Dramas, International Movies, Thrillers                          |\n",
      "|Dramas, Horror Movies, Thrillers                                 |\n",
      "|Action & Adventure, Horror Movies, Thrillers                     |\n",
      "|Action & Adventure, Horror Movies, Thrillers                     |\n",
      "|Dramas, Thrillers                                                |\n",
      "|Crime TV Shows, TV Comedies, TV Dramas                           |\n",
      "|International Movies, Thrillers                                  |\n",
      "|Sci-Fi & Fantasy, Thrillers                                      |\n",
      "|Dramas, International Movies, Thrillers                          |\n",
      "|Crime TV Shows, International TV Shows, Spanish-Language TV Shows|\n",
      "|Dramas, International Movies, Thrillers                          |\n",
      "|Dramas, International Movies, Thrillers                          |\n",
      "|Crime TV Shows, TV Action & Adventure, TV Comedies               |\n",
      "+-----------------------------------------------------------------+\n",
      "only showing top 20 rows\n",
      "\n"
     ]
    }
   ],
   "source": [
    "filtered_df = df.filter(col(\"listed_in\").rlike(\"(Crime | Thrillers)\"))\n",
    "\n",
    "filtered_df.select(\"listed_in\").show(truncate=False)"
   ]
  },
  {
   "cell_type": "markdown",
   "id": "7627a1d6-b0eb-417a-8043-3917f9a7da65",
   "metadata": {},
   "source": [
    "## Filtering on Date Ranges"
   ]
  },
  {
   "cell_type": "code",
   "execution_count": 47,
   "id": "9a8bcef4-9910-4ba7-bdce-2974b7e17794",
   "metadata": {},
   "outputs": [],
   "source": [
    "from pyspark.sql.functions import to_date, date_format, col"
   ]
  },
  {
   "cell_type": "code",
   "execution_count": 48,
   "id": "c13f9206-c97b-452c-8982-137507e54658",
   "metadata": {},
   "outputs": [],
   "source": [
    "# convert string to date format\n",
    "\n",
    "df_temp = df.withColumn(\"date_added\", to_date(col(\"date_added\"), \"LLLL d, yyyy\"))\n",
    "\n",
    "# conbver the date format to the desired format\n",
    "\n",
    "df_new = df_temp.withColumn(\"date_added\", date_format(col(\"date_added\"), \"yyyy-mm-dd\"))\n",
    "\n",
    "\n",
    "\n"
   ]
  },
  {
   "cell_type": "code",
   "execution_count": 49,
   "id": "b97d75f6-1789-4d14-ada0-be8b3accdff5",
   "metadata": {},
   "outputs": [
    {
     "name": "stdout",
     "output_type": "stream",
     "text": [
      "+-------+-------+--------------------+--------------------+--------------------+--------------------+----------+------------+------+---------+--------------------+--------------------+\n",
      "|show_id|   type|               title|            director|                cast|             country|date_added|release_year|rating| duration|           listed_in|         description|\n",
      "+-------+-------+--------------------+--------------------+--------------------+--------------------+----------+------------+------+---------+--------------------+--------------------+\n",
      "|     s1|  Movie|Dick Johnson Is Dead|     Kirsten Johnson|                null|       United States|2021-00-25|        2020| PG-13|   90 min|       Documentaries|As her father nea...|\n",
      "|     s2|TV Show|       Blood & Water|                null|Ama Qamata, Khosi...|        South Africa|2021-00-24|        2021| TV-MA|2 Seasons|International TV ...|After crossing pa...|\n",
      "|     s3|TV Show|           Ganglands|     Julien Leclercq|Sami Bouajila, Tr...|                null|2021-00-24|        2021| TV-MA| 1 Season|Crime TV Shows, I...|To protect his fa...|\n",
      "|     s4|TV Show|Jailbirds New Orl...|                null|                null|                null|2021-00-24|        2021| TV-MA| 1 Season|Docuseries, Reali...|Feuds, flirtation...|\n",
      "|     s5|TV Show|        Kota Factory|                null|Mayur More, Jiten...|               India|2021-00-24|        2021| TV-MA|2 Seasons|International TV ...|In a city of coac...|\n",
      "|     s6|TV Show|       Midnight Mass|       Mike Flanagan|Kate Siegel, Zach...|                null|2021-00-24|        2021| TV-MA| 1 Season|TV Dramas, TV Hor...|The arrival of a ...|\n",
      "|     s7|  Movie|My Little Pony: A...|Robert Cullen, Jo...|Vanessa Hudgens, ...|                null|2021-00-24|        2021|    PG|   91 min|Children & Family...|Equestria's divid...|\n",
      "|     s8|  Movie|             Sankofa|        Haile Gerima|Kofi Ghanaba, Oya...|United States, Gh...|2021-00-24|        1993| TV-MA|  125 min|Dramas, Independe...|On a photo shoot ...|\n",
      "|     s9|TV Show|The Great British...|     Andy Devonshire|Mel Giedroyc, Sue...|      United Kingdom|2021-00-24|        2021| TV-14|9 Seasons|British TV Shows,...|A talented batch ...|\n",
      "|    s10|  Movie|        The Starling|      Theodore Melfi|Melissa McCarthy,...|       United States|2021-00-24|        2021| PG-13|  104 min|    Comedies, Dramas|A woman adjusting...|\n",
      "|    s11|TV Show|Vendetta: Truth, ...|                null|                null|                null|2021-00-24|        2021| TV-MA| 1 Season|Crime TV Shows, D...|\"Sicily boasts a ...|\n",
      "|    s12|TV Show|    Bangkok Breaking|   Kongkiat Komesiri|Sukollawat Kanaro...|                null|2021-00-23|        2021| TV-MA| 1 Season|Crime TV Shows, I...|Struggling to ear...|\n",
      "|    s13|  Movie|        Je Suis Karl| Christian Schwochow|Luna Wedler, Jann...|Germany, Czech Re...|2021-00-23|        2021| TV-MA|  127 min|Dramas, Internati...|After most of her...|\n",
      "|    s14|  Movie|Confessions of an...|       Bruno Garotti|Klara Castanho, L...|                null|2021-00-22|        2021| TV-PG|   91 min|Children & Family...|When the clever b...|\n",
      "|    s15|TV Show|Crime Stories: In...|                null|                null|                null|2021-00-22|        2021| TV-MA| 1 Season|British TV Shows,...|Cameras following...|\n",
      "|    s16|TV Show|   Dear White People|                null|Logan Browning, B...|       United States|2021-00-22|        2021| TV-MA|4 Seasons|TV Comedies, TV D...|\"Students of colo...|\n",
      "|    s17|  Movie|Europe's Most Dan...|Pedro de Echave G...|                null|                null|2021-00-22|        2020| TV-MA|   67 min|Documentaries, In...|Declassified docu...|\n",
      "|    s18|TV Show|     Falsa identidad|                null|Luis Ernesto Fran...|              Mexico|2021-00-22|        2020| TV-MA|2 Seasons|Crime TV Shows, S...|Strangers Diego a...|\n",
      "|    s19|  Movie|           Intrusion|          Adam Salky|Freida Pinto, Log...|                null|2021-00-22|        2021| TV-14|   94 min|           Thrillers|After a deadly ho...|\n",
      "|    s20|TV Show|              Jaguar|                null|Blanca Suárez, Iv...|                null|2021-00-22|        2021| TV-MA| 1 Season|International TV ...|In the 1960s, a H...|\n",
      "+-------+-------+--------------------+--------------------+--------------------+--------------------+----------+------------+------+---------+--------------------+--------------------+\n",
      "only showing top 20 rows\n",
      "\n"
     ]
    }
   ],
   "source": [
    "filtered_df = df_new.filter((col(\"date_added\") >= \"2011-02-01\") & (col(\"date_added\") <= \"2021-03-01\"))\n",
    "\n",
    "filtered_df.show()"
   ]
  },
  {
   "cell_type": "code",
   "execution_count": 50,
   "id": "01ff0b51-b61f-451d-81dc-75542cb113ec",
   "metadata": {},
   "outputs": [
    {
     "data": {
      "text/plain": [
       "8806"
      ]
     },
     "execution_count": 50,
     "metadata": {},
     "output_type": "execute_result"
    }
   ],
   "source": [
    "df.count()"
   ]
  },
  {
   "cell_type": "code",
   "execution_count": 52,
   "id": "0dd0c03b-6272-4fdc-ac11-4d318d34e1d4",
   "metadata": {},
   "outputs": [
    {
     "data": {
      "text/plain": [
       "8671"
      ]
     },
     "execution_count": 52,
     "metadata": {},
     "output_type": "execute_result"
    }
   ],
   "source": [
    "filtered_df.count()"
   ]
  },
  {
   "cell_type": "markdown",
   "id": "444de035-0fe9-4fe4-85ba-30450eafb46d",
   "metadata": {},
   "source": [
    "## Get the date range from a column"
   ]
  },
  {
   "cell_type": "code",
   "execution_count": 54,
   "id": "fdf06ce9-5fe6-464e-84cb-672d4087fcfe",
   "metadata": {},
   "outputs": [
    {
     "name": "stdout",
     "output_type": "stream",
     "text": [
      "+----------+----------+\n",
      "|min_date  |max_date  |\n",
      "+----------+----------+\n",
      "|2012-00-01|2021-00-31|\n",
      "+----------+----------+\n",
      "\n"
     ]
    }
   ],
   "source": [
    "from pyspark.sql.functions import min, max\n",
    "\n",
    "# Calculate the minimum and maximum dates in the date_added column\n",
    "date_range = filtered_df.agg(\n",
    "    min(\"date_added\").alias(\"min_date\"),\n",
    "    max(\"date_added\").alias(\"max_date\")\n",
    ")\n",
    "\n",
    "date_range.show(truncate=False)"
   ]
  },
  {
   "cell_type": "code",
   "execution_count": 55,
   "id": "f59e052f-f867-482c-be5d-381d66520b96",
   "metadata": {},
   "outputs": [],
   "source": [
    "spark.stop()"
   ]
  },
  {
   "cell_type": "code",
   "execution_count": null,
   "id": "99049357-3399-49cc-b2c0-7efa202c53cc",
   "metadata": {},
   "outputs": [],
   "source": []
  }
 ],
 "metadata": {
  "kernelspec": {
   "display_name": "Python 3 (ipykernel)",
   "language": "python",
   "name": "python3"
  },
  "language_info": {
   "codemirror_mode": {
    "name": "ipython",
    "version": 3
   },
   "file_extension": ".py",
   "mimetype": "text/x-python",
   "name": "python",
   "nbconvert_exporter": "python",
   "pygments_lexer": "ipython3",
   "version": "3.10.12"
  }
 },
 "nbformat": 4,
 "nbformat_minor": 5
}
