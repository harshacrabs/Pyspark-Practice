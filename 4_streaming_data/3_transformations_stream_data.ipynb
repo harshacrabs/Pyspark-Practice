{
 "cells": [
  {
   "cell_type": "markdown",
   "id": "8aa7ab4d-8a20-45ff-808d-bdef8efb87a2",
   "metadata": {},
   "source": [
    "## Import libraries"
   ]
  },
  {
   "cell_type": "code",
   "execution_count": 1,
   "id": "df15f270-57ea-42ab-808d-73483fe96721",
   "metadata": {},
   "outputs": [],
   "source": [
    "from delta import configure_spark_with_delta_pip\n",
    "from pyspark.sql import SparkSession\n",
    "from pyspark.sql.functions import col,from_json,avg\n",
    "from pyspark.sql.types import StructType,StructField,IntegerType,StringType"
   ]
  },
  {
   "cell_type": "markdown",
   "id": "a887042d-dfdc-434f-9524-617878566f68",
   "metadata": {},
   "source": [
    "## Create a SparkSession object"
   ]
  },
  {
   "cell_type": "code",
   "execution_count": 2,
   "id": "d96a3183-e217-435d-95ca-4a826c25c3e6",
   "metadata": {},
   "outputs": [
    {
     "name": "stdout",
     "output_type": "stream",
     "text": [
      ":: loading settings :: url = jar:file:/usr/local/lib/python3.10/dist-packages/pyspark/jars/ivy-2.5.1.jar!/org/apache/ivy/core/settings/ivysettings.xml\n"
     ]
    },
    {
     "name": "stderr",
     "output_type": "stream",
     "text": [
      "Ivy Default Cache set to: /root/.ivy2/cache\n",
      "The jars for the packages stored in: /root/.ivy2/jars\n",
      "io.delta#delta-core_2.12 added as a dependency\n",
      "org.apache.spark#spark-sql-kafka-0-10_2.12 added as a dependency\n",
      ":: resolving dependencies :: org.apache.spark#spark-submit-parent-abbca0f9-203a-4c86-8483-49669895c72b;1.0\n",
      "\tconfs: [default]\n",
      "\tfound io.delta#delta-core_2.12;2.4.0 in central\n",
      "\tfound io.delta#delta-storage;2.4.0 in central\n",
      "\tfound org.antlr#antlr4-runtime;4.9.3 in central\n",
      "\tfound org.apache.spark#spark-sql-kafka-0-10_2.12;3.4.1 in central\n",
      "\tfound org.apache.spark#spark-token-provider-kafka-0-10_2.12;3.4.1 in central\n",
      "\tfound org.apache.kafka#kafka-clients;3.3.2 in central\n",
      "\tfound org.lz4#lz4-java;1.8.0 in central\n",
      "\tfound org.xerial.snappy#snappy-java;1.1.10.1 in central\n",
      "\tfound org.slf4j#slf4j-api;2.0.6 in central\n",
      "\tfound org.apache.hadoop#hadoop-client-runtime;3.3.4 in central\n",
      "\tfound org.apache.hadoop#hadoop-client-api;3.3.4 in central\n",
      "\tfound commons-logging#commons-logging;1.1.3 in central\n",
      "\tfound com.google.code.findbugs#jsr305;3.0.0 in central\n",
      "\tfound org.apache.commons#commons-pool2;2.11.1 in central\n",
      ":: resolution report :: resolve 193ms :: artifacts dl 6ms\n",
      "\t:: modules in use:\n",
      "\tcom.google.code.findbugs#jsr305;3.0.0 from central in [default]\n",
      "\tcommons-logging#commons-logging;1.1.3 from central in [default]\n",
      "\tio.delta#delta-core_2.12;2.4.0 from central in [default]\n",
      "\tio.delta#delta-storage;2.4.0 from central in [default]\n",
      "\torg.antlr#antlr4-runtime;4.9.3 from central in [default]\n",
      "\torg.apache.commons#commons-pool2;2.11.1 from central in [default]\n",
      "\torg.apache.hadoop#hadoop-client-api;3.3.4 from central in [default]\n",
      "\torg.apache.hadoop#hadoop-client-runtime;3.3.4 from central in [default]\n",
      "\torg.apache.kafka#kafka-clients;3.3.2 from central in [default]\n",
      "\torg.apache.spark#spark-sql-kafka-0-10_2.12;3.4.1 from central in [default]\n",
      "\torg.apache.spark#spark-token-provider-kafka-0-10_2.12;3.4.1 from central in [default]\n",
      "\torg.lz4#lz4-java;1.8.0 from central in [default]\n",
      "\torg.slf4j#slf4j-api;2.0.6 from central in [default]\n",
      "\torg.xerial.snappy#snappy-java;1.1.10.1 from central in [default]\n",
      "\t---------------------------------------------------------------------\n",
      "\t|                  |            modules            ||   artifacts   |\n",
      "\t|       conf       | number| search|dwnlded|evicted|| number|dwnlded|\n",
      "\t---------------------------------------------------------------------\n",
      "\t|      default     |   14  |   0   |   0   |   0   ||   14  |   0   |\n",
      "\t---------------------------------------------------------------------\n",
      ":: retrieving :: org.apache.spark#spark-submit-parent-abbca0f9-203a-4c86-8483-49669895c72b\n",
      "\tconfs: [default]\n",
      "\t0 artifacts copied, 14 already retrieved (0kB/4ms)\n",
      "25/04/13 22:58:50 WARN NativeCodeLoader: Unable to load native-hadoop library for your platform... using builtin-java classes where applicable\n",
      "Setting default log level to \"WARN\".\n",
      "To adjust logging level use sc.setLogLevel(newLevel). For SparkR, use setLogLevel(newLevel).\n"
     ]
    }
   ],
   "source": [
    "builder = (SparkSession.builder\n",
    "           .appName(\"transform-filter-streaming\")\n",
    "           .master(\"spark://spark-master:7077\")\n",
    "           .config(\"spark.executor.memory\", \"512m\")\n",
    "           .config(\"spark.sql.extensions\", \"io.delta.sql.DeltaSparkSessionExtension\")\n",
    "           .config(\"spark.sql.catalog.spark_catalog\", \"org.apache.spark.sql.delta.catalog.DeltaCatalog\")\n",
    "          )\n",
    "\n",
    "spark = configure_spark_with_delta_pip(builder, ['org.apache.spark:spark-sql-kafka-0-10_2.12:3.4.1']).getOrCreate()\n",
    "\n",
    "spark.sparkContext.setLogLevel(\"ERROR\")\n"
   ]
  },
  {
   "cell_type": "markdown",
   "id": "5dc5889b-7971-494c-889b-2d32d4eb5ef6",
   "metadata": {},
   "source": [
    "## Create a dataframe"
   ]
  },
  {
   "cell_type": "code",
   "execution_count": 3,
   "id": "5b92f7d5-4252-4919-8706-48b2d3cf717b",
   "metadata": {},
   "outputs": [],
   "source": [
    "df = (spark.readStream\n",
    "      .format('kafka')\n",
    "      .option('kafka.bootstrap.servers', 'kafka:9092')\n",
    "      .option('subscribe', 'users')\n",
    "      .option('startingOffsets', 'earliest')\n",
    "      .load()\n",
    "     )\n",
    "\n"
   ]
  },
  {
   "cell_type": "markdown",
   "id": "6f3600a8-09bf-4a0c-8497-23616d1ed4be",
   "metadata": {},
   "source": [
    "## Parse the JSON messages"
   ]
  },
  {
   "cell_type": "code",
   "execution_count": 4,
   "id": "7e189aaf-5792-406c-880f-659b6608a026",
   "metadata": {},
   "outputs": [],
   "source": [
    "schema = (StructType([\n",
    "            StructField('id', IntegerType(), True),\n",
    "            StructField('name', StringType(), True),\n",
    "            StructField('age', IntegerType(), True),\n",
    "            StructField('gender', StringType(), True),\n",
    "            StructField('country', StringType(), True)\n",
    "            ])\n",
    "         )\n",
    "\n",
    "df = df.withColumn('value', from_json(col('value').cast('STRING'), schema))\n",
    "    "
   ]
  },
  {
   "cell_type": "markdown",
   "id": "493d8426-8a9f-4930-abaf-d4aacf4d30d5",
   "metadata": {},
   "source": [
    "## Extract the nested fields"
   ]
  },
  {
   "cell_type": "raw",
   "id": "ec4982bc-57aa-4594-be53-23ea2ac1e08d",
   "metadata": {},
   "source": [
    "Since the JSON is nested, we need to extract the columns from the value column using the 'col' function and alias them with \n",
    "meaningful names"
   ]
  },
  {
   "cell_type": "code",
   "execution_count": 5,
   "id": "769cf720-22eb-40ab-8b2b-2535a6f7fddf",
   "metadata": {},
   "outputs": [],
   "source": [
    "df = (df.select(col('value.id').alias('id'),\n",
    "                col('value.name').alias('name'),\n",
    "                col('value.age').alias('age'),\n",
    "                col('value.gender').alias('gender'),\n",
    "                col('value.country').alias('country')\n",
    "               ))\n",
    "    "
   ]
  },
  {
   "cell_type": "markdown",
   "id": "4344c5b9-466f-420b-a3c9-07e197e9ddad",
   "metadata": {},
   "source": [
    "## Define Transformations and filters"
   ]
  },
  {
   "cell_type": "raw",
   "id": "7c6da23c-09f5-4399-860d-1cb2b75025a8",
   "metadata": {},
   "source": [
    "Group data by country and gender and calculate average age for each group using the groupBy and agg methods."
   ]
  },
  {
   "cell_type": "code",
   "execution_count": 6,
   "id": "8540a43b-1ef4-42b6-8e22-698852224f6f",
   "metadata": {},
   "outputs": [],
   "source": [
    "df = (df.select('age','country','gender')\n",
    "        .filter(\"age >= 21\")\n",
    "        .groupBy('country','gender')\n",
    "        .agg(avg('age').alias('avg_age'))\n",
    "     )\n"
   ]
  },
  {
   "cell_type": "markdown",
   "id": "d711966d-a320-41bf-8280-29fd9bc288a4",
   "metadata": {},
   "source": [
    "## Write the transformed data to the console"
   ]
  },
  {
   "cell_type": "code",
   "execution_count": 7,
   "id": "90033c74-5200-4716-a735-6719ac60731c",
   "metadata": {},
   "outputs": [
    {
     "name": "stderr",
     "output_type": "stream",
     "text": [
      "                                                                                \r"
     ]
    },
    {
     "name": "stdout",
     "output_type": "stream",
     "text": [
      "-------------------------------------------\n",
      "Batch: 0\n",
      "-------------------------------------------\n",
      "+---------+------+------------------+\n",
      "|  country|gender|           avg_age|\n",
      "+---------+------+------------------+\n",
      "|   Brazil|     F|37.714285714285715|\n",
      "|    Chine|     M|              42.5|\n",
      "|   Brazil|     M|              37.0|\n",
      "|      USA|     F|            37.875|\n",
      "|Australia|     F| 43.72727272727273|\n",
      "|   Canada|     M|46.666666666666664|\n",
      "|       UK|     M|              43.0|\n",
      "|      USA|     M|             38.25|\n",
      "|    India|     M|              46.0|\n",
      "|    China|     M|              37.0|\n",
      "|    China|     F|38.857142857142854|\n",
      "|   Canada|     F|              36.0|\n",
      "|Australia|     M|              40.0|\n",
      "|    India|     F|             46.05|\n",
      "|       UK|     F| 39.77777777777778|\n",
      "|    Chine|     F|             40.25|\n",
      "+---------+------+------------------+\n",
      "\n"
     ]
    },
    {
     "name": "stderr",
     "output_type": "stream",
     "text": [
      "                                                                                \r"
     ]
    },
    {
     "name": "stdout",
     "output_type": "stream",
     "text": [
      "-------------------------------------------\n",
      "Batch: 1\n",
      "-------------------------------------------\n",
      "+---------+------+------------------+\n",
      "|  country|gender|           avg_age|\n",
      "+---------+------+------------------+\n",
      "|   Brazil|     F|37.714285714285715|\n",
      "|    Chine|     M|              42.5|\n",
      "|   Brazil|     M|              37.0|\n",
      "|      USA|     F|            37.875|\n",
      "|Australia|     F| 43.72727272727273|\n",
      "|   Canada|     M|46.666666666666664|\n",
      "|       UK|     M|              43.0|\n",
      "|      USA|     M|             38.25|\n",
      "|    India|     M|              46.0|\n",
      "|    China|     M|              37.0|\n",
      "|    China|     F|             40.75|\n",
      "|   Canada|     F|              36.0|\n",
      "|Australia|     M|              40.0|\n",
      "|    India|     F|             46.05|\n",
      "|       UK|     F| 39.77777777777778|\n",
      "|    Chine|     F|             40.25|\n",
      "+---------+------+------------------+\n",
      "\n"
     ]
    },
    {
     "name": "stderr",
     "output_type": "stream",
     "text": [
      "                                                                                \r"
     ]
    },
    {
     "name": "stdout",
     "output_type": "stream",
     "text": [
      "-------------------------------------------\n",
      "Batch: 2\n",
      "-------------------------------------------\n",
      "+---------+------+------------------+\n",
      "|  country|gender|           avg_age|\n",
      "+---------+------+------------------+\n",
      "|   Brazil|     F|37.714285714285715|\n",
      "|    Chine|     M|              42.5|\n",
      "|   Brazil|     M|              37.0|\n",
      "|      USA|     F|            37.875|\n",
      "|Australia|     F| 43.72727272727273|\n",
      "|   Canada|     M|46.666666666666664|\n",
      "|       UK|     M|              43.0|\n",
      "|      USA|     M|             38.25|\n",
      "|    India|     M|              46.0|\n",
      "|    China|     M|              37.0|\n",
      "|    China|     F|             40.75|\n",
      "|   Canada|     F|              36.0|\n",
      "|Australia|     M| 39.23076923076923|\n",
      "|    India|     F|             46.05|\n",
      "|       UK|     F| 39.77777777777778|\n",
      "|    Chine|     F|             40.25|\n",
      "+---------+------+------------------+\n",
      "\n"
     ]
    },
    {
     "name": "stderr",
     "output_type": "stream",
     "text": [
      "                                                                                \r"
     ]
    },
    {
     "name": "stdout",
     "output_type": "stream",
     "text": [
      "-------------------------------------------\n",
      "Batch: 3\n",
      "-------------------------------------------\n",
      "+---------+------+------------------+\n",
      "|  country|gender|           avg_age|\n",
      "+---------+------+------------------+\n",
      "|   Brazil|     F|37.714285714285715|\n",
      "|    Chine|     M|              42.5|\n",
      "|   Brazil|     M|              37.0|\n",
      "|      USA|     F|            37.875|\n",
      "|Australia|     F| 43.72727272727273|\n",
      "|   Canada|     M|46.666666666666664|\n",
      "|       UK|     M|              43.0|\n",
      "|      USA|     M|             38.25|\n",
      "|    India|     M|              46.0|\n",
      "|    China|     M|              37.0|\n",
      "|    China|     F|43.333333333333336|\n",
      "|   Canada|     F|              36.0|\n",
      "|Australia|     M| 39.23076923076923|\n",
      "|    India|     F|             46.05|\n",
      "|       UK|     F| 39.77777777777778|\n",
      "|    Chine|     F|             40.25|\n",
      "+---------+------+------------------+\n",
      "\n"
     ]
    },
    {
     "name": "stderr",
     "output_type": "stream",
     "text": [
      "                                                                                \r"
     ]
    },
    {
     "name": "stdout",
     "output_type": "stream",
     "text": [
      "-------------------------------------------\n",
      "Batch: 4\n",
      "-------------------------------------------\n",
      "+---------+------+------------------+\n",
      "|  country|gender|           avg_age|\n",
      "+---------+------+------------------+\n",
      "|   Brazil|     F|37.714285714285715|\n",
      "|    Chine|     M|              42.5|\n",
      "|   Brazil|     M|              37.0|\n",
      "|      USA|     F|            37.875|\n",
      "|Australia|     F| 43.72727272727273|\n",
      "|   Canada|     M|46.666666666666664|\n",
      "|       UK|     M|              43.0|\n",
      "|      USA|     M|             38.25|\n",
      "|    India|     M|              46.0|\n",
      "|    China|     M|              37.0|\n",
      "|    China|     F|43.333333333333336|\n",
      "|   Canada|     F|              36.0|\n",
      "|Australia|     M| 39.23076923076923|\n",
      "|    India|     F|46.142857142857146|\n",
      "|       UK|     F| 39.77777777777778|\n",
      "|    Chine|     F|             40.25|\n",
      "+---------+------+------------------+\n",
      "\n"
     ]
    },
    {
     "name": "stderr",
     "output_type": "stream",
     "text": [
      "                                                                                \r"
     ]
    },
    {
     "name": "stdout",
     "output_type": "stream",
     "text": [
      "-------------------------------------------\n",
      "Batch: 5\n",
      "-------------------------------------------\n",
      "+---------+------+------------------+\n",
      "|  country|gender|           avg_age|\n",
      "+---------+------+------------------+\n",
      "|   Brazil|     F|37.714285714285715|\n",
      "|    Chine|     M|              42.5|\n",
      "|   Brazil|     M|              37.0|\n",
      "|      USA|     F|            37.875|\n",
      "|Australia|     F| 43.72727272727273|\n",
      "|   Canada|     M|46.666666666666664|\n",
      "|       UK|     M|              43.0|\n",
      "|      USA|     M|             38.25|\n",
      "|    India|     M|              46.0|\n",
      "|    China|     M|              37.0|\n",
      "|    China|     F|43.333333333333336|\n",
      "|   Canada|     F|              36.0|\n",
      "|Australia|     M|39.285714285714285|\n",
      "|    India|     F|46.142857142857146|\n",
      "|       UK|     F| 39.77777777777778|\n",
      "|    Chine|     F|             40.25|\n",
      "+---------+------+------------------+\n",
      "\n"
     ]
    }
   ],
   "source": [
    "query = (df.writeStream\n",
    "         .outputMode('complete')\n",
    "         .format('console')\n",
    "         .start())\n",
    "\n"
   ]
  },
  {
   "cell_type": "code",
   "execution_count": 8,
   "id": "5773b745-5f16-4688-9884-8d9429115c84",
   "metadata": {},
   "outputs": [],
   "source": [
    "query.stop()"
   ]
  },
  {
   "cell_type": "code",
   "execution_count": 9,
   "id": "1d47221e-b9c9-4a3c-86bf-a933c45d42b4",
   "metadata": {},
   "outputs": [],
   "source": [
    "spark.stop()"
   ]
  },
  {
   "cell_type": "code",
   "execution_count": null,
   "id": "17925673-e8f9-4621-82b2-c519fff6f0c3",
   "metadata": {},
   "outputs": [],
   "source": []
  }
 ],
 "metadata": {
  "kernelspec": {
   "display_name": "Python 3 (ipykernel)",
   "language": "python",
   "name": "python3"
  },
  "language_info": {
   "codemirror_mode": {
    "name": "ipython",
    "version": 3
   },
   "file_extension": ".py",
   "mimetype": "text/x-python",
   "name": "python",
   "nbconvert_exporter": "python",
   "pygments_lexer": "ipython3",
   "version": "3.10.12"
  }
 },
 "nbformat": 4,
 "nbformat_minor": 5
}
