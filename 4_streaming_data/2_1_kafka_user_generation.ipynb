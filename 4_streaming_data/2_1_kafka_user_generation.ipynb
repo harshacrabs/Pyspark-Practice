{
 "cells": [
  {
   "cell_type": "code",
   "execution_count": null,
   "id": "aff42b55-b867-4ad3-abeb-cf38609a6e21",
   "metadata": {},
   "outputs": [],
   "source": [
    "import json\n",
    "import random\n",
    "import time\n",
    "from kafka import KafkaProducer\n",
    "import datetime\n",
    "\n",
    "producer = KafkaProducer(bootstrap_servers = 'kafka:9092')\n",
    "countries = ['USA', 'UK', 'India', 'China', 'Brazil', 'Canada', 'Australia']\n",
    "genders = ['M', 'F']\n",
    "\n",
    "while True:\n",
    "    current_time = time.time()\n",
    "    message = {\n",
    "    'id' : random.randint(1,100),\n",
    "    'name' : f'user{random.randint(1,100)}',\n",
    "    'age': random.randint(18,65),\n",
    "    'gender': random.choice(genders),\n",
    "    'country' : random.choice(countries),\n",
    "    'timestamp':datetime.datetime.fromtimestamp(current_time).strftime(\"%m/%d/%Y, %H:%M:%S\")\n",
    "    }\n",
    "\n",
    "    producer.send('users', value=json.dumps(message).encode('utf-8'))\n",
    "    print(message)\n",
    "    time.sleep(10)\n",
    "    "
   ]
  },
  {
   "cell_type": "code",
   "execution_count": null,
   "id": "ca490a23-c24d-433b-a685-cf5f148e9b48",
   "metadata": {},
   "outputs": [],
   "source": []
  }
 ],
 "metadata": {
  "kernelspec": {
   "display_name": "Python 3 (ipykernel)",
   "language": "python",
   "name": "python3"
  },
  "language_info": {
   "codemirror_mode": {
    "name": "ipython",
    "version": 3
   },
   "file_extension": ".py",
   "mimetype": "text/x-python",
   "name": "python",
   "nbconvert_exporter": "python",
   "pygments_lexer": "ipython3",
   "version": "3.10.12"
  }
 },
 "nbformat": 4,
 "nbformat_minor": 5
}
