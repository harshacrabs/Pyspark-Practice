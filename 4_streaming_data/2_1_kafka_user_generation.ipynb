{
 "cells": [
  {
   "cell_type": "code",
   "execution_count": null,
   "id": "aff42b55-b867-4ad3-abeb-cf38609a6e21",
   "metadata": {},
   "outputs": [
    {
     "name": "stdout",
     "output_type": "stream",
     "text": [
      "{'id': 68, 'name': 'user3', 'age': 43, 'gender': 'F', 'country': 'India', 'timestamp': '04/24/2025, 22:30:02'}\n",
      "{'id': 16, 'name': 'user51', 'age': 43, 'gender': 'F', 'country': 'Australia', 'timestamp': '04/24/2025, 22:30:12'}\n",
      "{'id': 36, 'name': 'user14', 'age': 60, 'gender': 'M', 'country': 'Canada', 'timestamp': '04/24/2025, 22:30:22'}\n",
      "{'id': 3, 'name': 'user90', 'age': 50, 'gender': 'F', 'country': 'Australia', 'timestamp': '04/24/2025, 22:30:32'}\n",
      "{'id': 59, 'name': 'user74', 'age': 61, 'gender': 'M', 'country': 'UK', 'timestamp': '04/24/2025, 22:30:42'}\n",
      "{'id': 77, 'name': 'user37', 'age': 36, 'gender': 'M', 'country': 'Australia', 'timestamp': '04/24/2025, 22:30:52'}\n",
      "{'id': 53, 'name': 'user40', 'age': 36, 'gender': 'F', 'country': 'Australia', 'timestamp': '04/24/2025, 22:31:02'}\n",
      "{'id': 10, 'name': 'user23', 'age': 36, 'gender': 'F', 'country': 'UK', 'timestamp': '04/24/2025, 22:31:12'}\n",
      "{'id': 7, 'name': 'user91', 'age': 18, 'gender': 'F', 'country': 'India', 'timestamp': '04/24/2025, 22:31:22'}\n",
      "{'id': 83, 'name': 'user94', 'age': 64, 'gender': 'F', 'country': 'USA', 'timestamp': '04/24/2025, 22:31:32'}\n",
      "{'id': 35, 'name': 'user78', 'age': 40, 'gender': 'F', 'country': 'India', 'timestamp': '04/24/2025, 22:31:42'}\n",
      "{'id': 28, 'name': 'user55', 'age': 28, 'gender': 'M', 'country': 'Canada', 'timestamp': '04/24/2025, 22:31:52'}\n",
      "{'id': 10, 'name': 'user65', 'age': 58, 'gender': 'F', 'country': 'China', 'timestamp': '04/24/2025, 22:32:02'}\n",
      "{'id': 62, 'name': 'user57', 'age': 23, 'gender': 'M', 'country': 'Australia', 'timestamp': '04/24/2025, 22:32:12'}\n",
      "{'id': 97, 'name': 'user1', 'age': 64, 'gender': 'M', 'country': 'Brazil', 'timestamp': '04/24/2025, 22:32:22'}\n",
      "{'id': 29, 'name': 'user66', 'age': 49, 'gender': 'F', 'country': 'India', 'timestamp': '04/24/2025, 22:32:32'}\n",
      "{'id': 97, 'name': 'user15', 'age': 19, 'gender': 'M', 'country': 'Canada', 'timestamp': '04/24/2025, 22:32:42'}\n",
      "{'id': 12, 'name': 'user21', 'age': 50, 'gender': 'F', 'country': 'India', 'timestamp': '04/24/2025, 22:32:52'}\n",
      "{'id': 32, 'name': 'user48', 'age': 61, 'gender': 'F', 'country': 'Brazil', 'timestamp': '04/24/2025, 22:33:02'}\n",
      "{'id': 47, 'name': 'user32', 'age': 62, 'gender': 'M', 'country': 'USA', 'timestamp': '04/24/2025, 22:33:12'}\n",
      "{'id': 85, 'name': 'user37', 'age': 61, 'gender': 'M', 'country': 'China', 'timestamp': '04/24/2025, 22:33:22'}\n",
      "{'id': 57, 'name': 'user50', 'age': 54, 'gender': 'M', 'country': 'Australia', 'timestamp': '04/24/2025, 22:33:32'}\n",
      "{'id': 55, 'name': 'user87', 'age': 30, 'gender': 'M', 'country': 'India', 'timestamp': '04/24/2025, 22:33:42'}\n",
      "{'id': 82, 'name': 'user58', 'age': 33, 'gender': 'M', 'country': 'Canada', 'timestamp': '04/24/2025, 22:33:52'}\n",
      "{'id': 79, 'name': 'user50', 'age': 55, 'gender': 'F', 'country': 'USA', 'timestamp': '04/24/2025, 22:34:02'}\n",
      "{'id': 12, 'name': 'user63', 'age': 32, 'gender': 'M', 'country': 'China', 'timestamp': '04/24/2025, 22:34:12'}\n",
      "{'id': 100, 'name': 'user97', 'age': 55, 'gender': 'F', 'country': 'USA', 'timestamp': '04/24/2025, 22:34:22'}\n",
      "{'id': 94, 'name': 'user81', 'age': 37, 'gender': 'M', 'country': 'Australia', 'timestamp': '04/24/2025, 22:34:32'}\n",
      "{'id': 95, 'name': 'user27', 'age': 18, 'gender': 'F', 'country': 'Canada', 'timestamp': '04/24/2025, 22:34:42'}\n",
      "{'id': 7, 'name': 'user36', 'age': 27, 'gender': 'M', 'country': 'China', 'timestamp': '04/24/2025, 22:34:52'}\n",
      "{'id': 64, 'name': 'user13', 'age': 23, 'gender': 'M', 'country': 'India', 'timestamp': '04/24/2025, 22:35:02'}\n",
      "{'id': 1, 'name': 'user4', 'age': 37, 'gender': 'M', 'country': 'Brazil', 'timestamp': '04/24/2025, 22:35:12'}\n",
      "{'id': 86, 'name': 'user2', 'age': 21, 'gender': 'F', 'country': 'India', 'timestamp': '04/24/2025, 22:35:22'}\n",
      "{'id': 32, 'name': 'user21', 'age': 33, 'gender': 'M', 'country': 'UK', 'timestamp': '04/24/2025, 22:35:32'}\n",
      "{'id': 84, 'name': 'user75', 'age': 36, 'gender': 'M', 'country': 'USA', 'timestamp': '04/24/2025, 22:35:42'}\n",
      "{'id': 40, 'name': 'user56', 'age': 53, 'gender': 'F', 'country': 'UK', 'timestamp': '04/24/2025, 22:35:52'}\n"
     ]
    }
   ],
   "source": [
    "import json\n",
    "import random\n",
    "import time\n",
    "from kafka import KafkaProducer\n",
    "import datetime\n",
    "\n",
    "producer = KafkaProducer(bootstrap_servers = 'kafka:9092')\n",
    "countries = ['USA', 'UK', 'India', 'China', 'Brazil', 'Canada', 'Australia']\n",
    "genders = ['M', 'F']\n",
    "\n",
    "while True:\n",
    "    current_time = time.time()\n",
    "    message = {\n",
    "    'id' : random.randint(1,100),\n",
    "    'name' : f'user{random.randint(1,100)}',\n",
    "    'age': random.randint(18,65),\n",
    "    'gender': random.choice(genders),\n",
    "    'country' : random.choice(countries),\n",
    "    'timestamp':datetime.datetime.fromtimestamp(current_time).strftime(\"%m/%d/%Y, %H:%M:%S\")\n",
    "    }\n",
    "\n",
    "    producer.send('users', value=json.dumps(message).encode('utf-8'))\n",
    "    print(message)\n",
    "    time.sleep(10)\n",
    "    "
   ]
  },
  {
   "cell_type": "code",
   "execution_count": null,
   "id": "ca490a23-c24d-433b-a685-cf5f148e9b48",
   "metadata": {},
   "outputs": [],
   "source": [
    "q"
   ]
  }
 ],
 "metadata": {
  "kernelspec": {
   "display_name": "Python 3 (ipykernel)",
   "language": "python",
   "name": "python3"
  },
  "language_info": {
   "codemirror_mode": {
    "name": "ipython",
    "version": 3
   },
   "file_extension": ".py",
   "mimetype": "text/x-python",
   "name": "python",
   "nbconvert_exporter": "python",
   "pygments_lexer": "ipython3",
   "version": "3.10.12"
  }
 },
 "nbformat": 4,
 "nbformat_minor": 5
}
