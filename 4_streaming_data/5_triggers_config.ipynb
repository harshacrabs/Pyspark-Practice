{
 "cells": [
  {
   "cell_type": "markdown",
   "id": "3b28f3a9-f9b9-4d23-b99e-b63f118ec7e1",
   "metadata": {},
   "source": [
    "## Import libraries"
   ]
  },
  {
   "cell_type": "code",
   "execution_count": 1,
   "id": "083962cb-9122-4496-92b1-36ec99e381b8",
   "metadata": {},
   "outputs": [],
   "source": [
    "from pyspark.sql import SparkSession\n",
    "from delta import configure_spark_with_delta_pip, DeltaTable\n",
    "from pyspark.sql.functions import col, from_json\n",
    "from pyspark.sql.types import StructType, StructField, IntegerType, StringType"
   ]
  },
  {
   "cell_type": "markdown",
   "id": "c3f4190a-feec-4524-84d7-b6c782642fff",
   "metadata": {},
   "source": [
    "## Create SparkSession object"
   ]
  },
  {
   "cell_type": "code",
   "execution_count": 2,
   "id": "2da78c48-1d0d-4714-a1de-2a7786e9edda",
   "metadata": {},
   "outputs": [
    {
     "name": "stdout",
     "output_type": "stream",
     "text": [
      ":: loading settings :: url = jar:file:/usr/local/lib/python3.10/dist-packages/pyspark/jars/ivy-2.5.1.jar!/org/apache/ivy/core/settings/ivysettings.xml\n"
     ]
    },
    {
     "name": "stderr",
     "output_type": "stream",
     "text": [
      "Ivy Default Cache set to: /root/.ivy2/cache\n",
      "The jars for the packages stored in: /root/.ivy2/jars\n",
      "io.delta#delta-core_2.12 added as a dependency\n",
      "org.apache.spark#spark-sql-kafka-0-10_2.12 added as a dependency\n",
      ":: resolving dependencies :: org.apache.spark#spark-submit-parent-9d18aa23-7a8e-459a-95d1-194b7cffabef;1.0\n",
      "\tconfs: [default]\n",
      "\tfound io.delta#delta-core_2.12;2.4.0 in central\n",
      "\tfound io.delta#delta-storage;2.4.0 in central\n",
      "\tfound org.antlr#antlr4-runtime;4.9.3 in central\n",
      "\tfound org.apache.spark#spark-sql-kafka-0-10_2.12;3.4.1 in central\n",
      "\tfound org.apache.spark#spark-token-provider-kafka-0-10_2.12;3.4.1 in central\n",
      "\tfound org.apache.kafka#kafka-clients;3.3.2 in central\n",
      "\tfound org.lz4#lz4-java;1.8.0 in central\n",
      "\tfound org.xerial.snappy#snappy-java;1.1.10.1 in central\n",
      "\tfound org.slf4j#slf4j-api;2.0.6 in central\n",
      "\tfound org.apache.hadoop#hadoop-client-runtime;3.3.4 in central\n",
      "\tfound org.apache.hadoop#hadoop-client-api;3.3.4 in central\n",
      "\tfound commons-logging#commons-logging;1.1.3 in central\n",
      "\tfound com.google.code.findbugs#jsr305;3.0.0 in central\n",
      "\tfound org.apache.commons#commons-pool2;2.11.1 in central\n",
      ":: resolution report :: resolve 219ms :: artifacts dl 9ms\n",
      "\t:: modules in use:\n",
      "\tcom.google.code.findbugs#jsr305;3.0.0 from central in [default]\n",
      "\tcommons-logging#commons-logging;1.1.3 from central in [default]\n",
      "\tio.delta#delta-core_2.12;2.4.0 from central in [default]\n",
      "\tio.delta#delta-storage;2.4.0 from central in [default]\n",
      "\torg.antlr#antlr4-runtime;4.9.3 from central in [default]\n",
      "\torg.apache.commons#commons-pool2;2.11.1 from central in [default]\n",
      "\torg.apache.hadoop#hadoop-client-api;3.3.4 from central in [default]\n",
      "\torg.apache.hadoop#hadoop-client-runtime;3.3.4 from central in [default]\n",
      "\torg.apache.kafka#kafka-clients;3.3.2 from central in [default]\n",
      "\torg.apache.spark#spark-sql-kafka-0-10_2.12;3.4.1 from central in [default]\n",
      "\torg.apache.spark#spark-token-provider-kafka-0-10_2.12;3.4.1 from central in [default]\n",
      "\torg.lz4#lz4-java;1.8.0 from central in [default]\n",
      "\torg.slf4j#slf4j-api;2.0.6 from central in [default]\n",
      "\torg.xerial.snappy#snappy-java;1.1.10.1 from central in [default]\n",
      "\t---------------------------------------------------------------------\n",
      "\t|                  |            modules            ||   artifacts   |\n",
      "\t|       conf       | number| search|dwnlded|evicted|| number|dwnlded|\n",
      "\t---------------------------------------------------------------------\n",
      "\t|      default     |   14  |   0   |   0   |   0   ||   14  |   0   |\n",
      "\t---------------------------------------------------------------------\n",
      ":: retrieving :: org.apache.spark#spark-submit-parent-9d18aa23-7a8e-459a-95d1-194b7cffabef\n",
      "\tconfs: [default]\n",
      "\t0 artifacts copied, 14 already retrieved (0kB/6ms)\n",
      "25/04/24 22:16:35 WARN NativeCodeLoader: Unable to load native-hadoop library for your platform... using builtin-java classes where applicable\n",
      "Setting default log level to \"WARN\".\n",
      "To adjust logging level use sc.setLogLevel(newLevel). For SparkR, use setLogLevel(newLevel).\n"
     ]
    }
   ],
   "source": [
    "builder = (SparkSession.builder\n",
    "           .appName(\"config-triggers\")\n",
    "           .master(\"spark://spark-master:7077\")\n",
    "           .config(\"spark.executor.memory\", \"512m\")\n",
    "           .config(\"spark.sql.extensions\", \"io.delta.sql.DeltaSparkSessionExtension\")\n",
    "           .config(\"spark.sql.catalog.spark_catalog\", \"org.apache.spark.sql.delta.catalog.DeltaCatalog\")\n",
    "          )\n",
    "\n",
    "spark = configure_spark_with_delta_pip(builder, ['org.apache.spark:spark-sql-kafka-0-10_2.12:3.4.1']).getOrCreate()\n",
    "\n",
    "spark.sparkContext.setLogLevel(\"ERROR\")"
   ]
  },
  {
   "cell_type": "markdown",
   "id": "8402efde-e9a7-49ff-9d64-5d595b5b65ae",
   "metadata": {},
   "source": [
    "## Create dataframe"
   ]
  },
  {
   "cell_type": "code",
   "execution_count": 3,
   "id": "85a6fee3-64bb-4388-ad01-3a91e5657d88",
   "metadata": {},
   "outputs": [],
   "source": [
    "df = (spark.readStream.format(\"kafka\")\n",
    "      .option(\"kafka.bootstrap.servers\", \"kafka:9092\")\n",
    "      .option(\"subscribe\", \"users\")\n",
    "      .option(\"startingOffsets\", \"earliest\")\n",
    "      .load()\n",
    "     )\n"
   ]
  },
  {
   "cell_type": "markdown",
   "id": "0a24b5bd-68bc-4dd3-bb06-6a8a87ff1a13",
   "metadata": {},
   "source": [
    "## Parse the JSON messages"
   ]
  },
  {
   "cell_type": "code",
   "execution_count": 5,
   "id": "06f0b77b-1642-4a28-b7b6-bc9c706739fa",
   "metadata": {},
   "outputs": [],
   "source": [
    "schema = (StructType(\n",
    "    [\n",
    "        StructField('id', IntegerType(), True),\n",
    "        StructField('name', StringType(), True),\n",
    "        StructField('age', IntegerType(), True),\n",
    "        StructField('gender', StringType(), True),\n",
    "        StructField('country', StringType(), True)\n",
    "    ]))\n",
    "\n",
    "df = df.withColumn('value', from_json(col('value').cast('STRING'), schema))\n",
    "                   "
   ]
  },
  {
   "cell_type": "markdown",
   "id": "ee0822fd-a4ed-46ca-9878-d547bd376c17",
   "metadata": {},
   "source": [
    "## Extract the nested fields"
   ]
  },
  {
   "cell_type": "code",
   "execution_count": 6,
   "id": "77133338-52db-4a7f-82c0-8cb98a624063",
   "metadata": {},
   "outputs": [],
   "source": [
    "df = (df.select(\n",
    "    col('value.id').alias('id'),\n",
    "    col('value.name').alias('name'),\n",
    "    col('value.age').alias('age'),\n",
    "    col('value.gender').alias('gender'),\n",
    "    col('value.country').alias('country')\n",
    "))\n",
    "\n",
    "\n",
    "    \n",
    "    "
   ]
  },
  {
   "cell_type": "markdown",
   "id": "33d5d1d6-bfec-481d-9b7f-18dcbe82bfe9",
   "metadata": {},
   "source": [
    "## Applying triggers"
   ]
  },
  {
   "cell_type": "raw",
   "id": "cf133569-6654-424b-8ad3-55efca1e2bf4",
   "metadata": {},
   "source": [
    "Default trigger is when we omit the trigger argument in the query. This is equivalent to \n",
    "setting the trigger to trigger(processingTime = '0 seconds')\n",
    "\n",
    "The default trigger executes a micro-batch as soon as the previous one is finished.\n",
    "However, this trigger may increase the latency of a streaming application by introducing \n",
    "variability in the processing time of each micro-batch\n"
   ]
  },
  {
   "cell_type": "code",
   "execution_count": 7,
   "id": "d1e6a9b6-bde8-4971-b1d3-7390c0cf8def",
   "metadata": {},
   "outputs": [
    {
     "name": "stderr",
     "output_type": "stream",
     "text": [
      "                                                                                \r"
     ]
    },
    {
     "name": "stdout",
     "output_type": "stream",
     "text": [
      "-------------------------------------------\n",
      "Batch: 0\n",
      "-------------------------------------------\n",
      "+---+------+---+------+---------+\n",
      "| id|  name|age|gender|  country|\n",
      "+---+------+---+------+---------+\n",
      "| 57|user51| 59|     F|      USA|\n",
      "| 61|user12| 43|     M|    China|\n",
      "| 47|user54| 20|     F|       UK|\n",
      "| 80|user23| 39|     F|       UK|\n",
      "| 42|user40| 57|     F|    China|\n",
      "| 37|user28| 42|     F|   Brazil|\n",
      "| 70|user34| 20|     F|       UK|\n",
      "| 55|user52| 35|     F|    China|\n",
      "| 43|user43| 56|     M|   Brazil|\n",
      "| 14|user65| 46|     F|      USA|\n",
      "| 40|user59| 49|     M|    China|\n",
      "| 82|user35| 33|     F|      USA|\n",
      "| 46| user1| 44|     F|    China|\n",
      "| 97|user83| 59|     M|   Brazil|\n",
      "| 75|user90| 49|     M|    China|\n",
      "| 29|user16| 50|     F|Australia|\n",
      "| 27|user14| 19|     F|   Brazil|\n",
      "| 46|user62| 36|     M|    China|\n",
      "| 67|user76| 29|     F|   Canada|\n",
      "| 22|user88| 64|     M|   Brazil|\n",
      "+---+------+---+------+---------+\n",
      "only showing top 20 rows\n",
      "\n"
     ]
    },
    {
     "name": "stderr",
     "output_type": "stream",
     "text": [
      "                                                                                \r"
     ]
    },
    {
     "name": "stdout",
     "output_type": "stream",
     "text": [
      "-------------------------------------------\n",
      "Batch: 1\n",
      "-------------------------------------------\n",
      "+---+------+---+------+---------+\n",
      "| id|  name|age|gender|  country|\n",
      "+---+------+---+------+---------+\n",
      "| 68| user3| 43|     F|    India|\n",
      "| 16|user51| 43|     F|Australia|\n",
      "+---+------+---+------+---------+\n",
      "\n",
      "-------------------------------------------\n",
      "Batch: 2\n",
      "-------------------------------------------\n",
      "+---+------+---+------+---------+\n",
      "| id|  name|age|gender|  country|\n",
      "+---+------+---+------+---------+\n",
      "| 36|user14| 60|     M|   Canada|\n",
      "|  3|user90| 50|     F|Australia|\n",
      "+---+------+---+------+---------+\n",
      "\n",
      "-------------------------------------------\n",
      "Batch: 3\n",
      "-------------------------------------------\n",
      "+---+------+---+------+---------+\n",
      "| id|  name|age|gender|  country|\n",
      "+---+------+---+------+---------+\n",
      "| 59|user74| 61|     M|       UK|\n",
      "| 77|user37| 36|     M|Australia|\n",
      "+---+------+---+------+---------+\n",
      "\n"
     ]
    }
   ],
   "source": [
    "query = (df.writeStream\n",
    "         .format('console')\n",
    "         .outputMode('append')\n",
    "         .trigger(processingTime= '20 seconds')\n",
    "         .start())"
   ]
  },
  {
   "cell_type": "code",
   "execution_count": 8,
   "id": "1a25d6f5-de1c-4e88-b3cb-a621b585a69d",
   "metadata": {},
   "outputs": [],
   "source": [
    "query.stop()"
   ]
  },
  {
   "cell_type": "markdown",
   "id": "3577a49f-c07a-4800-b391-c0524c3f9517",
   "metadata": {},
   "source": [
    "## Applying one-time trigger"
   ]
  },
  {
   "cell_type": "code",
   "execution_count": 9,
   "id": "b12e09e2-b278-40c1-aaee-08c91b7916ff",
   "metadata": {},
   "outputs": [
    {
     "name": "stdout",
     "output_type": "stream",
     "text": [
      "-------------------------------------------\n",
      "Batch: 0\n",
      "-------------------------------------------\n",
      "+---+------+---+------+---------+\n",
      "| id|  name|age|gender|  country|\n",
      "+---+------+---+------+---------+\n",
      "| 57|user51| 59|     F|      USA|\n",
      "| 61|user12| 43|     M|    China|\n",
      "| 47|user54| 20|     F|       UK|\n",
      "| 80|user23| 39|     F|       UK|\n",
      "| 42|user40| 57|     F|    China|\n",
      "| 37|user28| 42|     F|   Brazil|\n",
      "| 70|user34| 20|     F|       UK|\n",
      "| 55|user52| 35|     F|    China|\n",
      "| 43|user43| 56|     M|   Brazil|\n",
      "| 14|user65| 46|     F|      USA|\n",
      "| 40|user59| 49|     M|    China|\n",
      "| 82|user35| 33|     F|      USA|\n",
      "| 46| user1| 44|     F|    China|\n",
      "| 97|user83| 59|     M|   Brazil|\n",
      "| 75|user90| 49|     M|    China|\n",
      "| 29|user16| 50|     F|Australia|\n",
      "| 27|user14| 19|     F|   Brazil|\n",
      "| 46|user62| 36|     M|    China|\n",
      "| 67|user76| 29|     F|   Canada|\n",
      "| 22|user88| 64|     M|   Brazil|\n",
      "+---+------+---+------+---------+\n",
      "only showing top 20 rows\n",
      "\n"
     ]
    }
   ],
   "source": [
    "query = (df.writeStream\n",
    "         .format('console')\n",
    "         .outputMode('append')\n",
    "         .trigger(once=True)\n",
    "         .start())\n",
    "\n"
   ]
  },
  {
   "cell_type": "code",
   "execution_count": 10,
   "id": "ef13a0f2-d508-4d91-9a12-0c386d1748bd",
   "metadata": {},
   "outputs": [],
   "source": [
    "query.stop()"
   ]
  },
  {
   "cell_type": "code",
   "execution_count": null,
   "id": "041988b7-9619-4ccc-accf-9eef4e74d43d",
   "metadata": {},
   "outputs": [],
   "source": [
    "spark.stop()"
   ]
  }
 ],
 "metadata": {
  "kernelspec": {
   "display_name": "Python 3 (ipykernel)",
   "language": "python",
   "name": "python3"
  },
  "language_info": {
   "codemirror_mode": {
    "name": "ipython",
    "version": 3
   },
   "file_extension": ".py",
   "mimetype": "text/x-python",
   "name": "python",
   "nbconvert_exporter": "python",
   "pygments_lexer": "ipython3",
   "version": "3.10.12"
  }
 },
 "nbformat": 4,
 "nbformat_minor": 5
}
