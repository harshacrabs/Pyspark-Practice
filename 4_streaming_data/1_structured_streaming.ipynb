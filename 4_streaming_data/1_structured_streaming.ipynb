{
 "cells": [
  {
   "cell_type": "markdown",
   "id": "dd2c8669-57be-4935-9ce7-4773da81b92f",
   "metadata": {},
   "source": [
    "## Import libraries"
   ]
  },
  {
   "cell_type": "code",
   "execution_count": 1,
   "id": "76e4480a-daf1-4780-a02c-bc7a83d925b1",
   "metadata": {},
   "outputs": [],
   "source": [
    "from pyspark.sql import SparkSession\n",
    "from pyspark.sql.functions import explode, split"
   ]
  },
  {
   "cell_type": "markdown",
   "id": "08414277-f646-4e2e-b7ba-83ee0ecbc682",
   "metadata": {},
   "source": [
    "## Create a SparkSession object"
   ]
  },
  {
   "cell_type": "code",
   "execution_count": 2,
   "id": "860c33ff-07ae-4c61-b55f-068246406407",
   "metadata": {},
   "outputs": [
    {
     "name": "stderr",
     "output_type": "stream",
     "text": [
      "Setting default log level to \"WARN\".\n",
      "To adjust logging level use sc.setLogLevel(newLevel). For SparkR, use setLogLevel(newLevel).\n",
      "25/04/11 11:12:55 WARN NativeCodeLoader: Unable to load native-hadoop library for your platform... using builtin-java classes where applicable\n"
     ]
    }
   ],
   "source": [
    "spark = (SparkSession.builder\n",
    "         .appName(\"config-streaming\")\n",
    "         .master(\"spark://spark-master:7077\")\n",
    "         .config(\"spark.executor.memory\", \"512m\")\n",
    "         .getOrCreate()\n",
    "        )\n",
    "\n",
    "spark.sparkContext.setLogLevel(\"ERROR\")"
   ]
  },
  {
   "cell_type": "markdown",
   "id": "4cc80711-f29a-4e0e-9b70-863168169ae3",
   "metadata": {},
   "source": [
    "## Create a streaming Dataframe that represents the input data from the source"
   ]
  },
  {
   "cell_type": "markdown",
   "id": "a7c0cf1b-2732-43d4-b359-56864e86a9fb",
   "metadata": {},
   "source": [
    "### Using \"readStream\" method"
   ]
  },
  {
   "cell_type": "code",
   "execution_count": 3,
   "id": "5703d5c0-49a5-455d-99ce-b5a5599aac3b",
   "metadata": {},
   "outputs": [],
   "source": [
    "lines = (spark.readStream\n",
    "         .format(\"socket\")\n",
    "         .option(\"host\", \"localhost\")\n",
    "         .option(\"port\", 9999)\n",
    "         .load()\n",
    "        )"
   ]
  },
  {
   "cell_type": "markdown",
   "id": "35ddf243-a6c7-427d-bbcd-0c6cdc1f41ac",
   "metadata": {},
   "source": [
    "## Apply transformations"
   ]
  },
  {
   "cell_type": "markdown",
   "id": "bccfc6c0-7a0c-4bb1-a694-c2f610cec476",
   "metadata": {},
   "source": [
    "### Split the lines into words"
   ]
  },
  {
   "cell_type": "code",
   "execution_count": 5,
   "id": "3a3875dd-b8b4-4cba-8647-0d852ac2a7ca",
   "metadata": {},
   "outputs": [],
   "source": [
    "words = lines.select(explode(split(lines.value, \" \")).alias(\"word\"))"
   ]
  },
  {
   "cell_type": "markdown",
   "id": "68bb2aef-7902-48f2-9859-6634f27c8e8d",
   "metadata": {},
   "source": [
    "## Aggregation on streaming Dataframe using groupBy"
   ]
  },
  {
   "cell_type": "markdown",
   "id": "f90cd68f-7a2c-407d-ae4c-3a17ab7efb2a",
   "metadata": {},
   "source": [
    "### Generate a running word count"
   ]
  },
  {
   "cell_type": "code",
   "execution_count": 6,
   "id": "818b978e-14f5-4775-8956-4d8d9a05404e",
   "metadata": {},
   "outputs": [],
   "source": [
    "wordCounts = words.groupBy(\"word\").count()"
   ]
  },
  {
   "cell_type": "markdown",
   "id": "2405d0ae-ad11-4d9e-9bbb-af3fbac1317f",
   "metadata": {},
   "source": [
    "## Output the running counts to the console"
   ]
  },
  {
   "cell_type": "code",
   "execution_count": 7,
   "id": "a18a61da-6d40-46ff-bfce-5d74c16e7eb8",
   "metadata": {},
   "outputs": [
    {
     "name": "stderr",
     "output_type": "stream",
     "text": [
      "                                                                                \r"
     ]
    },
    {
     "name": "stdout",
     "output_type": "stream",
     "text": [
      "-------------------------------------------\n",
      "Batch: 0\n",
      "-------------------------------------------\n",
      "+----+-----+\n",
      "|word|count|\n",
      "+----+-----+\n",
      "+----+-----+\n",
      "\n"
     ]
    },
    {
     "name": "stderr",
     "output_type": "stream",
     "text": [
      "                                                                                \r"
     ]
    },
    {
     "name": "stdout",
     "output_type": "stream",
     "text": [
      "-------------------------------------------\n",
      "Batch: 1\n",
      "-------------------------------------------\n",
      "+------------+-----+\n",
      "|        word|count|\n",
      "+------------+-----+\n",
      "|        Data|    2|\n",
      "|    overview|    1|\n",
      "|Fundamentals|    1|\n",
      "|      stream|    1|\n",
      "|          by|    2|\n",
      "|       solve|    1|\n",
      "|         you|    1|\n",
      "|   landscape|    1|\n",
      "|    systems.|    1|\n",
      "|replication,|    1|\n",
      "|         for|    1|\n",
      "|         Joe|    1|\n",
      "|  tolerance,|    1|\n",
      "|    provides|    1|\n",
      "|        Reis|    1|\n",
      "|      topics|    1|\n",
      "|   practices|    1|\n",
      "|       model|    1|\n",
      "|     concise|    1|\n",
      "| distributed|    1|\n",
      "+------------+-----+\n",
      "only showing top 20 rows\n",
      "\n"
     ]
    },
    {
     "name": "stderr",
     "output_type": "stream",
     "text": [
      "                                                                                \r"
     ]
    },
    {
     "name": "stdout",
     "output_type": "stream",
     "text": [
      "-------------------------------------------\n",
      "Batch: 2\n",
      "-------------------------------------------\n",
      "+------------+-----+\n",
      "|        word|count|\n",
      "+------------+-----+\n",
      "|   Dynamical|    1|\n",
      "|        Data|    2|\n",
      "|     complex|    1|\n",
      "|    overview|    1|\n",
      "|     Science|    1|\n",
      "|Fundamentals|    1|\n",
      "|      stream|    1|\n",
      "|      Nathan|    1|\n",
      "|          by|    3|\n",
      "|       solve|    2|\n",
      "|         you|    2|\n",
      "|   landscape|    1|\n",
      "|          L.|    1|\n",
      "|    systems.|    1|\n",
      "|       apply|    1|\n",
      "|replication,|    1|\n",
      "|         for|    1|\n",
      "|         Joe|    1|\n",
      "|         how|    1|\n",
      "|  reduction,|    1|\n",
      "+------------+-----+\n",
      "only showing top 20 rows\n",
      "\n"
     ]
    },
    {
     "name": "stderr",
     "output_type": "stream",
     "text": [
      "                                                                                \r"
     ]
    },
    {
     "name": "stdout",
     "output_type": "stream",
     "text": [
      "-------------------------------------------\n",
      "Batch: 3\n",
      "-------------------------------------------\n",
      "+------------+-----+\n",
      "|        word|count|\n",
      "+------------+-----+\n",
      "|   Dynamical|    1|\n",
      "|        Data|    2|\n",
      "|     complex|    1|\n",
      "|    overview|    1|\n",
      "|     Science|    1|\n",
      "|Fundamentals|    1|\n",
      "|      stream|    1|\n",
      "|      Nathan|    1|\n",
      "|          by|    3|\n",
      "|       solve|    2|\n",
      "|         you|    2|\n",
      "|   landscape|    1|\n",
      "|          L.|    1|\n",
      "|    systems.|    1|\n",
      "|       apply|    1|\n",
      "|replication,|    1|\n",
      "|         for|    1|\n",
      "|         Joe|    1|\n",
      "|         how|    1|\n",
      "|  tolerance,|    1|\n",
      "+------------+-----+\n",
      "only showing top 20 rows\n",
      "\n"
     ]
    },
    {
     "name": "stderr",
     "output_type": "stream",
     "text": [
      "                                                                                \r"
     ]
    },
    {
     "name": "stdout",
     "output_type": "stream",
     "text": [
      "-------------------------------------------\n",
      "Batch: 4\n",
      "-------------------------------------------\n",
      "+------------+-----+\n",
      "|        word|count|\n",
      "+------------+-----+\n",
      "|   Dynamical|    1|\n",
      "|        Data|    3|\n",
      "|     complex|    1|\n",
      "|    overview|    1|\n",
      "|     Science|    1|\n",
      "|Fundamentals|    1|\n",
      "|      stream|    1|\n",
      "|      Nathan|    1|\n",
      "|          by|    3|\n",
      "|       solve|    2|\n",
      "|         new|    1|\n",
      "|         you|    2|\n",
      "|   landscape|    1|\n",
      "|          L.|    1|\n",
      "|    systems.|    1|\n",
      "|       apply|    1|\n",
      "|replication,|    1|\n",
      "|         for|    1|\n",
      "|         Joe|    1|\n",
      "|         how|    1|\n",
      "+------------+-----+\n",
      "only showing top 20 rows\n",
      "\n"
     ]
    },
    {
     "name": "stderr",
     "output_type": "stream",
     "text": [
      "                                                                                \r"
     ]
    },
    {
     "name": "stdout",
     "output_type": "stream",
     "text": [
      "-------------------------------------------\n",
      "Batch: 5\n",
      "-------------------------------------------\n",
      "+------------+-----+\n",
      "|        word|count|\n",
      "+------------+-----+\n",
      "|   Dynamical|    1|\n",
      "|        Data|    4|\n",
      "|     complex|    1|\n",
      "|    overview|    1|\n",
      "|      demand|    1|\n",
      "|     Science|    1|\n",
      "|Fundamentals|    1|\n",
      "|      stream|    1|\n",
      "|      Nathan|    1|\n",
      "|          by|    3|\n",
      "|       solve|    2|\n",
      "|         you|    2|\n",
      "|         new|    1|\n",
      "|   landscape|    1|\n",
      "|        more|    1|\n",
      "|          L.|    1|\n",
      "|    systems.|    1|\n",
      "|       apply|    1|\n",
      "|replication,|    1|\n",
      "|         for|    1|\n",
      "+------------+-----+\n",
      "only showing top 20 rows\n",
      "\n"
     ]
    }
   ],
   "source": [
    "query = (wordCounts.writeStream\n",
    "         .outputMode(\"complete\")\n",
    "         .format(\"console\")\n",
    "         .start()\n",
    "        )"
   ]
  },
  {
   "cell_type": "markdown",
   "id": "9ca83ebc-2a25-470c-b4c0-710a2124120e",
   "metadata": {},
   "source": [
    "## Stop the query"
   ]
  },
  {
   "cell_type": "code",
   "execution_count": 8,
   "id": "dfa95d16-d4db-46d2-b1b0-189e5838d51b",
   "metadata": {},
   "outputs": [],
   "source": [
    "query.stop()"
   ]
  },
  {
   "cell_type": "markdown",
   "id": "f3c534db-7905-4453-a734-503e50440af2",
   "metadata": {},
   "source": [
    "## Stop the spark session"
   ]
  },
  {
   "cell_type": "code",
   "execution_count": 9,
   "id": "168aa8bb-21b3-48e9-9635-1a7610c1ddf6",
   "metadata": {},
   "outputs": [],
   "source": [
    "spark.stop()"
   ]
  },
  {
   "cell_type": "code",
   "execution_count": null,
   "id": "db0cb043-b1d0-4be1-942e-f4c4b36e804d",
   "metadata": {},
   "outputs": [],
   "source": []
  }
 ],
 "metadata": {
  "kernelspec": {
   "display_name": "Python 3 (ipykernel)",
   "language": "python",
   "name": "python3"
  },
  "language_info": {
   "codemirror_mode": {
    "name": "ipython",
    "version": 3
   },
   "file_extension": ".py",
   "mimetype": "text/x-python",
   "name": "python",
   "nbconvert_exporter": "python",
   "pygments_lexer": "ipython3",
   "version": "3.10.12"
  }
 },
 "nbformat": 4,
 "nbformat_minor": 5
}
