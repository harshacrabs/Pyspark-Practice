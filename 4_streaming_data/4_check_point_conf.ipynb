{
 "cells": [
  {
   "cell_type": "markdown",
   "id": "1d880019-e962-4738-ae22-d561d62a3c4f",
   "metadata": {},
   "source": [
    "## Import libraries"
   ]
  },
  {
   "cell_type": "code",
   "execution_count": 1,
   "id": "3afac002-7964-47ee-88ca-a227b83578ca",
   "metadata": {},
   "outputs": [],
   "source": [
    "from pyspark.sql import SparkSession\n",
    "from pyspark.sql.functions import col, from_json\n",
    "from delta import configure_spark_with_delta_pip\n",
    "from pyspark.sql.types import StructField, StructType, IntegerType, StringType"
   ]
  },
  {
   "cell_type": "markdown",
   "id": "4e1cebce-6dae-4d46-8bd2-5cb27272f4c7",
   "metadata": {},
   "source": [
    "## Create a spark session object"
   ]
  },
  {
   "cell_type": "code",
   "execution_count": 2,
   "id": "52c7bb46-0948-455e-b285-b81bc2a33195",
   "metadata": {},
   "outputs": [
    {
     "name": "stdout",
     "output_type": "stream",
     "text": [
      ":: loading settings :: url = jar:file:/usr/local/lib/python3.10/dist-packages/pyspark/jars/ivy-2.5.1.jar!/org/apache/ivy/core/settings/ivysettings.xml\n"
     ]
    },
    {
     "name": "stderr",
     "output_type": "stream",
     "text": [
      "Ivy Default Cache set to: /root/.ivy2/cache\n",
      "The jars for the packages stored in: /root/.ivy2/jars\n",
      "io.delta#delta-core_2.12 added as a dependency\n",
      "org.apache.spark#spark-sql-kafka-0-10_2.12 added as a dependency\n",
      ":: resolving dependencies :: org.apache.spark#spark-submit-parent-5155e3c6-bb72-4f13-ba3d-58f38a058eb1;1.0\n",
      "\tconfs: [default]\n",
      "\tfound io.delta#delta-core_2.12;2.4.0 in central\n",
      "\tfound io.delta#delta-storage;2.4.0 in central\n",
      "\tfound org.antlr#antlr4-runtime;4.9.3 in central\n",
      "\tfound org.apache.spark#spark-sql-kafka-0-10_2.12;3.4.1 in central\n",
      "\tfound org.apache.spark#spark-token-provider-kafka-0-10_2.12;3.4.1 in central\n",
      "\tfound org.apache.kafka#kafka-clients;3.3.2 in central\n",
      "\tfound org.lz4#lz4-java;1.8.0 in central\n",
      "\tfound org.xerial.snappy#snappy-java;1.1.10.1 in central\n",
      "\tfound org.slf4j#slf4j-api;2.0.6 in central\n",
      "\tfound org.apache.hadoop#hadoop-client-runtime;3.3.4 in central\n",
      "\tfound org.apache.hadoop#hadoop-client-api;3.3.4 in central\n",
      "\tfound commons-logging#commons-logging;1.1.3 in central\n",
      "\tfound com.google.code.findbugs#jsr305;3.0.0 in central\n",
      "\tfound org.apache.commons#commons-pool2;2.11.1 in central\n",
      ":: resolution report :: resolve 209ms :: artifacts dl 5ms\n",
      "\t:: modules in use:\n",
      "\tcom.google.code.findbugs#jsr305;3.0.0 from central in [default]\n",
      "\tcommons-logging#commons-logging;1.1.3 from central in [default]\n",
      "\tio.delta#delta-core_2.12;2.4.0 from central in [default]\n",
      "\tio.delta#delta-storage;2.4.0 from central in [default]\n",
      "\torg.antlr#antlr4-runtime;4.9.3 from central in [default]\n",
      "\torg.apache.commons#commons-pool2;2.11.1 from central in [default]\n",
      "\torg.apache.hadoop#hadoop-client-api;3.3.4 from central in [default]\n",
      "\torg.apache.hadoop#hadoop-client-runtime;3.3.4 from central in [default]\n",
      "\torg.apache.kafka#kafka-clients;3.3.2 from central in [default]\n",
      "\torg.apache.spark#spark-sql-kafka-0-10_2.12;3.4.1 from central in [default]\n",
      "\torg.apache.spark#spark-token-provider-kafka-0-10_2.12;3.4.1 from central in [default]\n",
      "\torg.lz4#lz4-java;1.8.0 from central in [default]\n",
      "\torg.slf4j#slf4j-api;2.0.6 from central in [default]\n",
      "\torg.xerial.snappy#snappy-java;1.1.10.1 from central in [default]\n",
      "\t---------------------------------------------------------------------\n",
      "\t|                  |            modules            ||   artifacts   |\n",
      "\t|       conf       | number| search|dwnlded|evicted|| number|dwnlded|\n",
      "\t---------------------------------------------------------------------\n",
      "\t|      default     |   14  |   0   |   0   |   0   ||   14  |   0   |\n",
      "\t---------------------------------------------------------------------\n",
      ":: retrieving :: org.apache.spark#spark-submit-parent-5155e3c6-bb72-4f13-ba3d-58f38a058eb1\n",
      "\tconfs: [default]\n",
      "\t0 artifacts copied, 14 already retrieved (0kB/4ms)\n",
      "25/04/23 23:12:25 WARN NativeCodeLoader: Unable to load native-hadoop library for your platform... using builtin-java classes where applicable\n",
      "Setting default log level to \"WARN\".\n",
      "To adjust logging level use sc.setLogLevel(newLevel). For SparkR, use setLogLevel(newLevel).\n"
     ]
    }
   ],
   "source": [
    "builder = (SparkSession.builder\n",
    "           .appName(\"config-check-point\")\n",
    "           .master(\"spark://spark-master:7077\")\n",
    "           .config(\"spark.executor.memory\", \"512m\")\n",
    "           .config(\"spark.sql.extensions\", \"io.delta.sql.DeltaSparkSessionExtension\")\n",
    "           .config(\"spark.sql.catalog.spark_catalog\", \"org.apache.spark.sql.delta.catalog.DeltaCatalog\")\n",
    "          )\n",
    "\n",
    "spark = configure_spark_with_delta_pip(builder, ['org.apache.spark:spark-sql-kafka-0-10_2.12:3.4.1']).getOrCreate()\n",
    "\n",
    "spark.sparkContext.setLogLevel(\"ERROR\")"
   ]
  },
  {
   "cell_type": "markdown",
   "id": "5e11af32-5100-4c26-918d-3906707c29d1",
   "metadata": {},
   "source": [
    "## Create dataframe"
   ]
  },
  {
   "cell_type": "code",
   "execution_count": 4,
   "id": "59df3327-f00d-476d-bee0-56ab823ad329",
   "metadata": {},
   "outputs": [],
   "source": [
    "df = (spark.readStream\n",
    "      .format(\"kafka\")\n",
    "      .option(\"kafka.bootstrap.servers\", \"kafka:9092\")\n",
    "      .option(\"subscribe\", \"users\")\n",
    "      .option(\"startingOffsets\", \"earliest\")\n",
    "      .load()\n",
    "     )\n",
    "      "
   ]
  },
  {
   "cell_type": "markdown",
   "id": "882adb40-95b7-49b8-9795-ba7098dbe152",
   "metadata": {},
   "source": [
    "## Parse the Json messages"
   ]
  },
  {
   "cell_type": "code",
   "execution_count": 5,
   "id": "e7adcabd-96a8-4526-a180-d4509b5835ad",
   "metadata": {},
   "outputs": [],
   "source": [
    "schema = (StructType(\n",
    "            [\n",
    "                StructField('id', IntegerType(), True),\n",
    "                StructField('name', StringType(), True),\n",
    "                StructField('age', IntegerType(), True),\n",
    "                StructField('gender', StringType(), True),\n",
    "                StructField('country', StringType(), True)\n",
    "            ]))\n",
    "\n",
    "df = df.withColumn('value', from_json(col('value').cast('STRING'), schema))\n",
    "        "
   ]
  },
  {
   "cell_type": "markdown",
   "id": "901b837a-a803-4ea9-80e5-4989f481184c",
   "metadata": {},
   "source": [
    "## Extract the nested fields"
   ]
  },
  {
   "cell_type": "code",
   "execution_count": 8,
   "id": "d0726251-8455-4af1-83da-2ab7722b4943",
   "metadata": {},
   "outputs": [],
   "source": [
    "df = (df.select(\n",
    "    col('value.id').alias('id'),\n",
    "    col('value.name').alias('name'),\n",
    "    col('value.age').alias('age'),\n",
    "    col('value.gender').alias('gender'),\n",
    "    col('value.country').alias('country')\n",
    "))\n",
    "    \n",
    "    \n",
    "    \n",
    "    "
   ]
  },
  {
   "cell_type": "markdown",
   "id": "ce3e0f47-283b-432b-ace6-d88dc84a65c6",
   "metadata": {},
   "source": [
    "## Write the streaming data to a Delta Lake table"
   ]
  },
  {
   "cell_type": "code",
   "execution_count": 9,
   "id": "32f861cd-39c7-4f76-aea1-92cadaae46c9",
   "metadata": {},
   "outputs": [
    {
     "name": "stderr",
     "output_type": "stream",
     "text": [
      "                                                                                \r"
     ]
    },
    {
     "name": "stdout",
     "output_type": "stream",
     "text": [
      "-------------------------------------------\n",
      "Batch: 0\n",
      "-------------------------------------------\n",
      "+---+------+---+------+---------+\n",
      "| id|  name|age|gender|  country|\n",
      "+---+------+---+------+---------+\n",
      "| 57|user51| 59|     F|      USA|\n",
      "| 61|user12| 43|     M|    China|\n",
      "| 47|user54| 20|     F|       UK|\n",
      "| 80|user23| 39|     F|       UK|\n",
      "| 42|user40| 57|     F|    China|\n",
      "| 37|user28| 42|     F|   Brazil|\n",
      "| 70|user34| 20|     F|       UK|\n",
      "| 55|user52| 35|     F|    China|\n",
      "| 43|user43| 56|     M|   Brazil|\n",
      "| 14|user65| 46|     F|      USA|\n",
      "| 40|user59| 49|     M|    China|\n",
      "| 82|user35| 33|     F|      USA|\n",
      "| 46| user1| 44|     F|    China|\n",
      "| 97|user83| 59|     M|   Brazil|\n",
      "| 75|user90| 49|     M|    China|\n",
      "| 29|user16| 50|     F|Australia|\n",
      "| 27|user14| 19|     F|   Brazil|\n",
      "| 46|user62| 36|     M|    China|\n",
      "| 67|user76| 29|     F|   Canada|\n",
      "| 22|user88| 64|     M|   Brazil|\n",
      "+---+------+---+------+---------+\n",
      "only showing top 20 rows\n",
      "\n"
     ]
    },
    {
     "name": "stderr",
     "output_type": "stream",
     "text": [
      "                                                                                \r"
     ]
    },
    {
     "name": "stdout",
     "output_type": "stream",
     "text": [
      "-------------------------------------------\n",
      "Batch: 1\n",
      "-------------------------------------------\n",
      "+---+------+---+------+-------+\n",
      "| id|  name|age|gender|country|\n",
      "+---+------+---+------+-------+\n",
      "| 83|user96| 28|     F|    USA|\n",
      "+---+------+---+------+-------+\n",
      "\n"
     ]
    },
    {
     "name": "stderr",
     "output_type": "stream",
     "text": [
      "                                                                                \r"
     ]
    },
    {
     "name": "stdout",
     "output_type": "stream",
     "text": [
      "-------------------------------------------\n",
      "Batch: 2\n",
      "-------------------------------------------\n",
      "+---+------+---+------+-------+\n",
      "| id|  name|age|gender|country|\n",
      "+---+------+---+------+-------+\n",
      "| 88|user76| 63|     M|  India|\n",
      "+---+------+---+------+-------+\n",
      "\n",
      "-------------------------------------------\n",
      "Batch: 3\n",
      "-------------------------------------------\n",
      "+---+------+---+------+-------+\n",
      "| id|  name|age|gender|country|\n",
      "+---+------+---+------+-------+\n",
      "| 88|user48| 37|     F|  China|\n",
      "+---+------+---+------+-------+\n",
      "\n",
      "-------------------------------------------\n",
      "Batch: 4\n",
      "-------------------------------------------\n",
      "+---+------+---+------+---------+\n",
      "| id|  name|age|gender|  country|\n",
      "+---+------+---+------+---------+\n",
      "| 12|user58| 51|     M|Australia|\n",
      "+---+------+---+------+---------+\n",
      "\n",
      "-------------------------------------------\n",
      "Batch: 5\n",
      "-------------------------------------------\n",
      "+---+-----+---+------+-------+\n",
      "| id| name|age|gender|country|\n",
      "+---+-----+---+------+-------+\n",
      "| 81|user4| 52|     F|  India|\n",
      "+---+-----+---+------+-------+\n",
      "\n",
      "-------------------------------------------\n",
      "Batch: 6\n",
      "-------------------------------------------\n",
      "+---+------+---+------+-------+\n",
      "| id|  name|age|gender|country|\n",
      "+---+------+---+------+-------+\n",
      "| 54|user24| 19|     M|  China|\n",
      "+---+------+---+------+-------+\n",
      "\n",
      "-------------------------------------------\n",
      "Batch: 7\n",
      "-------------------------------------------\n",
      "+---+------+---+------+-------+\n",
      "| id|  name|age|gender|country|\n",
      "+---+------+---+------+-------+\n",
      "| 68|user65| 30|     M| Brazil|\n",
      "+---+------+---+------+-------+\n",
      "\n",
      "-------------------------------------------\n",
      "Batch: 8\n",
      "-------------------------------------------\n",
      "+---+------+---+------+-------+\n",
      "| id|  name|age|gender|country|\n",
      "+---+------+---+------+-------+\n",
      "| 85|user39| 47|     F|  India|\n",
      "+---+------+---+------+-------+\n",
      "\n",
      "-------------------------------------------\n",
      "Batch: 9\n",
      "-------------------------------------------\n",
      "+---+------+---+------+-------+\n",
      "| id|  name|age|gender|country|\n",
      "+---+------+---+------+-------+\n",
      "| 20|user24| 56|     F|  China|\n",
      "+---+------+---+------+-------+\n",
      "\n"
     ]
    }
   ],
   "source": [
    "query = (df.writeStream\n",
    "         .format('console')\n",
    "         .outputMode('append')\n",
    "         .option('checkpointLocation', '/opt/workspace/data/checkpoint')\n",
    "         .start())\n",
    "         "
   ]
  },
  {
   "cell_type": "code",
   "execution_count": 10,
   "id": "36c08e27-8393-4cd1-873b-a0562ce2d205",
   "metadata": {},
   "outputs": [],
   "source": [
    "query.stop()\n"
   ]
  },
  {
   "cell_type": "code",
   "execution_count": 11,
   "id": "108f7bdb-7bfd-423b-a8ea-bb73ddf4aa01",
   "metadata": {},
   "outputs": [],
   "source": [
    "spark.stop()"
   ]
  },
  {
   "cell_type": "code",
   "execution_count": null,
   "id": "8a9f0c00-d4c5-4880-be1b-1a6bf48d1625",
   "metadata": {},
   "outputs": [],
   "source": []
  }
 ],
 "metadata": {
  "kernelspec": {
   "display_name": "Python 3 (ipykernel)",
   "language": "python",
   "name": "python3"
  },
  "language_info": {
   "codemirror_mode": {
    "name": "ipython",
    "version": 3
   },
   "file_extension": ".py",
   "mimetype": "text/x-python",
   "name": "python",
   "nbconvert_exporter": "python",
   "pygments_lexer": "ipython3",
   "version": "3.10.12"
  }
 },
 "nbformat": 4,
 "nbformat_minor": 5
}
