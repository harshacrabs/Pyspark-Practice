{
 "cells": [
  {
   "cell_type": "code",
   "execution_count": 1,
   "id": "7f2d17a0-534c-426b-ad0b-84bfe6dc2a2d",
   "metadata": {},
   "outputs": [],
   "source": [
    "from pyspark.sql import SparkSession"
   ]
  },
  {
   "cell_type": "code",
   "execution_count": 2,
   "id": "92a985d2-29f3-4812-a0d7-2add62bd372e",
   "metadata": {},
   "outputs": [],
   "source": [
    "from pyspark.sql.functions import *"
   ]
  },
  {
   "cell_type": "code",
   "execution_count": 3,
   "id": "e56badd8-4414-4bff-a591-f3df0a02b24b",
   "metadata": {},
   "outputs": [
    {
     "name": "stderr",
     "output_type": "stream",
     "text": [
      "Setting default log level to \"WARN\".\n",
      "To adjust logging level use sc.setLogLevel(newLevel). For SparkR, use setLogLevel(newLevel).\n",
      "25/03/29 17:22:28 WARN NativeCodeLoader: Unable to load native-hadoop library for your platform... using builtin-java classes where applicable\n"
     ]
    }
   ],
   "source": [
    "spark = (SparkSession.builder\n",
    "         .appName(\"write-data-pyspark\")\n",
    "         .master(\"spark://spark-master:7077\")\n",
    "         .config(\"spark.executor.memory\", \"512m\")\n",
    "         .getOrCreate())"
   ]
  },
  {
   "cell_type": "code",
   "execution_count": 4,
   "id": "db6499d0-8dc1-434a-be15-e50c97ea3370",
   "metadata": {},
   "outputs": [],
   "source": [
    "df = (spark.read.format(\"csv\")\n",
    "      .option(\"header\", \"true\")\n",
    "      .load(\"../../data/netflix_titles.csv\")\n",
    "     )"
   ]
  },
  {
   "cell_type": "markdown",
   "id": "b319c251-ee3e-4aac-ba1b-d22d47d03d14",
   "metadata": {},
   "source": [
    "## Write the csv data"
   ]
  },
  {
   "cell_type": "code",
   "execution_count": 5,
   "id": "1684b9b8-ceec-4451-978e-dd8dbe65aef1",
   "metadata": {},
   "outputs": [
    {
     "name": "stderr",
     "output_type": "stream",
     "text": [
      "                                                                                \r"
     ]
    }
   ],
   "source": [
    "(df.write.format(\"csv\")\n",
    " .option(\"header\", \"true\")\n",
    " .mode(\"overwrite\")\n",
    " .option(\"delimiter\", \",\")\n",
    " .save(\"./saved_data/netflix_csv_data\"))"
   ]
  },
  {
   "cell_type": "raw",
   "id": "0829a9fd-34ae-48a3-bcd6-458ffb5cc06a",
   "metadata": {},
   "source": [
    "Note\n",
    "\n",
    "\n",
    "The mode parameter controls what happens if the data or table exists. The four modes are\n",
    "the following:\n",
    "• overwrite: Replaces the old data with the new one but drops indexes and constraints\n",
    "• append: Adds new rows to the old data without changing or deleting it\n",
    "• ignore: Skips the write if the data or table exists, avoiding duplicates\n",
    "• \u0007 error or errorifexists: Fails the write if the data or table exists, preventing\n",
    "overwriting or appending"
   ]
  },
  {
   "cell_type": "markdown",
   "id": "bd297756-e7f7-4083-8c01-0d0fcafa53e9",
   "metadata": {},
   "source": [
    "## Write the dataframe to JSON format"
   ]
  },
  {
   "cell_type": "code",
   "execution_count": 6,
   "id": "8dc82a72-ad9e-421e-ba00-1e866cdb2556",
   "metadata": {},
   "outputs": [],
   "source": [
    "(df.write.format(\"json\")\n",
    " .mode(\"overwrite\")\n",
    " .save(\"./saved_data/netflix_json_data\"))"
   ]
  },
  {
   "cell_type": "markdown",
   "id": "e50db952-c80a-46cd-8df8-0f6b470d0ac6",
   "metadata": {},
   "source": [
    "## Write dataframe to Parquet format"
   ]
  },
  {
   "cell_type": "code",
   "execution_count": null,
   "id": "900b1a42-b6c9-45d7-b6e2-2558347254f8",
   "metadata": {},
   "outputs": [],
   "source": [
    "(df.write.format(\"parquet\")\n",
    " .mode(\"overwrite\")\n",
    " .save(\"./saved_data/netflix_parquet_"
   ]
  }
 ],
 "metadata": {
  "kernelspec": {
   "display_name": "Python 3 (ipykernel)",
   "language": "python",
   "name": "python3"
  },
  "language_info": {
   "codemirror_mode": {
    "name": "ipython",
    "version": 3
   },
   "file_extension": ".py",
   "mimetype": "text/x-python",
   "name": "python",
   "nbconvert_exporter": "python",
   "pygments_lexer": "ipython3",
   "version": "3.10.12"
  }
 },
 "nbformat": 4,
 "nbformat_minor": 5
}
